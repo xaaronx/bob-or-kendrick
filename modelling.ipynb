{
 "cells": [
  {
   "cell_type": "markdown",
   "metadata": {},
   "source": [
    "# Bob or Kendrick\n",
    "\n",
    "Two of the great wordsmiths of the modern era. Any fan would be able discern the artist from the lyrics, but can a machine?\n",
    "\n",
    "This notebook will look to adopt a few different methods to answer this question.\n",
    "\n",
    "Methods:\n",
    "- Sentiment-based\n",
    "- Language-based\n",
    "\n",
    "The basic version of the model will"
   ]
  },
  {
   "cell_type": "code",
   "execution_count": 452,
   "metadata": {
    "ExecuteTime": {
     "end_time": "2020-04-23T12:56:53.756576Z",
     "start_time": "2020-04-23T12:56:53.640118Z"
    }
   },
   "outputs": [],
   "source": [
    "import pandas as pd\n",
    "import numpy as np\n",
    "import re\n",
    "\n",
    "import seaborn as sns\n",
    "import matplotlib.pyplot as plt\n",
    "\n",
    "from sklearn.linear_model import LogisticRegression\n",
    "\n",
    "from sklearn.preprocessing import StandardScaler\n",
    "from sklearn.model_selection import train_test_split, GridSearchCV\n",
    "from sklearn.ensemble import RandomForestClassifier\n",
    "from sklearn.metrics import classification_report, confusion_matrix\n",
    "from sklearn.svm import LinearSVC\n",
    "from sklearn.manifold import TSNE\n",
    "\n",
    "from sklearn.utils import class_weight\n",
    "from sklearn.feature_extraction.text import TfidfVectorizer, CountVectorizer\n",
    "\n",
    "import textacy\n",
    "from vaderSentiment.vaderSentiment import SentimentIntensityAnalyzer\n",
    "import tqdm"
   ]
  },
  {
   "cell_type": "markdown",
   "metadata": {},
   "source": [
    "## Data Import"
   ]
  },
  {
   "cell_type": "code",
   "execution_count": 142,
   "metadata": {
    "ExecuteTime": {
     "end_time": "2020-04-22T19:57:26.487560Z",
     "start_time": "2020-04-22T19:57:26.464194Z"
    }
   },
   "outputs": [],
   "source": [
    "bob = pd.read_csv('bob.csv', index_col=0)\n",
    "ken = pd.read_csv('kendrick.csv', index_col=0)"
   ]
  },
  {
   "cell_type": "code",
   "execution_count": 143,
   "metadata": {
    "ExecuteTime": {
     "end_time": "2020-04-22T19:57:27.284306Z",
     "start_time": "2020-04-22T19:57:27.275545Z"
    }
   },
   "outputs": [],
   "source": [
    "df = pd.concat([bob, ken], ignore_index=True)\n",
    "del bob, ken"
   ]
  },
  {
   "cell_type": "markdown",
   "metadata": {},
   "source": [
    "## Data Prep"
   ]
  },
  {
   "cell_type": "code",
   "execution_count": 129,
   "metadata": {
    "ExecuteTime": {
     "end_time": "2020-04-22T19:55:03.038135Z",
     "start_time": "2020-04-22T19:55:03.034187Z"
    }
   },
   "outputs": [],
   "source": [
    "def drop_breaks(lyrics):\n",
    "    '''\n",
    "    Strip our section marker from lyrics i.e. ['Verse 1'] and line breaks\n",
    "    '''\n",
    "    return re.sub(r'\\[(.*?)\\]', '', lyrics)"
   ]
  },
  {
   "cell_type": "code",
   "execution_count": 150,
   "metadata": {
    "ExecuteTime": {
     "end_time": "2020-04-22T22:07:18.705601Z",
     "start_time": "2020-04-22T22:07:18.701198Z"
    }
   },
   "outputs": [],
   "source": [
    "def remove_digits(lyrics):\n",
    "    '''\n",
    "    Strip our section marker from lyrics i.e. ['Verse 1'] and line breaks\n",
    "    '''\n",
    "    return re.sub(r'[0-9]', '', lyrics)"
   ]
  },
  {
   "cell_type": "code",
   "execution_count": 96,
   "metadata": {
    "ExecuteTime": {
     "end_time": "2020-04-22T19:39:21.347984Z",
     "start_time": "2020-04-22T19:39:21.338500Z"
    }
   },
   "outputs": [],
   "source": [
    "def process_text(songs, pos=False):\n",
    "    '''\n",
    "    Cleans sentences from stop words and punctuation and filters by pos tags if given\n",
    "    returns cleaned sentence and tokenized sentence\n",
    "    '''   \n",
    "    nlp = textacy.load_spacy_lang('en_core_web_sm')\n",
    "    \n",
    "    texts, tokenised_texts = [], []\n",
    "        \n",
    "    if pos: \n",
    "        for lyrics in tqdm.notebook.tqdm(nlp.pipe(songs, batch_size=200)):\n",
    "            assert lyrics.is_parsed\n",
    "            tokens = [token\n",
    "                      for token in lyrics \n",
    "                      if token.is_stop == False\n",
    "                      and token.pos_ in pos\n",
    "                      and token.pos_ != 'PUNCT']\n",
    "            doc_ = ''\n",
    "            for token in tokens:\n",
    "                doc_ += str(token) + ' '\n",
    "            \n",
    "            doc_ = doc_.strip()\n",
    "            texts.append(doc_)\n",
    "            tokenised_texts.append(tokens)\n",
    "    \n",
    "    \n",
    "    else:    \n",
    "        for lyrics in tqdm.notebook.tqdm(nlp.pipe(songs, batch_size=200)):\n",
    "            assert lyrics.is_parsed\n",
    "            tokens = [token\n",
    "                      for token in lyrics \n",
    "                      if token.is_stop == False\n",
    "                      and token.pos_ != 'PUNCT']\n",
    "            doc_ = ''\n",
    "            for token in tokens:\n",
    "                doc_ += str(token) + ' '\n",
    "            \n",
    "            doc_ = doc_.strip()\n",
    "            texts.append(doc_)\n",
    "            tokenised_texts.append(tokens)\n",
    "            \n",
    "    return texts, tokenised_texts"
   ]
  },
  {
   "cell_type": "code",
   "execution_count": 298,
   "metadata": {
    "ExecuteTime": {
     "end_time": "2020-04-23T09:21:23.758686Z",
     "start_time": "2020-04-23T09:21:23.753640Z"
    }
   },
   "outputs": [],
   "source": [
    "df['song'] = df.song.str.replace('\\n',' ')\\"
   ]
  },
  {
   "cell_type": "code",
   "execution_count": 151,
   "metadata": {
    "ExecuteTime": {
     "end_time": "2020-04-22T22:07:51.104384Z",
     "start_time": "2020-04-22T22:07:20.116271Z"
    }
   },
   "outputs": [
    {
     "data": {
      "application/vnd.jupyter.widget-view+json": {
       "model_id": "cf76788e1a8b429ebcb7a8350d4b17d7",
       "version_major": 2,
       "version_minor": 0
      },
      "text/plain": [
       "HBox(children=(FloatProgress(value=1.0, bar_style='info', max=1.0), HTML(value='')))"
      ]
     },
     "metadata": {},
     "output_type": "display_data"
    },
    {
     "name": "stdout",
     "output_type": "stream",
     "text": [
      "\n"
     ]
    }
   ],
   "source": [
    "pos = ['NOUN', 'ADJ', 'VERB', 'ADV']\n",
    "\n",
    "df['lyrics'] = df.lyrics.str.replace('\\n',' ')\\\n",
    "                            .apply(lambda x: drop_breaks(x))\\\n",
    "                            .apply(lambda x: remove_digits(x))\\\n",
    "                            .str.lower()\n",
    "\n",
    "processed_quotes, tokenised_quotes = process_text(df.lyrics)\n",
    "\n",
    "df['lyrics_processed'] = processed_quotes\n",
    "df['lyrics_tokenised'] = tokenised_quotes"
   ]
  },
  {
   "cell_type": "code",
   "execution_count": 155,
   "metadata": {
    "ExecuteTime": {
     "end_time": "2020-04-22T22:08:05.960314Z",
     "start_time": "2020-04-22T22:08:05.941846Z"
    }
   },
   "outputs": [
    {
     "data": {
      "text/html": [
       "<div>\n",
       "<style scoped>\n",
       "    .dataframe tbody tr th:only-of-type {\n",
       "        vertical-align: middle;\n",
       "    }\n",
       "\n",
       "    .dataframe tbody tr th {\n",
       "        vertical-align: top;\n",
       "    }\n",
       "\n",
       "    .dataframe thead th {\n",
       "        text-align: right;\n",
       "    }\n",
       "</style>\n",
       "<table border=\"1\" class=\"dataframe\">\n",
       "  <thead>\n",
       "    <tr style=\"text-align: right;\">\n",
       "      <th></th>\n",
       "      <th>artist</th>\n",
       "      <th>song</th>\n",
       "      <th>lyrics</th>\n",
       "      <th>lyrics_processed</th>\n",
       "      <th>lyrics_tokenised</th>\n",
       "    </tr>\n",
       "  </thead>\n",
       "  <tbody>\n",
       "    <tr>\n",
       "      <th>0</th>\n",
       "      <td>Bob Dylan</td>\n",
       "      <td>Murder Most Foul</td>\n",
       "      <td>it was a dark day in dallas, november ' a da...</td>\n",
       "      <td>dark day dallas november day live   infamy pre...</td>\n",
       "      <td>[  , dark, day, dallas, november, day, live,  ...</td>\n",
       "    </tr>\n",
       "    <tr>\n",
       "      <th>1</th>\n",
       "      <td>Bob Dylan</td>\n",
       "      <td>Blowin’ in the Wind</td>\n",
       "      <td>how many roads must a man walk down before y...</td>\n",
       "      <td>roads man walk man seas white dove sail sleeps...</td>\n",
       "      <td>[  , roads, man, walk, man, seas, white, dove,...</td>\n",
       "    </tr>\n",
       "  </tbody>\n",
       "</table>\n",
       "</div>"
      ],
      "text/plain": [
       "      artist                 song  \\\n",
       "0  Bob Dylan     Murder Most Foul   \n",
       "1  Bob Dylan  Blowin’ in the Wind   \n",
       "\n",
       "                                              lyrics  \\\n",
       "0    it was a dark day in dallas, november ' a da...   \n",
       "1    how many roads must a man walk down before y...   \n",
       "\n",
       "                                    lyrics_processed  \\\n",
       "0  dark day dallas november day live   infamy pre...   \n",
       "1  roads man walk man seas white dove sail sleeps...   \n",
       "\n",
       "                                    lyrics_tokenised  \n",
       "0  [  , dark, day, dallas, november, day, live,  ...  \n",
       "1  [  , roads, man, walk, man, seas, white, dove,...  "
      ]
     },
     "execution_count": 155,
     "metadata": {},
     "output_type": "execute_result"
    }
   ],
   "source": [
    "df.head(2)"
   ]
  },
  {
   "cell_type": "code",
   "execution_count": 41,
   "metadata": {
    "ExecuteTime": {
     "end_time": "2020-04-22T19:04:21.095165Z",
     "start_time": "2020-04-22T19:04:21.041149Z"
    }
   },
   "outputs": [
    {
     "data": {
      "text/plain": [
       "Bob Dylan         0.666667\n",
       "Kendrick Lamar    0.333333\n",
       "Name: artist, dtype: float64"
      ]
     },
     "execution_count": 41,
     "metadata": {},
     "output_type": "execute_result"
    }
   ],
   "source": [
    "df['artist'].value_counts(normalize = True)"
   ]
  },
  {
   "cell_type": "markdown",
   "metadata": {},
   "source": [
    "## Data Exploration and Viz"
   ]
  },
  {
   "cell_type": "code",
   "execution_count": 358,
   "metadata": {
    "ExecuteTime": {
     "end_time": "2020-04-23T11:10:34.123346Z",
     "start_time": "2020-04-23T11:10:34.118673Z"
    }
   },
   "outputs": [],
   "source": [
    "def vectorise(ngram_range, max_feats, input_data):\n",
    "    '''\n",
    "    Returns non-sparse format. With a larger dataset rather return\n",
    "    '''\n",
    "    vect = TfidfVectorizer(ngram_range, max_features=max_feats)\n",
    "    \n",
    "    return vect.fit(input_data), pd.DataFrame(vect.fit_transform(input_data).todense(), columns=vect.get_feature_names(), index=input_data.index)"
   ]
  },
  {
   "cell_type": "code",
   "execution_count": 406,
   "metadata": {
    "ExecuteTime": {
     "end_time": "2020-04-23T11:31:29.551656Z",
     "start_time": "2020-04-23T11:31:29.369522Z"
    }
   },
   "outputs": [],
   "source": [
    "vectoriser, language_vector_data= vectorise(ngram_range=(1, 1), max_feats=1000, input_data=df['lyrics_processed'])"
   ]
  },
  {
   "cell_type": "code",
   "execution_count": 407,
   "metadata": {
    "ExecuteTime": {
     "end_time": "2020-04-23T11:31:33.806509Z",
     "start_time": "2020-04-23T11:31:33.797085Z"
    }
   },
   "outputs": [],
   "source": [
    "# Store X for later\n",
    "X = language_vector_data.copy()"
   ]
  },
  {
   "cell_type": "code",
   "execution_count": 408,
   "metadata": {
    "ExecuteTime": {
     "end_time": "2020-04-23T11:31:38.457655Z",
     "start_time": "2020-04-23T11:31:38.449056Z"
    }
   },
   "outputs": [],
   "source": [
    "language_vector_data['artist']=df['artist']"
   ]
  },
  {
   "cell_type": "code",
   "execution_count": 362,
   "metadata": {
    "ExecuteTime": {
     "end_time": "2020-04-23T11:14:34.382579Z",
     "start_time": "2020-04-23T11:14:34.364771Z"
    }
   },
   "outputs": [
    {
     "data": {
      "text/plain": [
       "like    0.061811\n",
       "ll      0.054287\n",
       "said    0.048949\n",
       "know    0.048405\n",
       "got     0.048195\n",
       "love    0.047761\n",
       "re      0.047352\n",
       "time    0.044198\n",
       "come    0.040009\n",
       "oh      0.039634\n",
       "Name: Bob Dylan, dtype: float64"
      ]
     },
     "execution_count": 362,
     "metadata": {},
     "output_type": "execute_result"
    }
   ],
   "source": [
    "language_vector_data.groupby('artist').mean().T.sort_values('Bob Dylan', ascending=False)['Bob Dylan'].head(10)"
   ]
  },
  {
   "cell_type": "code",
   "execution_count": 320,
   "metadata": {
    "ExecuteTime": {
     "end_time": "2020-04-23T09:59:52.385348Z",
     "start_time": "2020-04-23T09:59:52.367366Z"
    }
   },
   "outputs": [
    {
     "data": {
      "text/plain": [
       "nigga     0.096009\n",
       "like      0.074026\n",
       "got       0.068209\n",
       "know      0.065979\n",
       "fuck      0.065657\n",
       "ai        0.056846\n",
       "shit      0.056431\n",
       "niggas    0.050788\n",
       "love      0.048572\n",
       "bitch     0.045981\n",
       "Name: Kendrick Lamar, dtype: float64"
      ]
     },
     "execution_count": 320,
     "metadata": {},
     "output_type": "execute_result"
    }
   ],
   "source": [
    "language_vector_data.groupby('artist').mean().T.sort_values('Kendrick Lamar', ascending=False)['Kendrick Lamar'].head(10)"
   ]
  },
  {
   "cell_type": "code",
   "execution_count": 455,
   "metadata": {
    "ExecuteTime": {
     "end_time": "2020-04-23T12:57:55.479106Z",
     "start_time": "2020-04-23T12:57:53.246677Z"
    }
   },
   "outputs": [],
   "source": [
    "X_embedded = pd.DataFrame(TSNE(n_components=2).fit_transform(X), columns=['c1','c2'], index=X.index)"
   ]
  },
  {
   "cell_type": "code",
   "execution_count": 456,
   "metadata": {
    "ExecuteTime": {
     "end_time": "2020-04-23T12:58:03.605100Z",
     "start_time": "2020-04-23T12:58:03.599021Z"
    }
   },
   "outputs": [],
   "source": [
    "X_embedded['artist'] = df['artist']"
   ]
  },
  {
   "cell_type": "code",
   "execution_count": 457,
   "metadata": {
    "ExecuteTime": {
     "end_time": "2020-04-23T12:58:24.894232Z",
     "start_time": "2020-04-23T12:58:24.850257Z"
    }
   },
   "outputs": [
    {
     "ename": "ValueError",
     "evalue": "Could not interpret input 'artist'",
     "output_type": "error",
     "traceback": [
      "\u001b[0;31m---------------------------------------------------------------------------\u001b[0m",
      "\u001b[0;31mValueError\u001b[0m                                Traceback (most recent call last)",
      "\u001b[0;32m<ipython-input-457-e61737fe41ed>\u001b[0m in \u001b[0;36m<module>\u001b[0;34m\u001b[0m\n\u001b[0;32m----> 1\u001b[0;31m \u001b[0msns\u001b[0m\u001b[0;34m.\u001b[0m\u001b[0mscatterplot\u001b[0m\u001b[0;34m(\u001b[0m\u001b[0mX_embedded\u001b[0m\u001b[0;34m[\u001b[0m\u001b[0;34m'c1'\u001b[0m\u001b[0;34m]\u001b[0m\u001b[0;34m,\u001b[0m\u001b[0mX_embedded\u001b[0m\u001b[0;34m[\u001b[0m\u001b[0;34m'c2'\u001b[0m\u001b[0;34m]\u001b[0m\u001b[0;34m,\u001b[0m\u001b[0mhue\u001b[0m\u001b[0;34m=\u001b[0m\u001b[0;34m'artist'\u001b[0m\u001b[0;34m)\u001b[0m\u001b[0;34m\u001b[0m\u001b[0;34m\u001b[0m\u001b[0m\n\u001b[0m",
      "\u001b[0;32m~/anaconda3/envs/textacy/lib/python3.6/site-packages/seaborn/relational.py\u001b[0m in \u001b[0;36mscatterplot\u001b[0;34m(x, y, hue, style, size, data, palette, hue_order, hue_norm, sizes, size_order, size_norm, markers, style_order, x_bins, y_bins, units, estimator, ci, n_boot, alpha, x_jitter, y_jitter, legend, ax, **kwargs)\u001b[0m\n\u001b[1;32m   1333\u001b[0m         \u001b[0mx_bins\u001b[0m\u001b[0;34m=\u001b[0m\u001b[0mx_bins\u001b[0m\u001b[0;34m,\u001b[0m \u001b[0my_bins\u001b[0m\u001b[0;34m=\u001b[0m\u001b[0my_bins\u001b[0m\u001b[0;34m,\u001b[0m\u001b[0;34m\u001b[0m\u001b[0;34m\u001b[0m\u001b[0m\n\u001b[1;32m   1334\u001b[0m         \u001b[0mestimator\u001b[0m\u001b[0;34m=\u001b[0m\u001b[0mestimator\u001b[0m\u001b[0;34m,\u001b[0m \u001b[0mci\u001b[0m\u001b[0;34m=\u001b[0m\u001b[0mci\u001b[0m\u001b[0;34m,\u001b[0m \u001b[0mn_boot\u001b[0m\u001b[0;34m=\u001b[0m\u001b[0mn_boot\u001b[0m\u001b[0;34m,\u001b[0m\u001b[0;34m\u001b[0m\u001b[0;34m\u001b[0m\u001b[0m\n\u001b[0;32m-> 1335\u001b[0;31m         \u001b[0malpha\u001b[0m\u001b[0;34m=\u001b[0m\u001b[0malpha\u001b[0m\u001b[0;34m,\u001b[0m \u001b[0mx_jitter\u001b[0m\u001b[0;34m=\u001b[0m\u001b[0mx_jitter\u001b[0m\u001b[0;34m,\u001b[0m \u001b[0my_jitter\u001b[0m\u001b[0;34m=\u001b[0m\u001b[0my_jitter\u001b[0m\u001b[0;34m,\u001b[0m \u001b[0mlegend\u001b[0m\u001b[0;34m=\u001b[0m\u001b[0mlegend\u001b[0m\u001b[0;34m,\u001b[0m\u001b[0;34m\u001b[0m\u001b[0;34m\u001b[0m\u001b[0m\n\u001b[0m\u001b[1;32m   1336\u001b[0m     )\n\u001b[1;32m   1337\u001b[0m \u001b[0;34m\u001b[0m\u001b[0m\n",
      "\u001b[0;32m~/anaconda3/envs/textacy/lib/python3.6/site-packages/seaborn/relational.py\u001b[0m in \u001b[0;36m__init__\u001b[0;34m(self, x, y, hue, size, style, data, palette, hue_order, hue_norm, sizes, size_order, size_norm, dashes, markers, style_order, x_bins, y_bins, units, estimator, ci, n_boot, alpha, x_jitter, y_jitter, legend)\u001b[0m\n\u001b[1;32m    850\u001b[0m \u001b[0;34m\u001b[0m\u001b[0m\n\u001b[1;32m    851\u001b[0m         plot_data = self.establish_variables(\n\u001b[0;32m--> 852\u001b[0;31m             \u001b[0mx\u001b[0m\u001b[0;34m,\u001b[0m \u001b[0my\u001b[0m\u001b[0;34m,\u001b[0m \u001b[0mhue\u001b[0m\u001b[0;34m,\u001b[0m \u001b[0msize\u001b[0m\u001b[0;34m,\u001b[0m \u001b[0mstyle\u001b[0m\u001b[0;34m,\u001b[0m \u001b[0munits\u001b[0m\u001b[0;34m,\u001b[0m \u001b[0mdata\u001b[0m\u001b[0;34m\u001b[0m\u001b[0;34m\u001b[0m\u001b[0m\n\u001b[0m\u001b[1;32m    853\u001b[0m         )\n\u001b[1;32m    854\u001b[0m \u001b[0;34m\u001b[0m\u001b[0m\n",
      "\u001b[0;32m~/anaconda3/envs/textacy/lib/python3.6/site-packages/seaborn/relational.py\u001b[0m in \u001b[0;36mestablish_variables\u001b[0;34m(self, x, y, hue, size, style, units, data)\u001b[0m\n\u001b[1;32m    140\u001b[0m                 \u001b[0;32mif\u001b[0m \u001b[0misinstance\u001b[0m\u001b[0;34m(\u001b[0m\u001b[0mvar\u001b[0m\u001b[0;34m,\u001b[0m \u001b[0mstring_types\u001b[0m\u001b[0;34m)\u001b[0m\u001b[0;34m:\u001b[0m\u001b[0;34m\u001b[0m\u001b[0;34m\u001b[0m\u001b[0m\n\u001b[1;32m    141\u001b[0m                     \u001b[0merr\u001b[0m \u001b[0;34m=\u001b[0m \u001b[0;34m\"Could not interpret input '{}'\"\u001b[0m\u001b[0;34m.\u001b[0m\u001b[0mformat\u001b[0m\u001b[0;34m(\u001b[0m\u001b[0mvar\u001b[0m\u001b[0;34m)\u001b[0m\u001b[0;34m\u001b[0m\u001b[0;34m\u001b[0m\u001b[0m\n\u001b[0;32m--> 142\u001b[0;31m                     \u001b[0;32mraise\u001b[0m \u001b[0mValueError\u001b[0m\u001b[0;34m(\u001b[0m\u001b[0merr\u001b[0m\u001b[0;34m)\u001b[0m\u001b[0;34m\u001b[0m\u001b[0;34m\u001b[0m\u001b[0m\n\u001b[0m\u001b[1;32m    143\u001b[0m \u001b[0;34m\u001b[0m\u001b[0m\n\u001b[1;32m    144\u001b[0m             \u001b[0;31m# Extract variable names\u001b[0m\u001b[0;34m\u001b[0m\u001b[0;34m\u001b[0m\u001b[0;34m\u001b[0m\u001b[0m\n",
      "\u001b[0;31mValueError\u001b[0m: Could not interpret input 'artist'"
     ]
    }
   ],
   "source": [
    "sns.scatterplot(X_embedded['c1'],X_embedded['c2'],hue='artist')"
   ]
  },
  {
   "cell_type": "markdown",
   "metadata": {},
   "source": [
    "## Modelling Functions"
   ]
  },
  {
   "cell_type": "code",
   "execution_count": 245,
   "metadata": {
    "ExecuteTime": {
     "end_time": "2020-04-23T08:53:20.965275Z",
     "start_time": "2020-04-23T08:53:20.957774Z"
    }
   },
   "outputs": [],
   "source": [
    "def plot_confusion(cm):\n",
    "    '''\n",
    "    Generate a confusion matrix\n",
    "    '''\n",
    "    plt.figure(figsize=(6,6))\n",
    "    ax = sns.heatmap(cm, annot=True, fmt=\".0f\", linewidths=.5, square = True,  cmap = 'coolwarm')\n",
    "    plt.ylabel('Actual label');\n",
    "    plt.xlabel('Predicted label');\n",
    "    plt.xticks([i-0.5 for i in range(1,3)], ['Bob Dylan', 'Kendrick Lamar'])\n",
    "    plt.yticks([i-0.5 for i in range(1,3)], ['Bob Dylan', 'Kendrick Lamar'])\n",
    "    b, t = plt.ylim() \n",
    "    b += 0.5 \n",
    "    t -= 0.5 \n",
    "    plt.ylim(b, t) \n",
    "    plt.show()"
   ]
  },
  {
   "cell_type": "code",
   "execution_count": 409,
   "metadata": {
    "ExecuteTime": {
     "end_time": "2020-04-23T11:32:03.901362Z",
     "start_time": "2020-04-23T11:32:03.894574Z"
    }
   },
   "outputs": [],
   "source": [
    "def generate_class_weights(y):\n",
    "    '''\n",
    "    Get class weights to help manage slight class imbalance\n",
    "    '''\n",
    "    return dict(zip(list(np.unique(y)), \n",
    "                    class_weight.compute_class_weight('balanced', np.unique(y), y)))\n"
   ]
  },
  {
   "cell_type": "markdown",
   "metadata": {},
   "source": [
    "## First Model"
   ]
  },
  {
   "cell_type": "code",
   "execution_count": 410,
   "metadata": {
    "ExecuteTime": {
     "end_time": "2020-04-23T11:32:08.150510Z",
     "start_time": "2020-04-23T11:32:08.144663Z"
    }
   },
   "outputs": [],
   "source": [
    "class_weights = generate_class_weights(df['artist'])"
   ]
  },
  {
   "cell_type": "code",
   "execution_count": 411,
   "metadata": {
    "ExecuteTime": {
     "end_time": "2020-04-23T11:32:12.297037Z",
     "start_time": "2020-04-23T11:32:12.283609Z"
    }
   },
   "outputs": [],
   "source": [
    "X_train, X_test, y_train, y_test = train_test_split(X, df['artist'],\n",
    "                                                    test_size=0.2,\n",
    "                                                    random_state=1,\n",
    "                                                    shuffle=True,\n",
    "                                                    stratify=df['artist'])"
   ]
  },
  {
   "cell_type": "code",
   "execution_count": 412,
   "metadata": {
    "ExecuteTime": {
     "end_time": "2020-04-23T11:32:38.684168Z",
     "start_time": "2020-04-23T11:32:17.109853Z"
    }
   },
   "outputs": [
    {
     "name": "stdout",
     "output_type": "stream",
     "text": [
      "0.95 {'max_depth': 10, 'n_estimators': 50}\n"
     ]
    }
   ],
   "source": [
    "param_grid = {\n",
    "    \n",
    "    'n_estimators':[50,100,150,200,250,300],\n",
    "    'max_depth':[5,7,10,15]\n",
    "    \n",
    "}\n",
    "\n",
    "grid = GridSearchCV(RandomForestClassifier(random_state=1,\n",
    "                                           class_weight=class_weights),\n",
    "                                           param_grid,\n",
    "                                           cv=5,\n",
    "                                           n_jobs=2).fit(X_train, y_train)\n",
    "\n",
    "print(grid.best_score_, grid.best_params_)"
   ]
  },
  {
   "cell_type": "code",
   "execution_count": 413,
   "metadata": {
    "ExecuteTime": {
     "end_time": "2020-04-23T11:32:43.215536Z",
     "start_time": "2020-04-23T11:32:42.959919Z"
    }
   },
   "outputs": [
    {
     "data": {
      "image/png": "[encoded data removed]",
      "text/plain": [
       "<Figure size 432x432 with 2 Axes>"
      ]
     },
     "metadata": {
      "needs_background": "light"
     },
     "output_type": "display_data"
    }
   ],
   "source": [
    "rf = RandomForestClassifier(random_state = 1,\n",
    "                             max_depth=grid.best_params_['max_depth'],\n",
    "                             n_estimators=grid.best_params_['n_estimators'],\n",
    "                             class_weight=class_weights).fit(X_train, y_train)\n",
    "\n",
    "preds = rf.predict(X_test)\n",
    "cm_rf = confusion_matrix(y_test, preds)\n",
    "plot_confusion(cm_rf)"
   ]
  },
  {
   "cell_type": "code",
   "execution_count": 388,
   "metadata": {
    "ExecuteTime": {
     "end_time": "2020-04-23T11:25:48.560281Z",
     "start_time": "2020-04-23T11:25:48.539414Z"
    }
   },
   "outputs": [
    {
     "data": {
      "text/html": [
       "<div>\n",
       "<style scoped>\n",
       "    .dataframe tbody tr th:only-of-type {\n",
       "        vertical-align: middle;\n",
       "    }\n",
       "\n",
       "    .dataframe tbody tr th {\n",
       "        vertical-align: top;\n",
       "    }\n",
       "\n",
       "    .dataframe thead th {\n",
       "        text-align: right;\n",
       "    }\n",
       "</style>\n",
       "<table border=\"1\" class=\"dataframe\">\n",
       "  <thead>\n",
       "    <tr style=\"text-align: right;\">\n",
       "      <th></th>\n",
       "      <th>importance</th>\n",
       "      <th>feature</th>\n",
       "    </tr>\n",
       "  </thead>\n",
       "  <tbody>\n",
       "    <tr>\n",
       "      <th>248</th>\n",
       "      <td>0.012942</td>\n",
       "      <td>em</td>\n",
       "    </tr>\n",
       "    <tr>\n",
       "      <th>496</th>\n",
       "      <td>0.013396</td>\n",
       "      <td>life</td>\n",
       "    </tr>\n",
       "    <tr>\n",
       "      <th>24</th>\n",
       "      <td>0.013477</td>\n",
       "      <td>ass</td>\n",
       "    </tr>\n",
       "    <tr>\n",
       "      <th>6</th>\n",
       "      <td>0.013720</td>\n",
       "      <td>ai</td>\n",
       "    </tr>\n",
       "    <tr>\n",
       "      <th>165</th>\n",
       "      <td>0.014073</td>\n",
       "      <td>compton</td>\n",
       "    </tr>\n",
       "    <tr>\n",
       "      <th>91</th>\n",
       "      <td>0.014697</td>\n",
       "      <td>bout</td>\n",
       "    </tr>\n",
       "    <tr>\n",
       "      <th>326</th>\n",
       "      <td>0.015054</td>\n",
       "      <td>fuck</td>\n",
       "    </tr>\n",
       "    <tr>\n",
       "      <th>62</th>\n",
       "      <td>0.015373</td>\n",
       "      <td>bitch</td>\n",
       "    </tr>\n",
       "    <tr>\n",
       "      <th>357</th>\n",
       "      <td>0.017219</td>\n",
       "      <td>got</td>\n",
       "    </tr>\n",
       "    <tr>\n",
       "      <th>988</th>\n",
       "      <td>0.018763</td>\n",
       "      <td>yeah</td>\n",
       "    </tr>\n",
       "    <tr>\n",
       "      <th>861</th>\n",
       "      <td>0.019086</td>\n",
       "      <td>tell</td>\n",
       "    </tr>\n",
       "    <tr>\n",
       "      <th>601</th>\n",
       "      <td>0.021027</td>\n",
       "      <td>niggas</td>\n",
       "    </tr>\n",
       "    <tr>\n",
       "      <th>936</th>\n",
       "      <td>0.035095</td>\n",
       "      <td>wanna</td>\n",
       "    </tr>\n",
       "    <tr>\n",
       "      <th>600</th>\n",
       "      <td>0.048609</td>\n",
       "      <td>nigga</td>\n",
       "    </tr>\n",
       "    <tr>\n",
       "      <th>768</th>\n",
       "      <td>0.053747</td>\n",
       "      <td>shit</td>\n",
       "    </tr>\n",
       "  </tbody>\n",
       "</table>\n",
       "</div>"
      ],
      "text/plain": [
       "     importance  feature\n",
       "248    0.012942       em\n",
       "496    0.013396     life\n",
       "24     0.013477      ass\n",
       "6      0.013720       ai\n",
       "165    0.014073  compton\n",
       "91     0.014697     bout\n",
       "326    0.015054     fuck\n",
       "62     0.015373    bitch\n",
       "357    0.017219      got\n",
       "988    0.018763     yeah\n",
       "861    0.019086     tell\n",
       "601    0.021027   niggas\n",
       "936    0.035095    wanna\n",
       "600    0.048609    nigga\n",
       "768    0.053747     shit"
      ]
     },
     "execution_count": 388,
     "metadata": {},
     "output_type": "execute_result"
    }
   ],
   "source": [
    "imps = pd.DataFrame({'importance':clf.feature_importances_,\n",
    "                     'feature':X_train.columns})\n",
    "\n",
    "imps.sort_values('importance').tail(15)"
   ]
  },
  {
   "cell_type": "markdown",
   "metadata": {},
   "source": [
    "Clearly its easier to identify Kendrick's terms than Bob's!\n",
    "\n",
    "Lets check where we actually misclassify for our 2 errors."
   ]
  },
  {
   "cell_type": "code",
   "execution_count": 389,
   "metadata": {
    "ExecuteTime": {
     "end_time": "2020-04-23T11:25:53.570135Z",
     "start_time": "2020-04-23T11:25:53.562862Z"
    }
   },
   "outputs": [],
   "source": [
    "results = pd.DataFrame({'actual':y_test,\n",
    "                        'predicted':preds\n",
    "                        }, index=y_test.index)\n",
    "\n",
    "results['lyrics'], results['song'] = df['lyrics'], df['song']"
   ]
  },
  {
   "cell_type": "code",
   "execution_count": 390,
   "metadata": {
    "ExecuteTime": {
     "end_time": "2020-04-23T11:25:57.889266Z",
     "start_time": "2020-04-23T11:25:57.882790Z"
    }
   },
   "outputs": [],
   "source": [
    "mistakes = results[results['actual']!=results['predicted']]"
   ]
  },
  {
   "cell_type": "code",
   "execution_count": 391,
   "metadata": {
    "ExecuteTime": {
     "end_time": "2020-04-23T11:26:01.956989Z",
     "start_time": "2020-04-23T11:26:01.949771Z"
    }
   },
   "outputs": [
    {
     "name": "stdout",
     "output_type": "stream",
     "text": [
      "Song: Black Panther\n",
      "   \n",
      "  (why i go easy?) (know why i go easy) wait    king of my city, king of my country, king of my homeland king of the filthy, king of the fallen, we livin' again king of the shooters, looters, boosters, and ghettos poppin' king of the past, present, future, my ancestors watchin' king of the culture, king of the soldiers, king of the bloodshed king of the wisdom, king of the ocean, king of the respect king of the optimistics and dreamers that go and get it king of the winner's district and geniuses with conviction king of the fighters, king of the fathers, king of the belated king of the answer, king of the problem, king of the forsaken king of the empathy, you resent me, king of remorse king of my enemies, may they fall defeat, i rejoice king of the skyscrapers, dodgin' haters, broke religion    nine faces, go against 'em, i erased 'em with precision i embrace them with collision, kings did it king's vision, black panther, king kendrick, all hail the king! i dropped a million tears i know several responsibilities put me here i don't pedal backwards, but i live old-fashioned the lens that i'm lookin' through won't prescribe me the right glasses, masses are now free ashes i'm dumpin' out, 'bout to spread all 'cross seas sisters and brothers in unison, not because of me because we don't glue with the opposition, we glue with peace but still'd fuck up your organization if any beef what do you stand for? are you a activist? what are your city plans for? are you a accident? are you just in the way? your native tongue contradictin' what your body language say are you a king or you jokin'? are you a king or you posin'?    are you a king or you smokin' bowl rocks to keep you open? because the king don't cry, king don't die king don't lie, king give heart, king get by, king don't fall kingdom come, when i come, you know why king! king! king! king! king! i am t'challa\n",
      "  \n",
      "Song: ​untitled 04 | 08.14.2014.\n",
      "   \n",
      "  they say the government mislead the youth, youth, youth, youth (tell 'em when you went to the park and everybody came back and...) and welfare don't mean well for you, you, you, you (what about when you tried to do a side for that but you...) they tell me that my bill's past due, due, due, due (talk about the charge you got...) and preacher man don't always tell the truth, truth, truth, truth (do you believe in god? if you don't, it's cool)    (but) head is the answer, head is the future don't second guess yourself (don't tell them when you second guess yourself i need you in the kitchen now i forgot...) come on give me some help, hey head is the answer, do it for the future, girl    don't second guess yourself come on, give me some help and i just wanna and i just wanna straight up eyes with my head and i can't use some help straight up    head is the future\n",
      "  \n"
     ]
    }
   ],
   "source": [
    "for key, value in dict(zip(list(mistakes['song'].values), list(mistakes['lyrics'].values))).items():\n",
    "    print('Song: ' + key)\n",
    "    print('   ')\n",
    "    print(value)\n",
    "    print('  ')"
   ]
  },
  {
   "cell_type": "markdown",
   "metadata": {},
   "source": [
    "Not so surprising really! These are both Kendrick tracks but they're missing some of his usual language.\n",
    "\n",
    "Eyeballing some of the language in both of these tracks, its really not immediately clear who's written them. Thematically, its likely that Black Panther would be a Kendrick track and some of the phrasing in untitled 04 is also quite clearly Kendrick but to a basic model, these features shouldn't really be discernible."
   ]
  },
  {
   "cell_type": "code",
   "execution_count": 337,
   "metadata": {
    "ExecuteTime": {
     "end_time": "2020-04-23T11:02:03.740515Z",
     "start_time": "2020-04-23T11:02:03.731362Z"
    }
   },
   "outputs": [
    {
     "name": "stdout",
     "output_type": "stream",
     "text": [
      "                precision    recall  f1-score   support\n",
      "\n",
      "     Bob Dylan       0.95      1.00      0.98        40\n",
      "Kendrick Lamar       1.00      0.90      0.95        20\n",
      "\n",
      "     micro avg       0.97      0.97      0.97        60\n",
      "     macro avg       0.98      0.95      0.96        60\n",
      "  weighted avg       0.97      0.97      0.97        60\n",
      "\n"
     ]
    }
   ],
   "source": [
    "print(classification_report(y_test, preds))"
   ]
  },
  {
   "cell_type": "markdown",
   "metadata": {},
   "source": [
    "As we gauged from the confusion matrix, our accuracy, precision and recall were all strong."
   ]
  },
  {
   "cell_type": "markdown",
   "metadata": {},
   "source": [
    "## Futher Models"
   ]
  },
  {
   "cell_type": "code",
   "execution_count": 433,
   "metadata": {
    "ExecuteTime": {
     "end_time": "2020-04-23T12:24:10.306560Z",
     "start_time": "2020-04-23T12:22:44.832345Z"
    }
   },
   "outputs": [
    {
     "name": "stdout",
     "output_type": "stream",
     "text": [
      "0.9375 {'C': 0.9111627561154896, 'penalty': 'l2'}\n"
     ]
    },
    {
     "data": {
      "image/png": "[encoded data removed]",
      "text/plain": [
       "<Figure size 432x432 with 2 Axes>"
      ]
     },
     "metadata": {
      "needs_background": "light"
     },
     "output_type": "display_data"
    }
   ],
   "source": [
    "'''\n",
    "Logistic Regression\n",
    "'''\n",
    "\n",
    "param_grid = {\n",
    "    \n",
    "    'C':np.logspace(-4,4,100),\n",
    "    'penalty':['l1','l2']\n",
    "    \n",
    "}\n",
    "\n",
    "grid = GridSearchCV(LogisticRegression(random_state=1, solver = 'saga',\n",
    "                                           class_weight=class_weights),\n",
    "                                           param_grid,\n",
    "                                           cv=5,\n",
    "                                           n_jobs=2).fit(X_train, y_train)\n",
    "\n",
    "print(grid.best_score_, grid.best_params_)\n",
    "\n",
    "logreg = LogisticRegression(random_state = 1, solver = 'saga',\n",
    "                             C=grid.best_params_['C'],\n",
    "                             penalty=grid.best_params_['penalty'],\n",
    "                             class_weight=class_weights).fit(X_train, y_train)\n",
    "\n",
    "preds = clf.predict(X_test)\n",
    "cm_rf = confusion_matrix(y_test, preds)\n",
    "plot_confusion(cm_rf)"
   ]
  },
  {
   "cell_type": "code",
   "execution_count": null,
   "metadata": {},
   "outputs": [],
   "source": [
    "vectoriser, language_vector_data= vectorise(ngram_range=(1, 1), max_feats=1000, input_data=df['lyrics_processed'])"
   ]
  },
  {
   "cell_type": "markdown",
   "metadata": {},
   "source": [
    "## Optimised Model"
   ]
  },
  {
   "cell_type": "code",
   "execution_count": null,
   "metadata": {},
   "outputs": [],
   "source": []
  },
  {
   "cell_type": "code",
   "execution_count": null,
   "metadata": {},
   "outputs": [],
   "source": [
    "def export_models(classification_model, class_model_name, vectoriser, vectoriser_name):\n",
    "    '''\n",
    "    Retrieve models for classification and for \n",
    "    word vectorising\n",
    "    '''\n",
    "    return joblib.dump(classification_model, class_model_name), joblib.dump(vectoriser, vectoriser_name)"
   ]
  },
  {
   "cell_type": "markdown",
   "metadata": {},
   "source": [
    "## Model Optimised for Classifying Lyric"
   ]
  },
  {
   "cell_type": "code",
   "execution_count": null,
   "metadata": {},
   "outputs": [],
   "source": [
    "def import_models(classification_model, vectoriser):\n",
    "    '''\n",
    "    Retrieve models for classification and for \n",
    "    word vectorising\n",
    "    '''\n",
    "    return joblib.load(classification_model), joblib.load(vectoriser)"
   ]
  },
  {
   "cell_type": "code",
   "execution_count": 425,
   "metadata": {
    "ExecuteTime": {
     "end_time": "2020-04-23T11:38:40.522317Z",
     "start_time": "2020-04-23T11:38:40.518749Z"
    }
   },
   "outputs": [],
   "source": [
    "def gather_lyric():\n",
    "    '''\n",
    "    Simply asking for an input\n",
    "    '''\n",
    "    return input('Try your lyric here: ').lower()\n"
   ]
  },
  {
   "cell_type": "code",
   "execution_count": 426,
   "metadata": {
    "ExecuteTime": {
     "end_time": "2020-04-23T11:38:44.918162Z",
     "start_time": "2020-04-23T11:38:44.913318Z"
    }
   },
   "outputs": [],
   "source": [
    "def convert_lyric_to_vector(lyric, vectoriser):\n",
    "    '''\n",
    "    Creates predictor observation with vectorised\n",
    "    weightings\n",
    "    '''\n",
    "    return pd.DataFrame(vectoriser.transform([lyric]).todense(), columns=vectoriser.get_feature_names())\n"
   ]
  },
  {
   "cell_type": "code",
   "execution_count": 450,
   "metadata": {
    "ExecuteTime": {
     "end_time": "2020-04-23T12:49:31.042885Z",
     "start_time": "2020-04-23T12:49:31.036588Z"
    }
   },
   "outputs": [],
   "source": [
    "def generate_prediction(vectoriser, model, num_preds):\n",
    "    '''\n",
    "    Print n predictions for an inputted lyric using\n",
    "    a given vectoriser and pre-trained model\n",
    "    '''\n",
    "    for i in range(num_preds):\n",
    "        lyric=gather_lyric()\n",
    "        print('{} probably sang that.'.format(model.predict(convert_lyric_to_vector(lyric, vectoriser))[0]))\n",
    "        print('_____________________________________________')"
   ]
  },
  {
   "cell_type": "code",
   "execution_count": 451,
   "metadata": {
    "ExecuteTime": {
     "end_time": "2020-04-23T12:49:44.692393Z",
     "start_time": "2020-04-23T12:49:35.872655Z"
    }
   },
   "outputs": [
    {
     "name": "stdout",
     "output_type": "stream",
     "text": [
      "Try your lyric here: shot a nigga in compton\n",
      "Kendrick Lamar probably sang that.\n",
      "_____________________________________________\n",
      "Try your lyric here: blowing in the wind\n",
      "Bob Dylan probably sang that.\n",
      "_____________________________________________\n"
     ]
    }
   ],
   "source": [
    "generate_prediction(vectoriser, logreg, 2)"
   ]
  },
  {
   "cell_type": "code",
   "execution_count": null,
   "metadata": {},
   "outputs": [],
   "source": []
  }
 ],
 "metadata": {
  "kernelspec": {
   "display_name": "textacy",
   "language": "python",
   "name": "textacy"
  },
  "language_info": {
   "codemirror_mode": {
    "name": "ipython",
    "version": 3
   },
   "file_extension": ".py",
   "mimetype": "text/x-python",
   "name": "python",
   "nbconvert_exporter": "python",
   "pygments_lexer": "ipython3",
   "version": "3.6.8"
  },
  "varInspector": {
   "cols": {
    "lenName": 16,
    "lenType": 16,
    "lenVar": 40
   },
   "kernels_config": {
    "python": {
     "delete_cmd_postfix": "",
     "delete_cmd_prefix": "del ",
     "library": "var_list.py",
     "varRefreshCmd": "print(var_dic_list())"
    },
    "r": {
     "delete_cmd_postfix": ") ",
     "delete_cmd_prefix": "rm(",
     "library": "var_list.r",
     "varRefreshCmd": "cat(var_dic_list()) "
    }
   },
   "types_to_exclude": [
    "module",
    "function",
    "builtin_function_or_method",
    "instance",
    "_Feature"
   ],
   "window_display": false
  }
 },
 "nbformat": 4,
 "nbformat_minor": 2
}
