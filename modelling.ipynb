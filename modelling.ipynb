{
 "cells": [
  {
   "cell_type": "markdown",
   "metadata": {},
   "source": [
    "# Bob or Kendrick\n",
    "\n",
    "Two of the great wordsmiths of the modern era. Any fan would be able discern the artist from the lyrics, but can a machine?\n",
    "\n",
    "This notebook makes use to:\n",
    "- T-SNE for visualising text data\n",
    "- Tf-idf for modelling vectorised text data\n",
    "- "
   ]
  },
  {
   "cell_type": "code",
   "execution_count": 478,
   "metadata": {
    "ExecuteTime": {
     "end_time": "2020-04-23T15:22:40.300481Z",
     "start_time": "2020-04-23T15:22:40.262584Z"
    }
   },
   "outputs": [],
   "source": [
    "import pandas as pd\n",
    "import numpy as np\n",
    "import re\n",
    "\n",
    "import seaborn as sns\n",
    "import matplotlib.pyplot as plt\n",
    "\n",
    "from sklearn.linear_model import LogisticRegression\n",
    "\n",
    "from sklearn.preprocessing import StandardScaler\n",
    "from sklearn.model_selection import train_test_split, GridSearchCV\n",
    "from sklearn.ensemble import RandomForestClassifier\n",
    "from sklearn.metrics import classification_report, confusion_matrix\n",
    "from sklearn.svm import LinearSVC\n",
    "from sklearn.manifold import TSNE\n",
    "\n",
    "from mpl_toolkits.mplot3d import Axes3D\n",
    "import plotly.express as px\n",
    "from os import path\n",
    "from PIL import Image\n",
    "from wordcloud import WordCloud, STOPWORDS, ImageColorGenerator\n",
    "\n",
    "from sklearn.utils import class_weight\n",
    "from sklearn.feature_extraction.text import TfidfVectorizer, CountVectorizer\n",
    "\n",
    "import textacy\n",
    "from vaderSentiment.vaderSentiment import SentimentIntensityAnalyzer\n",
    "import tqdm"
   ]
  },
  {
   "cell_type": "markdown",
   "metadata": {},
   "source": [
    "## Data Import"
   ]
  },
  {
   "cell_type": "code",
   "execution_count": 142,
   "metadata": {
    "ExecuteTime": {
     "end_time": "2020-04-22T19:57:26.487560Z",
     "start_time": "2020-04-22T19:57:26.464194Z"
    }
   },
   "outputs": [],
   "source": [
    "bob = pd.read_csv('bob.csv', index_col=0)\n",
    "ken = pd.read_csv('kendrick.csv', index_col=0)"
   ]
  },
  {
   "cell_type": "code",
   "execution_count": 143,
   "metadata": {
    "ExecuteTime": {
     "end_time": "2020-04-22T19:57:27.284306Z",
     "start_time": "2020-04-22T19:57:27.275545Z"
    }
   },
   "outputs": [],
   "source": [
    "df = pd.concat([bob, ken], ignore_index=True)\n",
    "del bob, ken"
   ]
  },
  {
   "cell_type": "markdown",
   "metadata": {},
   "source": [
    "## Data Prep"
   ]
  },
  {
   "cell_type": "code",
   "execution_count": 129,
   "metadata": {
    "ExecuteTime": {
     "end_time": "2020-04-22T19:55:03.038135Z",
     "start_time": "2020-04-22T19:55:03.034187Z"
    }
   },
   "outputs": [],
   "source": [
    "def drop_breaks(lyrics):\n",
    "    '''\n",
    "    Strip our section marker from lyrics i.e. ['Verse 1'] and line breaks\n",
    "    '''\n",
    "    return re.sub(r'\\[(.*?)\\]', '', lyrics)"
   ]
  },
  {
   "cell_type": "code",
   "execution_count": 150,
   "metadata": {
    "ExecuteTime": {
     "end_time": "2020-04-22T22:07:18.705601Z",
     "start_time": "2020-04-22T22:07:18.701198Z"
    }
   },
   "outputs": [],
   "source": [
    "def remove_digits(lyrics):\n",
    "    '''\n",
    "    Strip our section marker from lyrics i.e. ['Verse 1'] and line breaks\n",
    "    '''\n",
    "    return re.sub(r'[0-9]', '', lyrics)"
   ]
  },
  {
   "cell_type": "code",
   "execution_count": 96,
   "metadata": {
    "ExecuteTime": {
     "end_time": "2020-04-22T19:39:21.347984Z",
     "start_time": "2020-04-22T19:39:21.338500Z"
    }
   },
   "outputs": [],
   "source": [
    "def process_text(songs, pos=False):\n",
    "    '''\n",
    "    Cleans sentences from stop words and punctuation and filters by pos tags if given\n",
    "    returns cleaned sentence and tokenized sentence\n",
    "    '''   \n",
    "    nlp = textacy.load_spacy_lang('en_core_web_sm')\n",
    "    \n",
    "    texts, tokenised_texts = [], []\n",
    "        \n",
    "    if pos: \n",
    "        for lyrics in tqdm.notebook.tqdm(nlp.pipe(songs, batch_size=200)):\n",
    "            assert lyrics.is_parsed\n",
    "            tokens = [token\n",
    "                      for token in lyrics \n",
    "                      if token.is_stop == False\n",
    "                      and token.pos_ in pos\n",
    "                      and token.pos_ != 'PUNCT']\n",
    "            doc_ = ''\n",
    "            for token in tokens:\n",
    "                doc_ += str(token) + ' '\n",
    "            \n",
    "            doc_ = doc_.strip()\n",
    "            texts.append(doc_)\n",
    "            tokenised_texts.append(tokens)\n",
    "    \n",
    "    \n",
    "    else:    \n",
    "        for lyrics in tqdm.notebook.tqdm(nlp.pipe(songs, batch_size=200)):\n",
    "            assert lyrics.is_parsed\n",
    "            tokens = [token\n",
    "                      for token in lyrics \n",
    "                      if token.is_stop == False\n",
    "                      and token.pos_ != 'PUNCT']\n",
    "            doc_ = ''\n",
    "            for token in tokens:\n",
    "                doc_ += str(token) + ' '\n",
    "            \n",
    "            doc_ = doc_.strip()\n",
    "            texts.append(doc_)\n",
    "            tokenised_texts.append(tokens)\n",
    "            \n",
    "    return texts, tokenised_texts"
   ]
  },
  {
   "cell_type": "code",
   "execution_count": 298,
   "metadata": {
    "ExecuteTime": {
     "end_time": "2020-04-23T09:21:23.758686Z",
     "start_time": "2020-04-23T09:21:23.753640Z"
    }
   },
   "outputs": [],
   "source": [
    "df['song'] = df.song.str.replace('\\n',' ')\\"
   ]
  },
  {
   "cell_type": "code",
   "execution_count": 151,
   "metadata": {
    "ExecuteTime": {
     "end_time": "2020-04-22T22:07:51.104384Z",
     "start_time": "2020-04-22T22:07:20.116271Z"
    }
   },
   "outputs": [
    {
     "data": {
      "application/vnd.jupyter.widget-view+json": {
       "model_id": "cf76788e1a8b429ebcb7a8350d4b17d7",
       "version_major": 2,
       "version_minor": 0
      },
      "text/plain": [
       "HBox(children=(FloatProgress(value=1.0, bar_style='info', max=1.0), HTML(value='')))"
      ]
     },
     "metadata": {},
     "output_type": "display_data"
    },
    {
     "name": "stdout",
     "output_type": "stream",
     "text": [
      "\n"
     ]
    }
   ],
   "source": [
    "pos = ['NOUN', 'ADJ', 'VERB', 'ADV']\n",
    "\n",
    "df['lyrics'] = df.lyrics.str.replace('\\n',' ')\\\n",
    "                            .apply(lambda x: drop_breaks(x))\\\n",
    "                            .apply(lambda x: remove_digits(x))\\\n",
    "                            .str.lower()\n",
    "\n",
    "processed_quotes, tokenised_quotes = process_text(df.lyrics)\n",
    "\n",
    "df['lyrics_processed'] = processed_quotes\n",
    "df['lyrics_tokenised'] = tokenised_quotes"
   ]
  },
  {
   "cell_type": "code",
   "execution_count": 155,
   "metadata": {
    "ExecuteTime": {
     "end_time": "2020-04-22T22:08:05.960314Z",
     "start_time": "2020-04-22T22:08:05.941846Z"
    }
   },
   "outputs": [
    {
     "data": {
      "text/html": [
       "<div>\n",
       "<style scoped>\n",
       "    .dataframe tbody tr th:only-of-type {\n",
       "        vertical-align: middle;\n",
       "    }\n",
       "\n",
       "    .dataframe tbody tr th {\n",
       "        vertical-align: top;\n",
       "    }\n",
       "\n",
       "    .dataframe thead th {\n",
       "        text-align: right;\n",
       "    }\n",
       "</style>\n",
       "<table border=\"1\" class=\"dataframe\">\n",
       "  <thead>\n",
       "    <tr style=\"text-align: right;\">\n",
       "      <th></th>\n",
       "      <th>artist</th>\n",
       "      <th>song</th>\n",
       "      <th>lyrics</th>\n",
       "      <th>lyrics_processed</th>\n",
       "      <th>lyrics_tokenised</th>\n",
       "    </tr>\n",
       "  </thead>\n",
       "  <tbody>\n",
       "    <tr>\n",
       "      <th>0</th>\n",
       "      <td>Bob Dylan</td>\n",
       "      <td>Murder Most Foul</td>\n",
       "      <td>it was a dark day in dallas, november ' a da...</td>\n",
       "      <td>dark day dallas november day live   infamy pre...</td>\n",
       "      <td>[  , dark, day, dallas, november, day, live,  ...</td>\n",
       "    </tr>\n",
       "    <tr>\n",
       "      <th>1</th>\n",
       "      <td>Bob Dylan</td>\n",
       "      <td>Blowin’ in the Wind</td>\n",
       "      <td>how many roads must a man walk down before y...</td>\n",
       "      <td>roads man walk man seas white dove sail sleeps...</td>\n",
       "      <td>[  , roads, man, walk, man, seas, white, dove,...</td>\n",
       "    </tr>\n",
       "  </tbody>\n",
       "</table>\n",
       "</div>"
      ],
      "text/plain": [
       "      artist                 song  \\\n",
       "0  Bob Dylan     Murder Most Foul   \n",
       "1  Bob Dylan  Blowin’ in the Wind   \n",
       "\n",
       "                                              lyrics  \\\n",
       "0    it was a dark day in dallas, november ' a da...   \n",
       "1    how many roads must a man walk down before y...   \n",
       "\n",
       "                                    lyrics_processed  \\\n",
       "0  dark day dallas november day live   infamy pre...   \n",
       "1  roads man walk man seas white dove sail sleeps...   \n",
       "\n",
       "                                    lyrics_tokenised  \n",
       "0  [  , dark, day, dallas, november, day, live,  ...  \n",
       "1  [  , roads, man, walk, man, seas, white, dove,...  "
      ]
     },
     "execution_count": 155,
     "metadata": {},
     "output_type": "execute_result"
    }
   ],
   "source": [
    "df.head(2)"
   ]
  },
  {
   "cell_type": "code",
   "execution_count": 41,
   "metadata": {
    "ExecuteTime": {
     "end_time": "2020-04-22T19:04:21.095165Z",
     "start_time": "2020-04-22T19:04:21.041149Z"
    }
   },
   "outputs": [
    {
     "data": {
      "text/plain": [
       "Bob Dylan         0.666667\n",
       "Kendrick Lamar    0.333333\n",
       "Name: artist, dtype: float64"
      ]
     },
     "execution_count": 41,
     "metadata": {},
     "output_type": "execute_result"
    }
   ],
   "source": [
    "df['artist'].value_counts(normalize = True)"
   ]
  },
  {
   "cell_type": "markdown",
   "metadata": {},
   "source": [
    "## Data Exploration and Viz"
   ]
  },
  {
   "cell_type": "code",
   "execution_count": 358,
   "metadata": {
    "ExecuteTime": {
     "end_time": "2020-04-23T11:10:34.123346Z",
     "start_time": "2020-04-23T11:10:34.118673Z"
    }
   },
   "outputs": [],
   "source": [
    "def vectorise(ngram_range, max_feats, input_data):\n",
    "    '''\n",
    "    Returns non-sparse format. With a larger dataset rather return\n",
    "    '''\n",
    "    vect = TfidfVectorizer(ngram_range, max_features=max_feats)\n",
    "    \n",
    "    return vect.fit(input_data), pd.DataFrame(vect.fit_transform(input_data).todense(), columns=vect.get_feature_names(), index=input_data.index)"
   ]
  },
  {
   "cell_type": "code",
   "execution_count": 494,
   "metadata": {
    "ExecuteTime": {
     "end_time": "2020-04-23T15:28:05.102660Z",
     "start_time": "2020-04-23T15:28:05.096558Z"
    }
   },
   "outputs": [],
   "source": [
    "def plot_clouds(data):\n",
    "    '''\n",
    "    Create word clouds based on single string of text\n",
    "    '''\n",
    "    wordcloud = WordCloud(max_font_size=50, max_words=100, background_color=\"white\").generate(data)\n",
    "    plt.figure()\n",
    "    plt.imshow(wordcloud, interpolation=\"bilinear\")\n",
    "    plt.axis(\"off\")\n",
    "    plt.show()"
   ]
  },
  {
   "cell_type": "code",
   "execution_count": 522,
   "metadata": {
    "ExecuteTime": {
     "end_time": "2020-04-23T15:51:18.688705Z",
     "start_time": "2020-04-23T15:51:18.682065Z"
    }
   },
   "outputs": [],
   "source": [
    "def create_text_embeddings(ncomponents, data, lr):\n",
    "    \n",
    "    '''\n",
    "    Create t-sne text embeddings.\n",
    "    '''\n",
    "    \n",
    "    embedded_data = pd.DataFrame(TSNE(n_components=ncomponents, random_state=1, learning_rate=lr)\\\n",
    "                                 .fit_transform(data),\n",
    "                       columns=['c{}'.format(i) for i in range(ncomponents)],\n",
    "                       index=X.index)\n",
    "    \n",
    "    embedded_data['artist'] = df['artist']\n",
    "    embedded_data['song'] = df['song']\n",
    "    \n",
    "    return embedded_data"
   ]
  },
  {
   "cell_type": "code",
   "execution_count": 406,
   "metadata": {
    "ExecuteTime": {
     "end_time": "2020-04-23T11:31:29.551656Z",
     "start_time": "2020-04-23T11:31:29.369522Z"
    }
   },
   "outputs": [],
   "source": [
    "vectoriser, language_vector_data= vectorise(ngram_range=(1, 1), max_feats=1000, input_data=df['lyrics_processed'])"
   ]
  },
  {
   "cell_type": "code",
   "execution_count": 407,
   "metadata": {
    "ExecuteTime": {
     "end_time": "2020-04-23T11:31:33.806509Z",
     "start_time": "2020-04-23T11:31:33.797085Z"
    }
   },
   "outputs": [],
   "source": [
    "# Store X for later\n",
    "X = language_vector_data.copy()"
   ]
  },
  {
   "cell_type": "markdown",
   "metadata": {},
   "source": [
    "Now lets assemble a string of all Bob language and all Kendrick language to compare in word clouds."
   ]
  },
  {
   "cell_type": "code",
   "execution_count": 408,
   "metadata": {
    "ExecuteTime": {
     "end_time": "2020-04-23T11:31:38.457655Z",
     "start_time": "2020-04-23T11:31:38.449056Z"
    }
   },
   "outputs": [],
   "source": [
    "language_vector_data['artist']=df['artist']"
   ]
  },
  {
   "cell_type": "code",
   "execution_count": 493,
   "metadata": {
    "ExecuteTime": {
     "end_time": "2020-04-23T15:27:37.886719Z",
     "start_time": "2020-04-23T15:27:37.879643Z"
    }
   },
   "outputs": [],
   "source": [
    "all_bob = ' '.join(df[df['artist']=='Bob Dylan']['lyrics_processed'].values)\n",
    "all_ken = ' '.join(df[df['artist']=='Kendrick Lamar']['lyrics_processed'].values)"
   ]
  },
  {
   "cell_type": "code",
   "execution_count": 496,
   "metadata": {
    "ExecuteTime": {
     "end_time": "2020-04-23T15:28:24.408793Z",
     "start_time": "2020-04-23T15:28:23.894553Z"
    }
   },
   "outputs": [
    {
     "data": {
      "image/png": "[encoded data removed]",
      "text/plain": [
       "<Figure size 432x288 with 1 Axes>"
      ]
     },
     "metadata": {
      "needs_background": "light"
     },
     "output_type": "display_data"
    }
   ],
   "source": [
    "plot_clouds(all_bob)"
   ]
  },
  {
   "cell_type": "code",
   "execution_count": 495,
   "metadata": {
    "ExecuteTime": {
     "end_time": "2020-04-23T15:28:18.349046Z",
     "start_time": "2020-04-23T15:28:17.728287Z"
    }
   },
   "outputs": [
    {
     "data": {
      "image/png": "[encoded data removed]",
      "text/plain": [
       "<Figure size 432x288 with 1 Axes>"
      ]
     },
     "metadata": {
      "needs_background": "light"
     },
     "output_type": "display_data"
    }
   ],
   "source": [
    "plot_clouds(all_ken)"
   ]
  },
  {
   "cell_type": "markdown",
   "metadata": {},
   "source": [
    "We can see that the language is quite different between Kendrick and Bob lyrics, but thats understandable and to be expected.\n",
    "\n",
    "This doens't really tell us anything that we didn't know before.\n",
    "\n",
    "Lets use text embeddings to properly inspect that seperability of the language."
   ]
  },
  {
   "cell_type": "code",
   "execution_count": 529,
   "metadata": {
    "ExecuteTime": {
     "end_time": "2020-04-23T15:52:57.918112Z",
     "start_time": "2020-04-23T15:52:55.501981Z"
    }
   },
   "outputs": [
    {
     "data": {
      "image/png": "[encoded data removed]",
      "text/plain": [
       "<Figure size 720x720 with 1 Axes>"
      ]
     },
     "metadata": {
      "needs_background": "light"
     },
     "output_type": "display_data"
    }
   ],
   "source": [
    "tsne2 = create_text_embeddings(2, X, 25)\n",
    "fig, ax = plt.subplots(figsize=(10,10))\n",
    "sns.scatterplot(tsne2['c0'], tsne2['c1'], hue=tsne2['artist']);"
   ]
  },
  {
   "cell_type": "markdown",
   "metadata": {},
   "source": [
    "There are some bob songs in kendrick territory and vice versa.\n",
    "\n",
    "Lets take a quick look."
   ]
  },
  {
   "cell_type": "code",
   "execution_count": 530,
   "metadata": {
    "ExecuteTime": {
     "end_time": "2020-04-23T15:53:20.512349Z",
     "start_time": "2020-04-23T15:53:20.494806Z"
    }
   },
   "outputs": [
    {
     "data": {
      "text/html": [
       "<div>\n",
       "<style scoped>\n",
       "    .dataframe tbody tr th:only-of-type {\n",
       "        vertical-align: middle;\n",
       "    }\n",
       "\n",
       "    .dataframe tbody tr th {\n",
       "        vertical-align: top;\n",
       "    }\n",
       "\n",
       "    .dataframe thead th {\n",
       "        text-align: right;\n",
       "    }\n",
       "</style>\n",
       "<table border=\"1\" class=\"dataframe\">\n",
       "  <thead>\n",
       "    <tr style=\"text-align: right;\">\n",
       "      <th></th>\n",
       "      <th>c0</th>\n",
       "      <th>c1</th>\n",
       "      <th>artist</th>\n",
       "      <th>song</th>\n",
       "    </tr>\n",
       "  </thead>\n",
       "  <tbody>\n",
       "    <tr>\n",
       "      <th>245</th>\n",
       "      <td>12.440882</td>\n",
       "      <td>-7.658236</td>\n",
       "      <td>Kendrick Lamar</td>\n",
       "      <td>​good kid</td>\n",
       "    </tr>\n",
       "    <tr>\n",
       "      <th>248</th>\n",
       "      <td>10.113191</td>\n",
       "      <td>-18.283951</td>\n",
       "      <td>Kendrick Lamar</td>\n",
       "      <td>For Sale? (Interlude)</td>\n",
       "    </tr>\n",
       "    <tr>\n",
       "      <th>271</th>\n",
       "      <td>11.965561</td>\n",
       "      <td>-12.831423</td>\n",
       "      <td>Kendrick Lamar</td>\n",
       "      <td>​untitled 01 | 08.19.2014.</td>\n",
       "    </tr>\n",
       "    <tr>\n",
       "      <th>280</th>\n",
       "      <td>8.493573</td>\n",
       "      <td>-3.928499</td>\n",
       "      <td>Kendrick Lamar</td>\n",
       "      <td>​untitled 06 | 06.30.2014.</td>\n",
       "    </tr>\n",
       "  </tbody>\n",
       "</table>\n",
       "</div>"
      ],
      "text/plain": [
       "            c0         c1          artist                        song\n",
       "245  12.440882  -7.658236  Kendrick Lamar                   ​good kid\n",
       "248  10.113191 -18.283951  Kendrick Lamar       For Sale? (Interlude)\n",
       "271  11.965561 -12.831423  Kendrick Lamar  ​untitled 01 | 08.19.2014.\n",
       "280   8.493573  -3.928499  Kendrick Lamar  ​untitled 06 | 06.30.2014."
      ]
     },
     "execution_count": 530,
     "metadata": {},
     "output_type": "execute_result"
    }
   ],
   "source": [
    "tsne2[(tsne2['c0']>0)&(tsne2['c1']<0)&(tsne2['artist']=='Kendrick Lamar')]"
   ]
  },
  {
   "cell_type": "markdown",
   "metadata": {},
   "source": [
    "The most peripheral is 'For Sale?' lets take a look."
   ]
  },
  {
   "cell_type": "code",
   "execution_count": 543,
   "metadata": {
    "ExecuteTime": {
     "end_time": "2020-04-23T15:56:58.899471Z",
     "start_time": "2020-04-23T15:56:58.891558Z"
    }
   },
   "outputs": [
    {
     "data": {
      "text/plain": [
       "'rinking that potion, you can see me swerving \\'cause i (want you) (i want you more than you know)    i remember you took me to the mall last week, baby you looked me in my eyes about four, five times \\'til i was hypnotized, then you clarified that i (want you) you said sherane ain\\'t got nothing on lucy i said, \"you crazy?\" roses are red, violets are blue but me and you both pushing up daisies if i (want you)    now, baby, when i get you, get you, get you, get you i\\'ma go hit the throttle with you '"
      ]
     },
     "execution_count": 543,
     "metadata": {},
     "output_type": "execute_result"
    }
   ],
   "source": [
    "df[df['song']=='For Sale? (Interlude)']['lyrics'].values[0][500:1000]"
   ]
  },
  {
   "cell_type": "markdown",
   "metadata": {},
   "source": [
    "Could be Bob!?"
   ]
  },
  {
   "cell_type": "markdown",
   "metadata": {},
   "source": [
    "Lets look for the Kendrick-like Bob tracks."
   ]
  },
  {
   "cell_type": "code",
   "execution_count": 544,
   "metadata": {
    "ExecuteTime": {
     "end_time": "2020-04-23T15:58:57.323685Z",
     "start_time": "2020-04-23T15:58:57.309329Z"
    }
   },
   "outputs": [
    {
     "data": {
      "text/html": [
       "<div>\n",
       "<style scoped>\n",
       "    .dataframe tbody tr th:only-of-type {\n",
       "        vertical-align: middle;\n",
       "    }\n",
       "\n",
       "    .dataframe tbody tr th {\n",
       "        vertical-align: top;\n",
       "    }\n",
       "\n",
       "    .dataframe thead th {\n",
       "        text-align: right;\n",
       "    }\n",
       "</style>\n",
       "<table border=\"1\" class=\"dataframe\">\n",
       "  <thead>\n",
       "    <tr style=\"text-align: right;\">\n",
       "      <th></th>\n",
       "      <th>c0</th>\n",
       "      <th>c1</th>\n",
       "      <th>artist</th>\n",
       "      <th>song</th>\n",
       "    </tr>\n",
       "  </thead>\n",
       "  <tbody>\n",
       "    <tr>\n",
       "      <th>16</th>\n",
       "      <td>5.706668</td>\n",
       "      <td>13.655292</td>\n",
       "      <td>Bob Dylan</td>\n",
       "      <td>It’s Alright, Ma (I’m Only Bleeding)</td>\n",
       "    </tr>\n",
       "    <tr>\n",
       "      <th>59</th>\n",
       "      <td>0.978340</td>\n",
       "      <td>15.796454</td>\n",
       "      <td>Bob Dylan</td>\n",
       "      <td>Queen Jane Approximately</td>\n",
       "    </tr>\n",
       "    <tr>\n",
       "      <th>124</th>\n",
       "      <td>-3.087412</td>\n",
       "      <td>12.996831</td>\n",
       "      <td>Bob Dylan</td>\n",
       "      <td>Bob Dylan’s Blues</td>\n",
       "    </tr>\n",
       "    <tr>\n",
       "      <th>135</th>\n",
       "      <td>2.532752</td>\n",
       "      <td>10.427600</td>\n",
       "      <td>Bob Dylan</td>\n",
       "      <td>Like A Rolling Stone (Video)</td>\n",
       "    </tr>\n",
       "    <tr>\n",
       "      <th>138</th>\n",
       "      <td>-2.010780</td>\n",
       "      <td>18.788519</td>\n",
       "      <td>Bob Dylan</td>\n",
       "      <td>Froggie Went A-Courtin’</td>\n",
       "    </tr>\n",
       "  </tbody>\n",
       "</table>\n",
       "</div>"
      ],
      "text/plain": [
       "           c0         c1     artist                                  song\n",
       "16   5.706668  13.655292  Bob Dylan  It’s Alright, Ma (I’m Only Bleeding)\n",
       "59   0.978340  15.796454  Bob Dylan              Queen Jane Approximately\n",
       "124 -3.087412  12.996831  Bob Dylan                     Bob Dylan’s Blues\n",
       "135  2.532752  10.427600  Bob Dylan          Like A Rolling Stone (Video)\n",
       "138 -2.010780  18.788519  Bob Dylan               Froggie Went A-Courtin’"
      ]
     },
     "execution_count": 544,
     "metadata": {},
     "output_type": "execute_result"
    }
   ],
   "source": [
    "tsne2[(tsne2['c0']<10)&(tsne2['c1']>10)&(tsne2['artist']=='Bob Dylan')]"
   ]
  },
  {
   "cell_type": "code",
   "execution_count": 545,
   "metadata": {
    "ExecuteTime": {
     "end_time": "2020-04-23T15:59:39.435894Z",
     "start_time": "2020-04-23T15:59:39.426857Z"
    }
   },
   "outputs": [
    {
     "data": {
      "text/plain": [
       "\"an, but unlike before you discover that you'd just be one more person crying    so don't fear if you hear a foreign sound to your ear it's alright, ma, i'm only sighing    as some warn victory, some downfall private reasons, great or small can be seen in the eyes of those that call to make all that should be killed to crawl while others say don't hate nothing at all except hatred    disillusioned words like bullets bark as human gods aim for their mark make everything from toy guns that spark to\""
      ]
     },
     "execution_count": 545,
     "metadata": {},
     "output_type": "execute_result"
    }
   ],
   "source": [
    "df[df['song']=='It’s Alright, Ma (I’m Only Bleeding)']['lyrics'].values[0][500:1000]"
   ]
  },
  {
   "cell_type": "markdown",
   "metadata": {},
   "source": [
    "Again, could be Kendrick!"
   ]
  },
  {
   "cell_type": "markdown",
   "metadata": {},
   "source": [
    "Lets try 3-dimensions and check if the same holds."
   ]
  },
  {
   "cell_type": "code",
   "execution_count": 528,
   "metadata": {
    "ExecuteTime": {
     "end_time": "2020-04-23T15:52:43.953852Z",
     "start_time": "2020-04-23T15:52:39.997653Z"
    }
   },
   "outputs": [
    {
     "data": {
      "application/vnd.plotly.v1+json": {
       "config": {
        "plotlyServerURL": "https://plot.ly"
       },
       "data": [
        {
         "hovertemplate": "artist=Bob Dylan<br>c0=%{x}<br>c1=%{y}<br>c2=%{z}<extra></extra>",
         "legendgroup": "Bob Dylan",
         "marker": {
          "color": "#636efa",
          "opacity": 0.7,
          "symbol": "circle"
         },
         "mode": "markers",
         "name": "Bob Dylan",
         "scene": "scene",
         "showlegend": true,
         "type": "scatter3d",
         "x": [
          26.78653335571289,
          -25.358417510986328,
          24.38638687133789,
          -0.01292057428508997,
          -15.634504318237305,
          -8.48426628112793,
          15.742819786071777,
          -11.887069702148438,
          26.62729835510254,
          -23.896785736083984,
          -9.184941291809082,
          5.615056037902832,
          5.047186851501465,
          15.294476509094238,
          11.206695556640625,
          -29.27802848815918,
          9.858332633972168,
          -11.150341987609863,
          -29.722129821777344,
          28.513153076171875,
          5.630431175231934,
          9.357190132141113,
          6.431919574737549,
          34.94817352294922,
          -21.79259490966797,
          -18.237977981567383,
          21.40060043334961,
          -0.8795323371887207,
          -31.951215744018555,
          -15.867621421813965,
          28.981225967407227,
          15.090131759643555,
          -6.432238578796387,
          -1.727601170539856,
          -13.250280380249023,
          -17.323448181152344,
          2.200343132019043,
          3.836426019668579,
          10.375825881958008,
          -22.824979782104492,
          -35.67966079711914,
          4.811764717102051,
          3.0576653480529785,
          -21.325759887695312,
          -36.677642822265625,
          -2.6365396976470947,
          1.76650071144104,
          -20.187593460083008,
          1.034371256828308,
          -37.583091735839844,
          16.326400756835938,
          -4.860746383666992,
          29.970434188842773,
          -6.806191921234131,
          14.824211120605469,
          20.840206146240234,
          7.435161590576172,
          8.035460472106934,
          24.725637435913086,
          -24.759918212890625,
          -5.7898478507995605,
          26.014013290405273,
          16.667306900024414,
          -2.0829715728759766,
          -3.695754051208496,
          2.809521198272705,
          22.745075225830078,
          -8.813720703125,
          -6.765194892883301,
          3.5772902965545654,
          -20.54398536682129,
          14.187026977539062,
          -27.1745548248291,
          7.801170349121094,
          8.069527626037598,
          -1.4148701429367065,
          -2.9999334812164307,
          4.922694683074951,
          16.540027618408203,
          0.38376396894454956,
          -5.461822032928467,
          8.231783866882324,
          4.708833694458008,
          -1.2826404571533203,
          15.25148868560791,
          -3.9765000343322754,
          -30.521137237548828,
          22.859146118164062,
          -14.614481925964355,
          27.035612106323242,
          -40.61011505126953,
          36.74508285522461,
          13.262428283691406,
          -11.063860893249512,
          19.59012222290039,
          26.766265869140625,
          -14.922118186950684,
          -30.43759536743164,
          -24.056297302246094,
          -20.23161506652832,
          -15.940200805664062,
          -4.774590492248535,
          -17.02645492553711,
          3.9308838844299316,
          -16.754812240600586,
          -7.656361103057861,
          -15.610000610351562,
          14.882440567016602,
          -15.124110221862793,
          -14.915550231933594,
          2.137984275817871,
          6.121662139892578,
          -8.983943939208984,
          16.836339950561523,
          -11.974858283996582,
          8.34562873840332,
          35.91141891479492,
          -40.5007209777832,
          20.951162338256836,
          -12.985457420349121,
          -2.7007815837860107,
          -2.676004409790039,
          2.3082075119018555,
          -24.4272518157959,
          -17.525131225585938,
          13.82294750213623,
          30.303983688354492,
          -13.005840301513672,
          25.834529876708984,
          -18.153085708618164,
          17.984352111816406,
          -16.519668579101562,
          -0.4841449558734894,
          -10.540875434875488,
          -27.642284393310547,
          12.282684326171875,
          24.16884994506836,
          -23.635478973388672,
          -6.319961071014404,
          7.458869934082031,
          -19.228378295898438,
          8.355744361877441,
          -25.88690757751465,
          12.360808372497559,
          -15.488228797912598,
          20.419706344604492,
          25.22188949584961,
          -9.209939002990723,
          20.31040382385254,
          -24.86028289794922,
          13.89542293548584,
          -5.289501190185547,
          -1.6874326467514038,
          -40.986751556396484,
          12.564006805419922,
          2.288914442062378,
          -5.5237202644348145,
          -17.452877044677734,
          -5.266003131866455,
          6.171894550323486,
          17.042741775512695,
          -17.278812408447266,
          -2.7788875102996826,
          -11.200976371765137,
          22.719724655151367,
          -26.620378494262695,
          20.860321044921875,
          -2.34527325630188,
          33.053794860839844,
          -12.582889556884766,
          15.856306076049805,
          27.751123428344727,
          5.492240905761719,
          11.051961898803711,
          -15.819193840026855,
          -26.991304397583008,
          5.690723419189453,
          15.567720413208008,
          -20.671443939208984,
          18.805435180664062,
          -2.962390184402466,
          27.289783477783203,
          27.94230842590332,
          -14.832711219787598,
          25.305072784423828,
          31.695131301879883,
          -15.778138160705566,
          0.9280200600624084,
          -5.476842403411865,
          -38.60395050048828,
          10.953307151794434,
          3.0513012409210205,
          1.4164005517959595,
          -14.935983657836914,
          -17.39081573486328,
          18.39386558532715,
          25.123382568359375,
          3.0336787700653076,
          15.158770561218262,
          7.591480255126953
         ],
         "y": [
          14.476959228515625,
          15.845771789550781,
          32.89653778076172,
          23.10890007019043,
          7.920630931854248,
          14.395044326782227,
          15.769742965698242,
          30.687580108642578,
          18.827560424804688,
          8.181751251220703,
          20.021629333496094,
          24.18905258178711,
          15.099364280700684,
          6.615291595458984,
          22.324440002441406,
          -2.3883779048919678,
          -20.568429946899414,
          -0.49012941122055054,
          19.661827087402344,
          9.023579597473145,
          7.389271259307861,
          31.524911880493164,
          24.44936180114746,
          0.021736908704042435,
          13.347472190856934,
          16.260822296142578,
          30.761173248291016,
          -3.4961657524108887,
          10.345586776733398,
          27.701332092285156,
          30.994983673095703,
          20.25501823425293,
          17.283466339111328,
          -1.8761194944381714,
          1.8673372268676758,
          -22.629636764526367,
          13.775411605834961,
          0.10993435233831406,
          -1.8200310468673706,
          3.8978970050811768,
          8.037652015686035,
          -2.4295244216918945,
          6.638339519500732,
          -0.08169393241405487,
          -16.7326717376709,
          18.08517074584961,
          25.201583862304688,
          -1.8835837841033936,
          1.2405569553375244,
          -0.14694419503211975,
          12.624205589294434,
          21.676130294799805,
          4.521105766296387,
          11.893858909606934,
          24.585824966430664,
          8.097654342651367,
          -0.41871505975723267,
          14.711915969848633,
          18.51657485961914,
          -11.530904769897461,
          5.513331413269043,
          7.18499231338501,
          1.0854854583740234,
          20.23590850830078,
          8.465404510498047,
          -0.40237724781036377,
          10.441581726074219,
          5.50691556930542,
          5.613030910491943,
          13.615252494812012,
          5.677242755889893,
          13.308777809143066,
          16.305200576782227,
          37.756656646728516,
          -2.178886651992798,
          21.610292434692383,
          12.03744888305664,
          6.688321113586426,
          21.65673065185547,
          27.618717193603516,
          12.744701385498047,
          8.162444114685059,
          -14.36160659790039,
          7.897144794464111,
          36.547061920166016,
          37.040775299072266,
          17.021501541137695,
          14.322283744812012,
          26.841493606567383,
          2.906639575958252,
          10.901346206665039,
          -17.89990234375,
          0.877984344959259,
          25.013519287109375,
          -6.292051315307617,
          23.081315994262695,
          3.6327526569366455,
          -6.363391399383545,
          14.95641040802002,
          -9.063272476196289,
          15.615769386291504,
          18.10791015625,
          34.66377639770508,
          16.5119571685791,
          -6.747600555419922,
          16.018381118774414,
          -5.723033428192139,
          13.127328872680664,
          1.318356990814209,
          11.507562637329102,
          -5.788135528564453,
          21.799896240234375,
          5.847160816192627,
          13.737104415893555,
          6.717798709869385,
          -6.149786472320557,
          -18.772579193115234,
          4.94577169418335,
          34.971012115478516,
          32.35901641845703,
          1.5071992874145508,
          34.41551971435547,
          5.423356056213379,
          1.1941128969192505,
          -17.876354217529297,
          -7.207345962524414,
          18.851259231567383,
          4.091420650482178,
          -3.393094778060913,
          23.553712844848633,
          7.047145843505859,
          22.165409088134766,
          4.026076793670654,
          -0.43528613448143005,
          20.283443450927734,
          -6.91344690322876,
          -21.7020206451416,
          -8.557833671569824,
          -31.503360748291016,
          10.337684631347656,
          8.191916465759277,
          5.126904487609863,
          -8.06995677947998,
          24.361331939697266,
          11.843571662902832,
          -19.010475158691406,
          2.9394760131835938,
          28.184236526489258,
          4.246484279632568,
          -5.89771842956543,
          -1.8261624574661255,
          -2.227306842803955,
          -3.363743782043457,
          0.5623769760131836,
          7.322628498077393,
          0.7092625498771667,
          33.02485656738281,
          9.534610748291016,
          7.600028038024902,
          -3.484159231185913,
          14.382622718811035,
          15.582633018493652,
          28.33353042602539,
          6.242008686065674,
          -7.675582408905029,
          2.8273684978485107,
          22.65850257873535,
          -1.1611441373825073,
          14.391592979431152,
          9.584860801696777,
          0.9486162066459656,
          9.733136177062988,
          14.111884117126465,
          24.09534454345703,
          -1.89822518825531,
          -8.9320707321167,
          1.896972894668579,
          9.682723045349121,
          29.642492294311523,
          13.963760375976562,
          6.932242393493652,
          -8.129432678222656,
          -7.5140509605407715,
          -5.086278915405273,
          -13.82125186920166,
          5.0468597412109375,
          -0.9050455093383789,
          38.82421875,
          14.305728912353516,
          -13.047452926635742,
          23.64971923828125,
          34.97800064086914,
          33.57383728027344,
          -2.634087085723877,
          -4.808294296264648,
          -7.556948661804199,
          -1.9528038501739502,
          -5.396342754364014,
          29.286605834960938,
          4.560461521148682
         ],
         "z": [
          18.48631477355957,
          16.406816482543945,
          3.927013635635376,
          14.267154693603516,
          -17.204248428344727,
          -9.019011497497559,
          -17.26350212097168,
          10.93704605102539,
          16.370498657226562,
          -4.540409564971924,
          5.6938395500183105,
          -4.1805524826049805,
          -13.361838340759277,
          17.788938522338867,
          15.397984504699707,
          11.74310302734375,
          -25.027639389038086,
          -15.588088989257812,
          2.2069523334503174,
          20.23332405090332,
          24.2777156829834,
          -10.804882049560547,
          -27.778493881225586,
          4.18144416809082,
          -19.76056671142578,
          -18.544483184814453,
          -18.969802856445312,
          -29.072919845581055,
          7.915337562561035,
          11.142699241638184,
          -0.06608786433935165,
          -1.8643755912780762,
          -5.348081588745117,
          40.67853927612305,
          23.158262252807617,
          -21.111955642700195,
          3.401080369949341,
          39.45577621459961,
          -18.342588424682617,
          -1.5007647275924683,
          10.978837013244629,
          14.209112167358398,
          14.867228507995605,
          -16.033498764038086,
          5.350278377532959,
          -0.47687828540802,
          -30.249500274658203,
          3.299365520477295,
          0.7312623262405396,
          -11.981954574584961,
          -1.839054822921753,
          -33.21195983886719,
          -24.40315055847168,
          -29.914180755615234,
          12.205561637878418,
          -5.910529613494873,
          28.49386215209961,
          2.9771947860717773,
          2.773024082183838,
          16.18236541748047,
          24.996963500976562,
          -7.9134955406188965,
          -25.847171783447266,
          -18.991806030273438,
          -19.353450775146484,
          -30.855178833007812,
          0.18745502829551697,
          12.669461250305176,
          -1.6811244487762451,
          13.846105575561523,
          16.358213424682617,
          -22.08759117126465,
          4.169416427612305,
          0.665259838104248,
          -33.4077262878418,
          -13.160151481628418,
          -33.586997985839844,
          35.27552795410156,
          -19.535419464111328,
          16.278696060180664,
          25.99190902709961,
          -13.570830345153809,
          -26.40025520324707,
          -2.7336831092834473,
          10.83696174621582,
          -0.40798309445381165,
          -11.824865341186523,
          -16.823102951049805,
          -16.3006591796875,
          -20.795778274536133,
          -3.2623772621154785,
          0.7585752010345459,
          -10.127254486083984,
          16.038236618041992,
          -9.757978439331055,
          12.447720527648926,
          -1.2449232339859009,
          -1.1560511589050293,
          10.08091926574707,
          -20.632741928100586,
          -1.1500489711761475,
          25.293956756591797,
          -1.4344563484191895,
          -19.697885513305664,
          3.5282695293426514,
          -26.001893997192383,
          16.740873336791992,
          8.845012664794922,
          4.76169490814209,
          -30.733627319335938,
          -10.293319702148438,
          8.568072319030762,
          -34.87257385253906,
          -9.418392181396484,
          22.744388580322266,
          40.66709518432617,
          -3.662245512008667,
          -2.693974494934082,
          7.558221817016602,
          -0.8355309963226318,
          28.447248458862305,
          -6.999680995941162,
          6.341957092285156,
          8.077249526977539,
          -4.89186429977417,
          10.69424057006836,
          -8.551921844482422,
          31.74880027770996,
          23.682628631591797,
          6.473597049713135,
          0.5832576751708984,
          -5.4809112548828125,
          -11.627361297607422,
          0.6162824630737305,
          -10.378493309020996,
          -35.5728645324707,
          -11.225922584533691,
          -11.567852020263672,
          -19.465621948242188,
          -29.303874969482422,
          -30.73482894897461,
          -2.982017993927002,
          9.647459983825684,
          -6.290728569030762,
          8.532112121582031,
          -11.421518325805664,
          -0.6870137453079224,
          -13.793327331542969,
          -16.837324142456055,
          1.8711028099060059,
          28.69040298461914,
          20.168949127197266,
          -3.554719924926758,
          -1.2060877084732056,
          -5.546573638916016,
          -37.39012145996094,
          -13.319426536560059,
          20.048702239990234,
          -25.026662826538086,
          -9.217823028564453,
          -29.73418426513672,
          21.899545669555664,
          1.559228777885437,
          6.481207847595215,
          -15.541423797607422,
          -20.01143455505371,
          -7.901421546936035,
          -14.805204391479492,
          -3.187453508377075,
          31.12858772277832,
          5.41900110244751,
          5.647151470184326,
          -6.488513469696045,
          -11.929288864135742,
          -23.993913650512695,
          -5.923636436462402,
          -20.605684280395508,
          21.189769744873047,
          12.614827156066895,
          4.36009407043457,
          18.836870193481445,
          14.165261268615723,
          -13.019885063171387,
          -17.768587112426758,
          2.356621742248535,
          -9.746146202087402,
          34.99102020263672,
          14.539026260375977,
          9.322669982910156,
          3.2350051403045654,
          5.278045177459717,
          1.1807581186294556,
          18.683353424072266,
          10.308860778808594,
          -1.7952890396118164,
          -20.153606414794922,
          16.843379974365234,
          39.136234283447266,
          -4.440482139587402,
          7.459472179412842
         ]
        },
        {
         "hovertemplate": "artist=Kendrick Lamar<br>c0=%{x}<br>c1=%{y}<br>c2=%{z}<extra></extra>",
         "legendgroup": "Kendrick Lamar",
         "marker": {
          "color": "#EF553B",
          "opacity": 0.7,
          "symbol": "diamond"
         },
         "mode": "markers",
         "name": "Kendrick Lamar",
         "scene": "scene",
         "showlegend": true,
         "type": "scatter3d",
         "x": [
          5.034220218658447,
          -3.9370524883270264,
          15.289140701293945,
          18.271276473999023,
          -7.228482723236084,
          -14.322458267211914,
          7.5003581047058105,
          3.375037431716919,
          20.746742248535156,
          -15.802325248718262,
          10.468486785888672,
          8.393929481506348,
          30.895875930786133,
          2.7967586517333984,
          15.09954833984375,
          2.0833797454833984,
          -7.250452518463135,
          -6.303816795349121,
          9.254870414733887,
          -11.759279251098633,
          -8.155189514160156,
          -1.8096662759780884,
          -22.038330078125,
          -9.525618553161621,
          -3.620152473449707,
          20.32493782043457,
          -0.595491349697113,
          2.726628541946411,
          -11.852469444274902,
          16.718904495239258,
          5.3563127517700195,
          -22.650148391723633,
          -6.707613468170166,
          -12.203782081604004,
          6.541957378387451,
          9.193008422851562,
          12.953055381774902,
          3.3154897689819336,
          6.06858491897583,
          -6.895479679107666,
          -28.27833366394043,
          -12.377575874328613,
          -5.459336757659912,
          -2.5190224647521973,
          -10.329978942871094,
          2.6873602867126465,
          -18.941316604614258,
          8.162118911743164,
          -29.392051696777344,
          -8.974495887756348,
          -0.7216849327087402,
          -3.7480225563049316,
          21.731590270996094,
          4.479820251464844,
          7.650043487548828,
          -0.19914409518241882,
          0.8021813035011292,
          -0.6283522248268127,
          -13.785455703735352,
          -4.717906475067139,
          -6.753981113433838,
          31.63551902770996,
          -16.70461654663086,
          -1.3083174228668213,
          0.2414132058620453,
          -3.74715256690979,
          2.778125524520874,
          5.678338050842285,
          -10.346583366394043,
          13.135940551757812,
          13.154703140258789,
          -15.124520301818848,
          12.09206771850586,
          12.509907722473145,
          24.216690063476562,
          20.770748138427734,
          7.571913242340088,
          21.176801681518555,
          4.836939334869385,
          -1.844334363937378,
          -12.229106903076172,
          -3.2669036388397217,
          -18.044157028198242,
          4.984109878540039,
          -15.561765670776367,
          -5.632218360900879,
          5.55391263961792,
          2.0196492671966553,
          -5.8671112060546875,
          17.155349731445312,
          -25.75598907470703,
          14.48469352722168,
          -33.14069366455078,
          -37.69516372680664,
          -6.737271785736084,
          15.759442329406738,
          -19.69422149658203,
          24.87568473815918,
          3.0734903812408447,
          -13.35682487487793
         ],
         "y": [
          -41.37946701049805,
          -26.11949920654297,
          -40.910579681396484,
          -18.024423599243164,
          -20.3055477142334,
          -18.47064781188965,
          -35.02730178833008,
          -24.259334564208984,
          -30.007230758666992,
          -7.852738857269287,
          -19.489288330078125,
          -25.596294403076172,
          21.938430786132812,
          -27.037111282348633,
          -17.156402587890625,
          -14.520883560180664,
          -10.035933494567871,
          -21.55150032043457,
          -28.0801944732666,
          -22.735633850097656,
          -10.118149757385254,
          -30.179353713989258,
          -21.205856323242188,
          -26.13005828857422,
          -3.4995007514953613,
          -18.71674919128418,
          -23.80802345275879,
          -16.32377052307129,
          -19.226192474365234,
          -0.468570739030838,
          17.33437728881836,
          -33.51919174194336,
          -37.97890090942383,
          10.298375129699707,
          -19.233251571655273,
          -23.877565383911133,
          -28.04304313659668,
          -34.36025619506836,
          -30.03278160095215,
          -34.200782775878906,
          -22.73008155822754,
          -12.259944915771484,
          -6.410205841064453,
          -27.350616455078125,
          -30.690696716308594,
          2.4982895851135254,
          -11.991533279418945,
          -5.535923480987549,
          0.022503696382045746,
          -7.258009910583496,
          -19.936471939086914,
          -33.425926208496094,
          -8.580643653869629,
          -23.060470581054688,
          -32.6497802734375,
          33.87411117553711,
          -43.13790512084961,
          -19.655611038208008,
          -28.248306274414062,
          -16.803516387939453,
          -40.38570785522461,
          20.21883773803711,
          -0.16312715411186218,
          -12.445737838745117,
          -12.796374320983887,
          -8.88248348236084,
          -13.001280784606934,
          -14.0939302444458,
          -6.061740398406982,
          -7.403273105621338,
          -10.393696784973145,
          -23.034942626953125,
          -7.006316661834717,
          -18.229738235473633,
          -28.03937339782715,
          -14.76841926574707,
          -6.4483513832092285,
          -3.8748598098754883,
          -26.689781188964844,
          -22.119125366210938,
          26.127628326416016,
          -16.16782569885254,
          -26.940359115600586,
          -19.80160903930664,
          -17.653539657592773,
          -21.64385223388672,
          -33.59572982788086,
          -4.816594123840332,
          -17.826366424560547,
          -40.228607177734375,
          -26.50274658203125,
          -30.267597198486328,
          -21.008655548095703,
          0.3865415155887604,
          -16.384035110473633,
          -26.918874740600586,
          -36.7803840637207,
          -11.114060401916504,
          -14.64597225189209,
          -28.7415714263916
         ],
         "z": [
          8.46580982208252,
          5.506267547607422,
          0.7174283862113953,
          21.63010597229004,
          -27.101375579833984,
          6.4223103523254395,
          20.753765106201172,
          -18.52376937866211,
          7.700648784637451,
          -13.216940879821777,
          -0.504315197467804,
          -22.571687698364258,
          -14.20299243927002,
          5.970920562744141,
          26.78322982788086,
          1.969092607498169,
          -8.185794830322266,
          -9.596134185791016,
          7.417734146118164,
          10.5204439163208,
          1.8083481788635254,
          12.092414855957031,
          0.27066999673843384,
          1.538379430770874,
          7.654941082000732,
          17.514434814453125,
          20.301816940307617,
          -9.65965747833252,
          -5.523828029632568,
          -1.1080749034881592,
          19.409584045410156,
          6.041378974914551,
          -8.633712768554688,
          -11.150398254394531,
          5.4780402183532715,
          17.593021392822266,
          -3.9285976886749268,
          18.952302932739258,
          -26.283233642578125,
          -14.359119415283203,
          -12.044769287109375,
          -16.202442169189453,
          -32.44551467895508,
          -3.084134817123413,
          9.446349143981934,
          26.06593132019043,
          18.752994537353516,
          18.88968276977539,
          25.72562026977539,
          -20.81548309326172,
          8.290674209594727,
          3.457824230194092,
          4.256191730499268,
          -2.213210344314575,
          -7.851960182189941,
          -18.686336517333984,
          8.236852645874023,
          -5.271250247955322,
          19.79088020324707,
          16.592330932617188,
          -4.661540985107422,
          -18.595186233520508,
          -11.627592086791992,
          11.671595573425293,
          27.81582260131836,
          17.88528060913086,
          -20.395530700683594,
          14.044468879699707,
          -9.268590927124023,
          -19.436321258544922,
          -5.336874485015869,
          -16.680931091308594,
          2.247103452682495,
          9.507816314697266,
          4.560343265533447,
          4.527995586395264,
          2.031278610229492,
          18.403722763061523,
          -8.752740859985352,
          0.32485339045524597,
          22.59297752380371,
          28.569908142089844,
          15.369487762451172,
          14.95833969116211,
          16.252464294433594,
          12.204488754272461,
          -3.4758784770965576,
          10.623516082763672,
          1.8723191022872925,
          -3.412874221801758,
          -10.562122344970703,
          -17.70094871520996,
          7.504480361938477,
          -16.670263290405273,
          10.146466255187988,
          -20.706388473510742,
          4.750611305236816,
          -3.903926134109497,
          -15.00060749053955,
          -1.5076699256896973
         ]
        }
       ],
       "layout": {
        "legend": {
         "title": {
          "text": "artist"
         },
         "tracegroupgap": 0
        },
        "margin": {
         "t": 60
        },
        "scene": {
         "domain": {
          "x": [
           0,
           1
          ],
          "y": [
           0,
           1
          ]
         },
         "xaxis": {
          "title": {
           "text": "c0"
          }
         },
         "yaxis": {
          "title": {
           "text": "c1"
          }
         },
         "zaxis": {
          "title": {
           "text": "c2"
          }
         }
        },
        "template": {
         "data": {
          "bar": [
           {
            "error_x": {
             "color": "#2a3f5f"
            },
            "error_y": {
             "color": "#2a3f5f"
            },
            "marker": {
             "line": {
              "color": "#E5ECF6",
              "width": 0.5
             }
            },
            "type": "bar"
           }
          ],
          "barpolar": [
           {
            "marker": {
             "line": {
              "color": "#E5ECF6",
              "width": 0.5
             }
            },
            "type": "barpolar"
           }
          ],
          "carpet": [
           {
            "aaxis": {
             "endlinecolor": "#2a3f5f",
             "gridcolor": "white",
             "linecolor": "white",
             "minorgridcolor": "white",
             "startlinecolor": "#2a3f5f"
            },
            "baxis": {
             "endlinecolor": "#2a3f5f",
             "gridcolor": "white",
             "linecolor": "white",
             "minorgridcolor": "white",
             "startlinecolor": "#2a3f5f"
            },
            "type": "carpet"
           }
          ],
          "choropleth": [
           {
            "colorbar": {
             "outlinewidth": 0,
             "ticks": ""
            },
            "type": "choropleth"
           }
          ],
          "contour": [
           {
            "colorbar": {
             "outlinewidth": 0,
             "ticks": ""
            },
            "colorscale": [
             [
              0,
              "#0d0887"
             ],
             [
              0.1111111111111111,
              "#46039f"
             ],
             [
              0.2222222222222222,
              "#7201a8"
             ],
             [
              0.3333333333333333,
              "#9c179e"
             ],
             [
              0.4444444444444444,
              "#bd3786"
             ],
             [
              0.5555555555555556,
              "#d8576b"
             ],
             [
              0.6666666666666666,
              "#ed7953"
             ],
             [
              0.7777777777777778,
              "#fb9f3a"
             ],
             [
              0.8888888888888888,
              "#fdca26"
             ],
             [
              1,
              "#f0f921"
             ]
            ],
            "type": "contour"
           }
          ],
          "contourcarpet": [
           {
            "colorbar": {
             "outlinewidth": 0,
             "ticks": ""
            },
            "type": "contourcarpet"
           }
          ],
          "heatmap": [
           {
            "colorbar": {
             "outlinewidth": 0,
             "ticks": ""
            },
            "colorscale": [
             [
              0,
              "#0d0887"
             ],
             [
              0.1111111111111111,
              "#46039f"
             ],
             [
              0.2222222222222222,
              "#7201a8"
             ],
             [
              0.3333333333333333,
              "#9c179e"
             ],
             [
              0.4444444444444444,
              "#bd3786"
             ],
             [
              0.5555555555555556,
              "#d8576b"
             ],
             [
              0.6666666666666666,
              "#ed7953"
             ],
             [
              0.7777777777777778,
              "#fb9f3a"
             ],
             [
              0.8888888888888888,
              "#fdca26"
             ],
             [
              1,
              "#f0f921"
             ]
            ],
            "type": "heatmap"
           }
          ],
          "heatmapgl": [
           {
            "colorbar": {
             "outlinewidth": 0,
             "ticks": ""
            },
            "colorscale": [
             [
              0,
              "#0d0887"
             ],
             [
              0.1111111111111111,
              "#46039f"
             ],
             [
              0.2222222222222222,
              "#7201a8"
             ],
             [
              0.3333333333333333,
              "#9c179e"
             ],
             [
              0.4444444444444444,
              "#bd3786"
             ],
             [
              0.5555555555555556,
              "#d8576b"
             ],
             [
              0.6666666666666666,
              "#ed7953"
             ],
             [
              0.7777777777777778,
              "#fb9f3a"
             ],
             [
              0.8888888888888888,
              "#fdca26"
             ],
             [
              1,
              "#f0f921"
             ]
            ],
            "type": "heatmapgl"
           }
          ],
          "histogram": [
           {
            "marker": {
             "colorbar": {
              "outlinewidth": 0,
              "ticks": ""
             }
            },
            "type": "histogram"
           }
          ],
          "histogram2d": [
           {
            "colorbar": {
             "outlinewidth": 0,
             "ticks": ""
            },
            "colorscale": [
             [
              0,
              "#0d0887"
             ],
             [
              0.1111111111111111,
              "#46039f"
             ],
             [
              0.2222222222222222,
              "#7201a8"
             ],
             [
              0.3333333333333333,
              "#9c179e"
             ],
             [
              0.4444444444444444,
              "#bd3786"
             ],
             [
              0.5555555555555556,
              "#d8576b"
             ],
             [
              0.6666666666666666,
              "#ed7953"
             ],
             [
              0.7777777777777778,
              "#fb9f3a"
             ],
             [
              0.8888888888888888,
              "#fdca26"
             ],
             [
              1,
              "#f0f921"
             ]
            ],
            "type": "histogram2d"
           }
          ],
          "histogram2dcontour": [
           {
            "colorbar": {
             "outlinewidth": 0,
             "ticks": ""
            },
            "colorscale": [
             [
              0,
              "#0d0887"
             ],
             [
              0.1111111111111111,
              "#46039f"
             ],
             [
              0.2222222222222222,
              "#7201a8"
             ],
             [
              0.3333333333333333,
              "#9c179e"
             ],
             [
              0.4444444444444444,
              "#bd3786"
             ],
             [
              0.5555555555555556,
              "#d8576b"
             ],
             [
              0.6666666666666666,
              "#ed7953"
             ],
             [
              0.7777777777777778,
              "#fb9f3a"
             ],
             [
              0.8888888888888888,
              "#fdca26"
             ],
             [
              1,
              "#f0f921"
             ]
            ],
            "type": "histogram2dcontour"
           }
          ],
          "mesh3d": [
           {
            "colorbar": {
             "outlinewidth": 0,
             "ticks": ""
            },
            "type": "mesh3d"
           }
          ],
          "parcoords": [
           {
            "line": {
             "colorbar": {
              "outlinewidth": 0,
              "ticks": ""
             }
            },
            "type": "parcoords"
           }
          ],
          "pie": [
           {
            "automargin": true,
            "type": "pie"
           }
          ],
          "scatter": [
           {
            "marker": {
             "colorbar": {
              "outlinewidth": 0,
              "ticks": ""
             }
            },
            "type": "scatter"
           }
          ],
          "scatter3d": [
           {
            "line": {
             "colorbar": {
              "outlinewidth": 0,
              "ticks": ""
             }
            },
            "marker": {
             "colorbar": {
              "outlinewidth": 0,
              "ticks": ""
             }
            },
            "type": "scatter3d"
           }
          ],
          "scattercarpet": [
           {
            "marker": {
             "colorbar": {
              "outlinewidth": 0,
              "ticks": ""
             }
            },
            "type": "scattercarpet"
           }
          ],
          "scattergeo": [
           {
            "marker": {
             "colorbar": {
              "outlinewidth": 0,
              "ticks": ""
             }
            },
            "type": "scattergeo"
           }
          ],
          "scattergl": [
           {
            "marker": {
             "colorbar": {
              "outlinewidth": 0,
              "ticks": ""
             }
            },
            "type": "scattergl"
           }
          ],
          "scattermapbox": [
           {
            "marker": {
             "colorbar": {
              "outlinewidth": 0,
              "ticks": ""
             }
            },
            "type": "scattermapbox"
           }
          ],
          "scatterpolar": [
           {
            "marker": {
             "colorbar": {
              "outlinewidth": 0,
              "ticks": ""
             }
            },
            "type": "scatterpolar"
           }
          ],
          "scatterpolargl": [
           {
            "marker": {
             "colorbar": {
              "outlinewidth": 0,
              "ticks": ""
             }
            },
            "type": "scatterpolargl"
           }
          ],
          "scatterternary": [
           {
            "marker": {
             "colorbar": {
              "outlinewidth": 0,
              "ticks": ""
             }
            },
            "type": "scatterternary"
           }
          ],
          "surface": [
           {
            "colorbar": {
             "outlinewidth": 0,
             "ticks": ""
            },
            "colorscale": [
             [
              0,
              "#0d0887"
             ],
             [
              0.1111111111111111,
              "#46039f"
             ],
             [
              0.2222222222222222,
              "#7201a8"
             ],
             [
              0.3333333333333333,
              "#9c179e"
             ],
             [
              0.4444444444444444,
              "#bd3786"
             ],
             [
              0.5555555555555556,
              "#d8576b"
             ],
             [
              0.6666666666666666,
              "#ed7953"
             ],
             [
              0.7777777777777778,
              "#fb9f3a"
             ],
             [
              0.8888888888888888,
              "#fdca26"
             ],
             [
              1,
              "#f0f921"
             ]
            ],
            "type": "surface"
           }
          ],
          "table": [
           {
            "cells": {
             "fill": {
              "color": "#EBF0F8"
             },
             "line": {
              "color": "white"
             }
            },
            "header": {
             "fill": {
              "color": "#C8D4E3"
             },
             "line": {
              "color": "white"
             }
            },
            "type": "table"
           }
          ]
         },
         "layout": {
          "annotationdefaults": {
           "arrowcolor": "#2a3f5f",
           "arrowhead": 0,
           "arrowwidth": 1
          },
          "coloraxis": {
           "colorbar": {
            "outlinewidth": 0,
            "ticks": ""
           }
          },
          "colorscale": {
           "diverging": [
            [
             0,
             "#8e0152"
            ],
            [
             0.1,
             "#c51b7d"
            ],
            [
             0.2,
             "#de77ae"
            ],
            [
             0.3,
             "#f1b6da"
            ],
            [
             0.4,
             "#fde0ef"
            ],
            [
             0.5,
             "#f7f7f7"
            ],
            [
             0.6,
             "#e6f5d0"
            ],
            [
             0.7,
             "#b8e186"
            ],
            [
             0.8,
             "#7fbc41"
            ],
            [
             0.9,
             "#4d9221"
            ],
            [
             1,
             "#276419"
            ]
           ],
           "sequential": [
            [
             0,
             "#0d0887"
            ],
            [
             0.1111111111111111,
             "#46039f"
            ],
            [
             0.2222222222222222,
             "#7201a8"
            ],
            [
             0.3333333333333333,
             "#9c179e"
            ],
            [
             0.4444444444444444,
             "#bd3786"
            ],
            [
             0.5555555555555556,
             "#d8576b"
            ],
            [
             0.6666666666666666,
             "#ed7953"
            ],
            [
             0.7777777777777778,
             "#fb9f3a"
            ],
            [
             0.8888888888888888,
             "#fdca26"
            ],
            [
             1,
             "#f0f921"
            ]
           ],
           "sequentialminus": [
            [
             0,
             "#0d0887"
            ],
            [
             0.1111111111111111,
             "#46039f"
            ],
            [
             0.2222222222222222,
             "#7201a8"
            ],
            [
             0.3333333333333333,
             "#9c179e"
            ],
            [
             0.4444444444444444,
             "#bd3786"
            ],
            [
             0.5555555555555556,
             "#d8576b"
            ],
            [
             0.6666666666666666,
             "#ed7953"
            ],
            [
             0.7777777777777778,
             "#fb9f3a"
            ],
            [
             0.8888888888888888,
             "#fdca26"
            ],
            [
             1,
             "#f0f921"
            ]
           ]
          },
          "colorway": [
           "#636efa",
           "#EF553B",
           "#00cc96",
           "#ab63fa",
           "#FFA15A",
           "#19d3f3",
           "#FF6692",
           "#B6E880",
           "#FF97FF",
           "#FECB52"
          ],
          "font": {
           "color": "#2a3f5f"
          },
          "geo": {
           "bgcolor": "white",
           "lakecolor": "white",
           "landcolor": "#E5ECF6",
           "showlakes": true,
           "showland": true,
           "subunitcolor": "white"
          },
          "hoverlabel": {
           "align": "left"
          },
          "hovermode": "closest",
          "mapbox": {
           "style": "light"
          },
          "paper_bgcolor": "white",
          "plot_bgcolor": "#E5ECF6",
          "polar": {
           "angularaxis": {
            "gridcolor": "white",
            "linecolor": "white",
            "ticks": ""
           },
           "bgcolor": "#E5ECF6",
           "radialaxis": {
            "gridcolor": "white",
            "linecolor": "white",
            "ticks": ""
           }
          },
          "scene": {
           "xaxis": {
            "backgroundcolor": "#E5ECF6",
            "gridcolor": "white",
            "gridwidth": 2,
            "linecolor": "white",
            "showbackground": true,
            "ticks": "",
            "zerolinecolor": "white"
           },
           "yaxis": {
            "backgroundcolor": "#E5ECF6",
            "gridcolor": "white",
            "gridwidth": 2,
            "linecolor": "white",
            "showbackground": true,
            "ticks": "",
            "zerolinecolor": "white"
           },
           "zaxis": {
            "backgroundcolor": "#E5ECF6",
            "gridcolor": "white",
            "gridwidth": 2,
            "linecolor": "white",
            "showbackground": true,
            "ticks": "",
            "zerolinecolor": "white"
           }
          },
          "shapedefaults": {
           "line": {
            "color": "#2a3f5f"
           }
          },
          "ternary": {
           "aaxis": {
            "gridcolor": "white",
            "linecolor": "white",
            "ticks": ""
           },
           "baxis": {
            "gridcolor": "white",
            "linecolor": "white",
            "ticks": ""
           },
           "bgcolor": "#E5ECF6",
           "caxis": {
            "gridcolor": "white",
            "linecolor": "white",
            "ticks": ""
           }
          },
          "title": {
           "x": 0.05
          },
          "xaxis": {
           "automargin": true,
           "gridcolor": "white",
           "linecolor": "white",
           "ticks": "",
           "title": {
            "standoff": 15
           },
           "zerolinecolor": "white",
           "zerolinewidth": 2
          },
          "yaxis": {
           "automargin": true,
           "gridcolor": "white",
           "linecolor": "white",
           "ticks": "",
           "title": {
            "standoff": 15
           },
           "zerolinecolor": "white",
           "zerolinewidth": 2
          }
         }
        }
       }
      },
      "text/html": [
       "<div>\n",
       "        \n",
       "        \n",
       "            <div id=\"d0ac8ac1-af6b-4faa-9dda-32affef5176e\" class=\"plotly-graph-div\" style=\"height:525px; width:100%;\"></div>\n",
       "            <script type=\"text/javascript\">\n",
       "                require([\"plotly\"], function(Plotly) {\n",
       "                    window.PLOTLYENV=window.PLOTLYENV || {};\n",
       "                    \n",
       "                if (document.getElementById(\"d0ac8ac1-af6b-4faa-9dda-32affef5176e\")) {\n",
       "                    Plotly.newPlot(\n",
       "                        'd0ac8ac1-af6b-4faa-9dda-32affef5176e',\n",
       "                        [{\"hovertemplate\": \"artist=Bob Dylan<br>c0=%{x}<br>c1=%{y}<br>c2=%{z}<extra></extra>\", \"legendgroup\": \"Bob Dylan\", \"marker\": {\"color\": \"#636efa\", \"opacity\": 0.7, \"symbol\": \"circle\"}, \"mode\": \"markers\", \"name\": \"Bob Dylan\", \"scene\": \"scene\", \"showlegend\": true, \"type\": \"scatter3d\", \"x\": [26.78653335571289, -25.358417510986328, 24.38638687133789, -0.01292057428508997, -15.634504318237305, -8.48426628112793, 15.742819786071777, -11.887069702148438, 26.62729835510254, -23.896785736083984, -9.184941291809082, 5.615056037902832, 5.047186851501465, 15.294476509094238, 11.206695556640625, -29.27802848815918, 9.858332633972168, -11.150341987609863, -29.722129821777344, 28.513153076171875, 5.630431175231934, 9.357190132141113, 6.431919574737549, 34.94817352294922, -21.79259490966797, -18.237977981567383, 21.40060043334961, -0.8795323371887207, -31.951215744018555, -15.867621421813965, 28.981225967407227, 15.090131759643555, -6.432238578796387, -1.727601170539856, -13.250280380249023, -17.323448181152344, 2.200343132019043, 3.836426019668579, 10.375825881958008, -22.824979782104492, -35.67966079711914, 4.811764717102051, 3.0576653480529785, -21.325759887695312, -36.677642822265625, -2.6365396976470947, 1.76650071144104, -20.187593460083008, 1.034371256828308, -37.583091735839844, 16.326400756835938, -4.860746383666992, 29.970434188842773, -6.806191921234131, 14.824211120605469, 20.840206146240234, 7.435161590576172, 8.035460472106934, 24.725637435913086, -24.759918212890625, -5.7898478507995605, 26.014013290405273, 16.667306900024414, -2.0829715728759766, -3.695754051208496, 2.809521198272705, 22.745075225830078, -8.813720703125, -6.765194892883301, 3.5772902965545654, -20.54398536682129, 14.187026977539062, -27.1745548248291, 7.801170349121094, 8.069527626037598, -1.4148701429367065, -2.9999334812164307, 4.922694683074951, 16.540027618408203, 0.38376396894454956, -5.461822032928467, 8.231783866882324, 4.708833694458008, -1.2826404571533203, 15.25148868560791, -3.9765000343322754, -30.521137237548828, 22.859146118164062, -14.614481925964355, 27.035612106323242, -40.61011505126953, 36.74508285522461, 13.262428283691406, -11.063860893249512, 19.59012222290039, 26.766265869140625, -14.922118186950684, -30.43759536743164, -24.056297302246094, -20.23161506652832, -15.940200805664062, -4.774590492248535, -17.02645492553711, 3.9308838844299316, -16.754812240600586, -7.656361103057861, -15.610000610351562, 14.882440567016602, -15.124110221862793, -14.915550231933594, 2.137984275817871, 6.121662139892578, -8.983943939208984, 16.836339950561523, -11.974858283996582, 8.34562873840332, 35.91141891479492, -40.5007209777832, 20.951162338256836, -12.985457420349121, -2.7007815837860107, -2.676004409790039, 2.3082075119018555, -24.4272518157959, -17.525131225585938, 13.82294750213623, 30.303983688354492, -13.005840301513672, 25.834529876708984, -18.153085708618164, 17.984352111816406, -16.519668579101562, -0.4841449558734894, -10.540875434875488, -27.642284393310547, 12.282684326171875, 24.16884994506836, -23.635478973388672, -6.319961071014404, 7.458869934082031, -19.228378295898438, 8.355744361877441, -25.88690757751465, 12.360808372497559, -15.488228797912598, 20.419706344604492, 25.22188949584961, -9.209939002990723, 20.31040382385254, -24.86028289794922, 13.89542293548584, -5.289501190185547, -1.6874326467514038, -40.986751556396484, 12.564006805419922, 2.288914442062378, -5.5237202644348145, -17.452877044677734, -5.266003131866455, 6.171894550323486, 17.042741775512695, -17.278812408447266, -2.7788875102996826, -11.200976371765137, 22.719724655151367, -26.620378494262695, 20.860321044921875, -2.34527325630188, 33.053794860839844, -12.582889556884766, 15.856306076049805, 27.751123428344727, 5.492240905761719, 11.051961898803711, -15.819193840026855, -26.991304397583008, 5.690723419189453, 15.567720413208008, -20.671443939208984, 18.805435180664062, -2.962390184402466, 27.289783477783203, 27.94230842590332, -14.832711219787598, 25.305072784423828, 31.695131301879883, -15.778138160705566, 0.9280200600624084, -5.476842403411865, -38.60395050048828, 10.953307151794434, 3.0513012409210205, 1.4164005517959595, -14.935983657836914, -17.39081573486328, 18.39386558532715, 25.123382568359375, 3.0336787700653076, 15.158770561218262, 7.591480255126953], \"y\": [14.476959228515625, 15.845771789550781, 32.89653778076172, 23.10890007019043, 7.920630931854248, 14.395044326782227, 15.769742965698242, 30.687580108642578, 18.827560424804688, 8.181751251220703, 20.021629333496094, 24.18905258178711, 15.099364280700684, 6.615291595458984, 22.324440002441406, -2.3883779048919678, -20.568429946899414, -0.49012941122055054, 19.661827087402344, 9.023579597473145, 7.389271259307861, 31.524911880493164, 24.44936180114746, 0.021736908704042435, 13.347472190856934, 16.260822296142578, 30.761173248291016, -3.4961657524108887, 10.345586776733398, 27.701332092285156, 30.994983673095703, 20.25501823425293, 17.283466339111328, -1.8761194944381714, 1.8673372268676758, -22.629636764526367, 13.775411605834961, 0.10993435233831406, -1.8200310468673706, 3.8978970050811768, 8.037652015686035, -2.4295244216918945, 6.638339519500732, -0.08169393241405487, -16.7326717376709, 18.08517074584961, 25.201583862304688, -1.8835837841033936, 1.2405569553375244, -0.14694419503211975, 12.624205589294434, 21.676130294799805, 4.521105766296387, 11.893858909606934, 24.585824966430664, 8.097654342651367, -0.41871505975723267, 14.711915969848633, 18.51657485961914, -11.530904769897461, 5.513331413269043, 7.18499231338501, 1.0854854583740234, 20.23590850830078, 8.465404510498047, -0.40237724781036377, 10.441581726074219, 5.50691556930542, 5.613030910491943, 13.615252494812012, 5.677242755889893, 13.308777809143066, 16.305200576782227, 37.756656646728516, -2.178886651992798, 21.610292434692383, 12.03744888305664, 6.688321113586426, 21.65673065185547, 27.618717193603516, 12.744701385498047, 8.162444114685059, -14.36160659790039, 7.897144794464111, 36.547061920166016, 37.040775299072266, 17.021501541137695, 14.322283744812012, 26.841493606567383, 2.906639575958252, 10.901346206665039, -17.89990234375, 0.877984344959259, 25.013519287109375, -6.292051315307617, 23.081315994262695, 3.6327526569366455, -6.363391399383545, 14.95641040802002, -9.063272476196289, 15.615769386291504, 18.10791015625, 34.66377639770508, 16.5119571685791, -6.747600555419922, 16.018381118774414, -5.723033428192139, 13.127328872680664, 1.318356990814209, 11.507562637329102, -5.788135528564453, 21.799896240234375, 5.847160816192627, 13.737104415893555, 6.717798709869385, -6.149786472320557, -18.772579193115234, 4.94577169418335, 34.971012115478516, 32.35901641845703, 1.5071992874145508, 34.41551971435547, 5.423356056213379, 1.1941128969192505, -17.876354217529297, -7.207345962524414, 18.851259231567383, 4.091420650482178, -3.393094778060913, 23.553712844848633, 7.047145843505859, 22.165409088134766, 4.026076793670654, -0.43528613448143005, 20.283443450927734, -6.91344690322876, -21.7020206451416, -8.557833671569824, -31.503360748291016, 10.337684631347656, 8.191916465759277, 5.126904487609863, -8.06995677947998, 24.361331939697266, 11.843571662902832, -19.010475158691406, 2.9394760131835938, 28.184236526489258, 4.246484279632568, -5.89771842956543, -1.8261624574661255, -2.227306842803955, -3.363743782043457, 0.5623769760131836, 7.322628498077393, 0.7092625498771667, 33.02485656738281, 9.534610748291016, 7.600028038024902, -3.484159231185913, 14.382622718811035, 15.582633018493652, 28.33353042602539, 6.242008686065674, -7.675582408905029, 2.8273684978485107, 22.65850257873535, -1.1611441373825073, 14.391592979431152, 9.584860801696777, 0.9486162066459656, 9.733136177062988, 14.111884117126465, 24.09534454345703, -1.89822518825531, -8.9320707321167, 1.896972894668579, 9.682723045349121, 29.642492294311523, 13.963760375976562, 6.932242393493652, -8.129432678222656, -7.5140509605407715, -5.086278915405273, -13.82125186920166, 5.0468597412109375, -0.9050455093383789, 38.82421875, 14.305728912353516, -13.047452926635742, 23.64971923828125, 34.97800064086914, 33.57383728027344, -2.634087085723877, -4.808294296264648, -7.556948661804199, -1.9528038501739502, -5.396342754364014, 29.286605834960938, 4.560461521148682], \"z\": [18.48631477355957, 16.406816482543945, 3.927013635635376, 14.267154693603516, -17.204248428344727, -9.019011497497559, -17.26350212097168, 10.93704605102539, 16.370498657226562, -4.540409564971924, 5.6938395500183105, -4.1805524826049805, -13.361838340759277, 17.788938522338867, 15.397984504699707, 11.74310302734375, -25.027639389038086, -15.588088989257812, 2.2069523334503174, 20.23332405090332, 24.2777156829834, -10.804882049560547, -27.778493881225586, 4.18144416809082, -19.76056671142578, -18.544483184814453, -18.969802856445312, -29.072919845581055, 7.915337562561035, 11.142699241638184, -0.06608786433935165, -1.8643755912780762, -5.348081588745117, 40.67853927612305, 23.158262252807617, -21.111955642700195, 3.401080369949341, 39.45577621459961, -18.342588424682617, -1.5007647275924683, 10.978837013244629, 14.209112167358398, 14.867228507995605, -16.033498764038086, 5.350278377532959, -0.47687828540802, -30.249500274658203, 3.299365520477295, 0.7312623262405396, -11.981954574584961, -1.839054822921753, -33.21195983886719, -24.40315055847168, -29.914180755615234, 12.205561637878418, -5.910529613494873, 28.49386215209961, 2.9771947860717773, 2.773024082183838, 16.18236541748047, 24.996963500976562, -7.9134955406188965, -25.847171783447266, -18.991806030273438, -19.353450775146484, -30.855178833007812, 0.18745502829551697, 12.669461250305176, -1.6811244487762451, 13.846105575561523, 16.358213424682617, -22.08759117126465, 4.169416427612305, 0.665259838104248, -33.4077262878418, -13.160151481628418, -33.586997985839844, 35.27552795410156, -19.535419464111328, 16.278696060180664, 25.99190902709961, -13.570830345153809, -26.40025520324707, -2.7336831092834473, 10.83696174621582, -0.40798309445381165, -11.824865341186523, -16.823102951049805, -16.3006591796875, -20.795778274536133, -3.2623772621154785, 0.7585752010345459, -10.127254486083984, 16.038236618041992, -9.757978439331055, 12.447720527648926, -1.2449232339859009, -1.1560511589050293, 10.08091926574707, -20.632741928100586, -1.1500489711761475, 25.293956756591797, -1.4344563484191895, -19.697885513305664, 3.5282695293426514, -26.001893997192383, 16.740873336791992, 8.845012664794922, 4.76169490814209, -30.733627319335938, -10.293319702148438, 8.568072319030762, -34.87257385253906, -9.418392181396484, 22.744388580322266, 40.66709518432617, -3.662245512008667, -2.693974494934082, 7.558221817016602, -0.8355309963226318, 28.447248458862305, -6.999680995941162, 6.341957092285156, 8.077249526977539, -4.89186429977417, 10.69424057006836, -8.551921844482422, 31.74880027770996, 23.682628631591797, 6.473597049713135, 0.5832576751708984, -5.4809112548828125, -11.627361297607422, 0.6162824630737305, -10.378493309020996, -35.5728645324707, -11.225922584533691, -11.567852020263672, -19.465621948242188, -29.303874969482422, -30.73482894897461, -2.982017993927002, 9.647459983825684, -6.290728569030762, 8.532112121582031, -11.421518325805664, -0.6870137453079224, -13.793327331542969, -16.837324142456055, 1.8711028099060059, 28.69040298461914, 20.168949127197266, -3.554719924926758, -1.2060877084732056, -5.546573638916016, -37.39012145996094, -13.319426536560059, 20.048702239990234, -25.026662826538086, -9.217823028564453, -29.73418426513672, 21.899545669555664, 1.559228777885437, 6.481207847595215, -15.541423797607422, -20.01143455505371, -7.901421546936035, -14.805204391479492, -3.187453508377075, 31.12858772277832, 5.41900110244751, 5.647151470184326, -6.488513469696045, -11.929288864135742, -23.993913650512695, -5.923636436462402, -20.605684280395508, 21.189769744873047, 12.614827156066895, 4.36009407043457, 18.836870193481445, 14.165261268615723, -13.019885063171387, -17.768587112426758, 2.356621742248535, -9.746146202087402, 34.99102020263672, 14.539026260375977, 9.322669982910156, 3.2350051403045654, 5.278045177459717, 1.1807581186294556, 18.683353424072266, 10.308860778808594, -1.7952890396118164, -20.153606414794922, 16.843379974365234, 39.136234283447266, -4.440482139587402, 7.459472179412842]}, {\"hovertemplate\": \"artist=Kendrick Lamar<br>c0=%{x}<br>c1=%{y}<br>c2=%{z}<extra></extra>\", \"legendgroup\": \"Kendrick Lamar\", \"marker\": {\"color\": \"#EF553B\", \"opacity\": 0.7, \"symbol\": \"diamond\"}, \"mode\": \"markers\", \"name\": \"Kendrick Lamar\", \"scene\": \"scene\", \"showlegend\": true, \"type\": \"scatter3d\", \"x\": [5.034220218658447, -3.9370524883270264, 15.289140701293945, 18.271276473999023, -7.228482723236084, -14.322458267211914, 7.5003581047058105, 3.375037431716919, 20.746742248535156, -15.802325248718262, 10.468486785888672, 8.393929481506348, 30.895875930786133, 2.7967586517333984, 15.09954833984375, 2.0833797454833984, -7.250452518463135, -6.303816795349121, 9.254870414733887, -11.759279251098633, -8.155189514160156, -1.8096662759780884, -22.038330078125, -9.525618553161621, -3.620152473449707, 20.32493782043457, -0.595491349697113, 2.726628541946411, -11.852469444274902, 16.718904495239258, 5.3563127517700195, -22.650148391723633, -6.707613468170166, -12.203782081604004, 6.541957378387451, 9.193008422851562, 12.953055381774902, 3.3154897689819336, 6.06858491897583, -6.895479679107666, -28.27833366394043, -12.377575874328613, -5.459336757659912, -2.5190224647521973, -10.329978942871094, 2.6873602867126465, -18.941316604614258, 8.162118911743164, -29.392051696777344, -8.974495887756348, -0.7216849327087402, -3.7480225563049316, 21.731590270996094, 4.479820251464844, 7.650043487548828, -0.19914409518241882, 0.8021813035011292, -0.6283522248268127, -13.785455703735352, -4.717906475067139, -6.753981113433838, 31.63551902770996, -16.70461654663086, -1.3083174228668213, 0.2414132058620453, -3.74715256690979, 2.778125524520874, 5.678338050842285, -10.346583366394043, 13.135940551757812, 13.154703140258789, -15.124520301818848, 12.09206771850586, 12.509907722473145, 24.216690063476562, 20.770748138427734, 7.571913242340088, 21.176801681518555, 4.836939334869385, -1.844334363937378, -12.229106903076172, -3.2669036388397217, -18.044157028198242, 4.984109878540039, -15.561765670776367, -5.632218360900879, 5.55391263961792, 2.0196492671966553, -5.8671112060546875, 17.155349731445312, -25.75598907470703, 14.48469352722168, -33.14069366455078, -37.69516372680664, -6.737271785736084, 15.759442329406738, -19.69422149658203, 24.87568473815918, 3.0734903812408447, -13.35682487487793], \"y\": [-41.37946701049805, -26.11949920654297, -40.910579681396484, -18.024423599243164, -20.3055477142334, -18.47064781188965, -35.02730178833008, -24.259334564208984, -30.007230758666992, -7.852738857269287, -19.489288330078125, -25.596294403076172, 21.938430786132812, -27.037111282348633, -17.156402587890625, -14.520883560180664, -10.035933494567871, -21.55150032043457, -28.0801944732666, -22.735633850097656, -10.118149757385254, -30.179353713989258, -21.205856323242188, -26.13005828857422, -3.4995007514953613, -18.71674919128418, -23.80802345275879, -16.32377052307129, -19.226192474365234, -0.468570739030838, 17.33437728881836, -33.51919174194336, -37.97890090942383, 10.298375129699707, -19.233251571655273, -23.877565383911133, -28.04304313659668, -34.36025619506836, -30.03278160095215, -34.200782775878906, -22.73008155822754, -12.259944915771484, -6.410205841064453, -27.350616455078125, -30.690696716308594, 2.4982895851135254, -11.991533279418945, -5.535923480987549, 0.022503696382045746, -7.258009910583496, -19.936471939086914, -33.425926208496094, -8.580643653869629, -23.060470581054688, -32.6497802734375, 33.87411117553711, -43.13790512084961, -19.655611038208008, -28.248306274414062, -16.803516387939453, -40.38570785522461, 20.21883773803711, -0.16312715411186218, -12.445737838745117, -12.796374320983887, -8.88248348236084, -13.001280784606934, -14.0939302444458, -6.061740398406982, -7.403273105621338, -10.393696784973145, -23.034942626953125, -7.006316661834717, -18.229738235473633, -28.03937339782715, -14.76841926574707, -6.4483513832092285, -3.8748598098754883, -26.689781188964844, -22.119125366210938, 26.127628326416016, -16.16782569885254, -26.940359115600586, -19.80160903930664, -17.653539657592773, -21.64385223388672, -33.59572982788086, -4.816594123840332, -17.826366424560547, -40.228607177734375, -26.50274658203125, -30.267597198486328, -21.008655548095703, 0.3865415155887604, -16.384035110473633, -26.918874740600586, -36.7803840637207, -11.114060401916504, -14.64597225189209, -28.7415714263916], \"z\": [8.46580982208252, 5.506267547607422, 0.7174283862113953, 21.63010597229004, -27.101375579833984, 6.4223103523254395, 20.753765106201172, -18.52376937866211, 7.700648784637451, -13.216940879821777, -0.504315197467804, -22.571687698364258, -14.20299243927002, 5.970920562744141, 26.78322982788086, 1.969092607498169, -8.185794830322266, -9.596134185791016, 7.417734146118164, 10.5204439163208, 1.8083481788635254, 12.092414855957031, 0.27066999673843384, 1.538379430770874, 7.654941082000732, 17.514434814453125, 20.301816940307617, -9.65965747833252, -5.523828029632568, -1.1080749034881592, 19.409584045410156, 6.041378974914551, -8.633712768554688, -11.150398254394531, 5.4780402183532715, 17.593021392822266, -3.9285976886749268, 18.952302932739258, -26.283233642578125, -14.359119415283203, -12.044769287109375, -16.202442169189453, -32.44551467895508, -3.084134817123413, 9.446349143981934, 26.06593132019043, 18.752994537353516, 18.88968276977539, 25.72562026977539, -20.81548309326172, 8.290674209594727, 3.457824230194092, 4.256191730499268, -2.213210344314575, -7.851960182189941, -18.686336517333984, 8.236852645874023, -5.271250247955322, 19.79088020324707, 16.592330932617188, -4.661540985107422, -18.595186233520508, -11.627592086791992, 11.671595573425293, 27.81582260131836, 17.88528060913086, -20.395530700683594, 14.044468879699707, -9.268590927124023, -19.436321258544922, -5.336874485015869, -16.680931091308594, 2.247103452682495, 9.507816314697266, 4.560343265533447, 4.527995586395264, 2.031278610229492, 18.403722763061523, -8.752740859985352, 0.32485339045524597, 22.59297752380371, 28.569908142089844, 15.369487762451172, 14.95833969116211, 16.252464294433594, 12.204488754272461, -3.4758784770965576, 10.623516082763672, 1.8723191022872925, -3.412874221801758, -10.562122344970703, -17.70094871520996, 7.504480361938477, -16.670263290405273, 10.146466255187988, -20.706388473510742, 4.750611305236816, -3.903926134109497, -15.00060749053955, -1.5076699256896973]}],\n",
       "                        {\"legend\": {\"title\": {\"text\": \"artist\"}, \"tracegroupgap\": 0}, \"margin\": {\"t\": 60}, \"scene\": {\"domain\": {\"x\": [0.0, 1.0], \"y\": [0.0, 1.0]}, \"xaxis\": {\"title\": {\"text\": \"c0\"}}, \"yaxis\": {\"title\": {\"text\": \"c1\"}}, \"zaxis\": {\"title\": {\"text\": \"c2\"}}}, \"template\": {\"data\": {\"bar\": [{\"error_x\": {\"color\": \"#2a3f5f\"}, \"error_y\": {\"color\": \"#2a3f5f\"}, \"marker\": {\"line\": {\"color\": \"#E5ECF6\", \"width\": 0.5}}, \"type\": \"bar\"}], \"barpolar\": [{\"marker\": {\"line\": {\"color\": \"#E5ECF6\", \"width\": 0.5}}, \"type\": \"barpolar\"}], \"carpet\": [{\"aaxis\": {\"endlinecolor\": \"#2a3f5f\", \"gridcolor\": \"white\", \"linecolor\": \"white\", \"minorgridcolor\": \"white\", \"startlinecolor\": \"#2a3f5f\"}, \"baxis\": {\"endlinecolor\": \"#2a3f5f\", \"gridcolor\": \"white\", \"linecolor\": \"white\", \"minorgridcolor\": \"white\", \"startlinecolor\": \"#2a3f5f\"}, \"type\": \"carpet\"}], \"choropleth\": [{\"colorbar\": {\"outlinewidth\": 0, \"ticks\": \"\"}, \"type\": \"choropleth\"}], \"contour\": [{\"colorbar\": {\"outlinewidth\": 0, \"ticks\": \"\"}, \"colorscale\": [[0.0, \"#0d0887\"], [0.1111111111111111, \"#46039f\"], [0.2222222222222222, \"#7201a8\"], [0.3333333333333333, \"#9c179e\"], [0.4444444444444444, \"#bd3786\"], [0.5555555555555556, \"#d8576b\"], [0.6666666666666666, \"#ed7953\"], [0.7777777777777778, \"#fb9f3a\"], [0.8888888888888888, \"#fdca26\"], [1.0, \"#f0f921\"]], \"type\": \"contour\"}], \"contourcarpet\": [{\"colorbar\": {\"outlinewidth\": 0, \"ticks\": \"\"}, \"type\": \"contourcarpet\"}], \"heatmap\": [{\"colorbar\": {\"outlinewidth\": 0, \"ticks\": \"\"}, \"colorscale\": [[0.0, \"#0d0887\"], [0.1111111111111111, \"#46039f\"], [0.2222222222222222, \"#7201a8\"], [0.3333333333333333, \"#9c179e\"], [0.4444444444444444, \"#bd3786\"], [0.5555555555555556, \"#d8576b\"], [0.6666666666666666, \"#ed7953\"], [0.7777777777777778, \"#fb9f3a\"], [0.8888888888888888, \"#fdca26\"], [1.0, \"#f0f921\"]], \"type\": \"heatmap\"}], \"heatmapgl\": [{\"colorbar\": {\"outlinewidth\": 0, \"ticks\": \"\"}, \"colorscale\": [[0.0, \"#0d0887\"], [0.1111111111111111, \"#46039f\"], [0.2222222222222222, \"#7201a8\"], [0.3333333333333333, \"#9c179e\"], [0.4444444444444444, \"#bd3786\"], [0.5555555555555556, \"#d8576b\"], [0.6666666666666666, \"#ed7953\"], [0.7777777777777778, \"#fb9f3a\"], [0.8888888888888888, \"#fdca26\"], [1.0, \"#f0f921\"]], \"type\": \"heatmapgl\"}], \"histogram\": [{\"marker\": {\"colorbar\": {\"outlinewidth\": 0, \"ticks\": \"\"}}, \"type\": \"histogram\"}], \"histogram2d\": [{\"colorbar\": {\"outlinewidth\": 0, \"ticks\": \"\"}, \"colorscale\": [[0.0, \"#0d0887\"], [0.1111111111111111, \"#46039f\"], [0.2222222222222222, \"#7201a8\"], [0.3333333333333333, \"#9c179e\"], [0.4444444444444444, \"#bd3786\"], [0.5555555555555556, \"#d8576b\"], [0.6666666666666666, \"#ed7953\"], [0.7777777777777778, \"#fb9f3a\"], [0.8888888888888888, \"#fdca26\"], [1.0, \"#f0f921\"]], \"type\": \"histogram2d\"}], \"histogram2dcontour\": [{\"colorbar\": {\"outlinewidth\": 0, \"ticks\": \"\"}, \"colorscale\": [[0.0, \"#0d0887\"], [0.1111111111111111, \"#46039f\"], [0.2222222222222222, \"#7201a8\"], [0.3333333333333333, \"#9c179e\"], [0.4444444444444444, \"#bd3786\"], [0.5555555555555556, \"#d8576b\"], [0.6666666666666666, \"#ed7953\"], [0.7777777777777778, \"#fb9f3a\"], [0.8888888888888888, \"#fdca26\"], [1.0, \"#f0f921\"]], \"type\": \"histogram2dcontour\"}], \"mesh3d\": [{\"colorbar\": {\"outlinewidth\": 0, \"ticks\": \"\"}, \"type\": \"mesh3d\"}], \"parcoords\": [{\"line\": {\"colorbar\": {\"outlinewidth\": 0, \"ticks\": \"\"}}, \"type\": \"parcoords\"}], \"pie\": [{\"automargin\": true, \"type\": \"pie\"}], \"scatter\": [{\"marker\": {\"colorbar\": {\"outlinewidth\": 0, \"ticks\": \"\"}}, \"type\": \"scatter\"}], \"scatter3d\": [{\"line\": {\"colorbar\": {\"outlinewidth\": 0, \"ticks\": \"\"}}, \"marker\": {\"colorbar\": {\"outlinewidth\": 0, \"ticks\": \"\"}}, \"type\": \"scatter3d\"}], \"scattercarpet\": [{\"marker\": {\"colorbar\": {\"outlinewidth\": 0, \"ticks\": \"\"}}, \"type\": \"scattercarpet\"}], \"scattergeo\": [{\"marker\": {\"colorbar\": {\"outlinewidth\": 0, \"ticks\": \"\"}}, \"type\": \"scattergeo\"}], \"scattergl\": [{\"marker\": {\"colorbar\": {\"outlinewidth\": 0, \"ticks\": \"\"}}, \"type\": \"scattergl\"}], \"scattermapbox\": [{\"marker\": {\"colorbar\": {\"outlinewidth\": 0, \"ticks\": \"\"}}, \"type\": \"scattermapbox\"}], \"scatterpolar\": [{\"marker\": {\"colorbar\": {\"outlinewidth\": 0, \"ticks\": \"\"}}, \"type\": \"scatterpolar\"}], \"scatterpolargl\": [{\"marker\": {\"colorbar\": {\"outlinewidth\": 0, \"ticks\": \"\"}}, \"type\": \"scatterpolargl\"}], \"scatterternary\": [{\"marker\": {\"colorbar\": {\"outlinewidth\": 0, \"ticks\": \"\"}}, \"type\": \"scatterternary\"}], \"surface\": [{\"colorbar\": {\"outlinewidth\": 0, \"ticks\": \"\"}, \"colorscale\": [[0.0, \"#0d0887\"], [0.1111111111111111, \"#46039f\"], [0.2222222222222222, \"#7201a8\"], [0.3333333333333333, \"#9c179e\"], [0.4444444444444444, \"#bd3786\"], [0.5555555555555556, \"#d8576b\"], [0.6666666666666666, \"#ed7953\"], [0.7777777777777778, \"#fb9f3a\"], [0.8888888888888888, \"#fdca26\"], [1.0, \"#f0f921\"]], \"type\": \"surface\"}], \"table\": [{\"cells\": {\"fill\": {\"color\": \"#EBF0F8\"}, \"line\": {\"color\": \"white\"}}, \"header\": {\"fill\": {\"color\": \"#C8D4E3\"}, \"line\": {\"color\": \"white\"}}, \"type\": \"table\"}]}, \"layout\": {\"annotationdefaults\": {\"arrowcolor\": \"#2a3f5f\", \"arrowhead\": 0, \"arrowwidth\": 1}, \"coloraxis\": {\"colorbar\": {\"outlinewidth\": 0, \"ticks\": \"\"}}, \"colorscale\": {\"diverging\": [[0, \"#8e0152\"], [0.1, \"#c51b7d\"], [0.2, \"#de77ae\"], [0.3, \"#f1b6da\"], [0.4, \"#fde0ef\"], [0.5, \"#f7f7f7\"], [0.6, \"#e6f5d0\"], [0.7, \"#b8e186\"], [0.8, \"#7fbc41\"], [0.9, \"#4d9221\"], [1, \"#276419\"]], \"sequential\": [[0.0, \"#0d0887\"], [0.1111111111111111, \"#46039f\"], [0.2222222222222222, \"#7201a8\"], [0.3333333333333333, \"#9c179e\"], [0.4444444444444444, \"#bd3786\"], [0.5555555555555556, \"#d8576b\"], [0.6666666666666666, \"#ed7953\"], [0.7777777777777778, \"#fb9f3a\"], [0.8888888888888888, \"#fdca26\"], [1.0, \"#f0f921\"]], \"sequentialminus\": [[0.0, \"#0d0887\"], [0.1111111111111111, \"#46039f\"], [0.2222222222222222, \"#7201a8\"], [0.3333333333333333, \"#9c179e\"], [0.4444444444444444, \"#bd3786\"], [0.5555555555555556, \"#d8576b\"], [0.6666666666666666, \"#ed7953\"], [0.7777777777777778, \"#fb9f3a\"], [0.8888888888888888, \"#fdca26\"], [1.0, \"#f0f921\"]]}, \"colorway\": [\"#636efa\", \"#EF553B\", \"#00cc96\", \"#ab63fa\", \"#FFA15A\", \"#19d3f3\", \"#FF6692\", \"#B6E880\", \"#FF97FF\", \"#FECB52\"], \"font\": {\"color\": \"#2a3f5f\"}, \"geo\": {\"bgcolor\": \"white\", \"lakecolor\": \"white\", \"landcolor\": \"#E5ECF6\", \"showlakes\": true, \"showland\": true, \"subunitcolor\": \"white\"}, \"hoverlabel\": {\"align\": \"left\"}, \"hovermode\": \"closest\", \"mapbox\": {\"style\": \"light\"}, \"paper_bgcolor\": \"white\", \"plot_bgcolor\": \"#E5ECF6\", \"polar\": {\"angularaxis\": {\"gridcolor\": \"white\", \"linecolor\": \"white\", \"ticks\": \"\"}, \"bgcolor\": \"#E5ECF6\", \"radialaxis\": {\"gridcolor\": \"white\", \"linecolor\": \"white\", \"ticks\": \"\"}}, \"scene\": {\"xaxis\": {\"backgroundcolor\": \"#E5ECF6\", \"gridcolor\": \"white\", \"gridwidth\": 2, \"linecolor\": \"white\", \"showbackground\": true, \"ticks\": \"\", \"zerolinecolor\": \"white\"}, \"yaxis\": {\"backgroundcolor\": \"#E5ECF6\", \"gridcolor\": \"white\", \"gridwidth\": 2, \"linecolor\": \"white\", \"showbackground\": true, \"ticks\": \"\", \"zerolinecolor\": \"white\"}, \"zaxis\": {\"backgroundcolor\": \"#E5ECF6\", \"gridcolor\": \"white\", \"gridwidth\": 2, \"linecolor\": \"white\", \"showbackground\": true, \"ticks\": \"\", \"zerolinecolor\": \"white\"}}, \"shapedefaults\": {\"line\": {\"color\": \"#2a3f5f\"}}, \"ternary\": {\"aaxis\": {\"gridcolor\": \"white\", \"linecolor\": \"white\", \"ticks\": \"\"}, \"baxis\": {\"gridcolor\": \"white\", \"linecolor\": \"white\", \"ticks\": \"\"}, \"bgcolor\": \"#E5ECF6\", \"caxis\": {\"gridcolor\": \"white\", \"linecolor\": \"white\", \"ticks\": \"\"}}, \"title\": {\"x\": 0.05}, \"xaxis\": {\"automargin\": true, \"gridcolor\": \"white\", \"linecolor\": \"white\", \"ticks\": \"\", \"title\": {\"standoff\": 15}, \"zerolinecolor\": \"white\", \"zerolinewidth\": 2}, \"yaxis\": {\"automargin\": true, \"gridcolor\": \"white\", \"linecolor\": \"white\", \"ticks\": \"\", \"title\": {\"standoff\": 15}, \"zerolinecolor\": \"white\", \"zerolinewidth\": 2}}}},\n",
       "                        {\"responsive\": true}\n",
       "                    ).then(function(){\n",
       "                            \n",
       "var gd = document.getElementById('d0ac8ac1-af6b-4faa-9dda-32affef5176e');\n",
       "var x = new MutationObserver(function (mutations, observer) {{\n",
       "        var display = window.getComputedStyle(gd).display;\n",
       "        if (!display || display === 'none') {{\n",
       "            console.log([gd, 'removed!']);\n",
       "            Plotly.purge(gd);\n",
       "            observer.disconnect();\n",
       "        }}\n",
       "}});\n",
       "\n",
       "// Listen for the removal of the full notebook cells\n",
       "var notebookContainer = gd.closest('#notebook-container');\n",
       "if (notebookContainer) {{\n",
       "    x.observe(notebookContainer, {childList: true});\n",
       "}}\n",
       "\n",
       "// Listen for the clearing of the current output cell\n",
       "var outputEl = gd.closest('.output');\n",
       "if (outputEl) {{\n",
       "    x.observe(outputEl, {childList: true});\n",
       "}}\n",
       "\n",
       "                        })\n",
       "                };\n",
       "                });\n",
       "            </script>\n",
       "        </div>"
      ]
     },
     "metadata": {},
     "output_type": "display_data"
    }
   ],
   "source": [
    "tsne3 = create_text_embeddings(3, X, 25)\n",
    "fig = px.scatter_3d(tsne3, x='c0', y='c1', z='c2',\n",
    "              color='artist', symbol='artist',  opacity=0.7, size_max=2)\n",
    "fig.show()"
   ]
  },
  {
   "cell_type": "markdown",
   "metadata": {},
   "source": [
    "Still the data is seperable - this is promising and as we'd expect.\n",
    "\n",
    "Lets get to modelling."
   ]
  },
  {
   "cell_type": "markdown",
   "metadata": {},
   "source": [
    "## Modelling Functions"
   ]
  },
  {
   "cell_type": "code",
   "execution_count": 245,
   "metadata": {
    "ExecuteTime": {
     "end_time": "2020-04-23T08:53:20.965275Z",
     "start_time": "2020-04-23T08:53:20.957774Z"
    }
   },
   "outputs": [],
   "source": [
    "def plot_confusion(cm):\n",
    "    '''\n",
    "    Generate a confusion matrix\n",
    "    '''\n",
    "    plt.figure(figsize=(6,6))\n",
    "    ax = sns.heatmap(cm, annot=True, fmt=\".0f\", linewidths=.5, square = True,  cmap = 'coolwarm')\n",
    "    plt.ylabel('Actual label');\n",
    "    plt.xlabel('Predicted label');\n",
    "    plt.xticks([i-0.5 for i in range(1,3)], ['Bob Dylan', 'Kendrick Lamar'])\n",
    "    plt.yticks([i-0.5 for i in range(1,3)], ['Bob Dylan', 'Kendrick Lamar'])\n",
    "    b, t = plt.ylim() \n",
    "    b += 0.5 \n",
    "    t -= 0.5 \n",
    "    plt.ylim(b, t) \n",
    "    plt.show()"
   ]
  },
  {
   "cell_type": "code",
   "execution_count": 409,
   "metadata": {
    "ExecuteTime": {
     "end_time": "2020-04-23T11:32:03.901362Z",
     "start_time": "2020-04-23T11:32:03.894574Z"
    }
   },
   "outputs": [],
   "source": [
    "def generate_class_weights(y):\n",
    "    '''\n",
    "    Get class weights to help manage slight class imbalance\n",
    "    '''\n",
    "    return dict(zip(list(np.unique(y)), \n",
    "                    class_weight.compute_class_weight('balanced', np.unique(y), y)))\n"
   ]
  },
  {
   "cell_type": "markdown",
   "metadata": {},
   "source": [
    "## First Model - Random Forest"
   ]
  },
  {
   "cell_type": "code",
   "execution_count": 410,
   "metadata": {
    "ExecuteTime": {
     "end_time": "2020-04-23T11:32:08.150510Z",
     "start_time": "2020-04-23T11:32:08.144663Z"
    }
   },
   "outputs": [],
   "source": [
    "class_weights = generate_class_weights(df['artist'])"
   ]
  },
  {
   "cell_type": "code",
   "execution_count": 411,
   "metadata": {
    "ExecuteTime": {
     "end_time": "2020-04-23T11:32:12.297037Z",
     "start_time": "2020-04-23T11:32:12.283609Z"
    }
   },
   "outputs": [],
   "source": [
    "X_train, X_test, y_train, y_test = train_test_split(X, df['artist'],\n",
    "                                                    test_size=0.2,\n",
    "                                                    random_state=1,\n",
    "                                                    shuffle=True,\n",
    "                                                    stratify=df['artist'])"
   ]
  },
  {
   "cell_type": "code",
   "execution_count": 412,
   "metadata": {
    "ExecuteTime": {
     "end_time": "2020-04-23T11:32:38.684168Z",
     "start_time": "2020-04-23T11:32:17.109853Z"
    }
   },
   "outputs": [
    {
     "name": "stdout",
     "output_type": "stream",
     "text": [
      "0.95 {'max_depth': 10, 'n_estimators': 50}\n"
     ]
    }
   ],
   "source": [
    "param_grid = {\n",
    "    \n",
    "    'n_estimators':[50,100,150,200,250,300],\n",
    "    'max_depth':[5,7,10,15]\n",
    "    \n",
    "}\n",
    "\n",
    "grid = GridSearchCV(RandomForestClassifier(random_state=1,\n",
    "                                           class_weight=class_weights),\n",
    "                                           param_grid,\n",
    "                                           cv=5,\n",
    "                                           n_jobs=2).fit(X_train, y_train)\n",
    "\n",
    "print(grid.best_score_, grid.best_params_)"
   ]
  },
  {
   "cell_type": "code",
   "execution_count": 413,
   "metadata": {
    "ExecuteTime": {
     "end_time": "2020-04-23T11:32:43.215536Z",
     "start_time": "2020-04-23T11:32:42.959919Z"
    }
   },
   "outputs": [
    {
     "data": {
      "image/png": "[encoded data removed]",
      "text/plain": [
       "<Figure size 432x432 with 2 Axes>"
      ]
     },
     "metadata": {
      "needs_background": "light"
     },
     "output_type": "display_data"
    }
   ],
   "source": [
    "rf = RandomForestClassifier(random_state = 1,\n",
    "                             max_depth=grid.best_params_['max_depth'],\n",
    "                             n_estimators=grid.best_params_['n_estimators'],\n",
    "                             class_weight=class_weights).fit(X_train, y_train)\n",
    "\n",
    "preds = rf.predict(X_test)\n",
    "cm_rf = confusion_matrix(y_test, preds)\n",
    "plot_confusion(cm_rf)"
   ]
  },
  {
   "cell_type": "code",
   "execution_count": 388,
   "metadata": {
    "ExecuteTime": {
     "end_time": "2020-04-23T11:25:48.560281Z",
     "start_time": "2020-04-23T11:25:48.539414Z"
    }
   },
   "outputs": [
    {
     "data": {
      "text/html": [
       "<div>\n",
       "<style scoped>\n",
       "    .dataframe tbody tr th:only-of-type {\n",
       "        vertical-align: middle;\n",
       "    }\n",
       "\n",
       "    .dataframe tbody tr th {\n",
       "        vertical-align: top;\n",
       "    }\n",
       "\n",
       "    .dataframe thead th {\n",
       "        text-align: right;\n",
       "    }\n",
       "</style>\n",
       "<table border=\"1\" class=\"dataframe\">\n",
       "  <thead>\n",
       "    <tr style=\"text-align: right;\">\n",
       "      <th></th>\n",
       "      <th>importance</th>\n",
       "      <th>feature</th>\n",
       "    </tr>\n",
       "  </thead>\n",
       "  <tbody>\n",
       "    <tr>\n",
       "      <th>248</th>\n",
       "      <td>0.012942</td>\n",
       "      <td>em</td>\n",
       "    </tr>\n",
       "    <tr>\n",
       "      <th>496</th>\n",
       "      <td>0.013396</td>\n",
       "      <td>life</td>\n",
       "    </tr>\n",
       "    <tr>\n",
       "      <th>24</th>\n",
       "      <td>0.013477</td>\n",
       "      <td>ass</td>\n",
       "    </tr>\n",
       "    <tr>\n",
       "      <th>6</th>\n",
       "      <td>0.013720</td>\n",
       "      <td>ai</td>\n",
       "    </tr>\n",
       "    <tr>\n",
       "      <th>165</th>\n",
       "      <td>0.014073</td>\n",
       "      <td>compton</td>\n",
       "    </tr>\n",
       "    <tr>\n",
       "      <th>91</th>\n",
       "      <td>0.014697</td>\n",
       "      <td>bout</td>\n",
       "    </tr>\n",
       "    <tr>\n",
       "      <th>326</th>\n",
       "      <td>0.015054</td>\n",
       "      <td>fuck</td>\n",
       "    </tr>\n",
       "    <tr>\n",
       "      <th>62</th>\n",
       "      <td>0.015373</td>\n",
       "      <td>bitch</td>\n",
       "    </tr>\n",
       "    <tr>\n",
       "      <th>357</th>\n",
       "      <td>0.017219</td>\n",
       "      <td>got</td>\n",
       "    </tr>\n",
       "    <tr>\n",
       "      <th>988</th>\n",
       "      <td>0.018763</td>\n",
       "      <td>yeah</td>\n",
       "    </tr>\n",
       "    <tr>\n",
       "      <th>861</th>\n",
       "      <td>0.019086</td>\n",
       "      <td>tell</td>\n",
       "    </tr>\n",
       "    <tr>\n",
       "      <th>601</th>\n",
       "      <td>0.021027</td>\n",
       "      <td>niggas</td>\n",
       "    </tr>\n",
       "    <tr>\n",
       "      <th>936</th>\n",
       "      <td>0.035095</td>\n",
       "      <td>wanna</td>\n",
       "    </tr>\n",
       "    <tr>\n",
       "      <th>600</th>\n",
       "      <td>0.048609</td>\n",
       "      <td>nigga</td>\n",
       "    </tr>\n",
       "    <tr>\n",
       "      <th>768</th>\n",
       "      <td>0.053747</td>\n",
       "      <td>shit</td>\n",
       "    </tr>\n",
       "  </tbody>\n",
       "</table>\n",
       "</div>"
      ],
      "text/plain": [
       "     importance  feature\n",
       "248    0.012942       em\n",
       "496    0.013396     life\n",
       "24     0.013477      ass\n",
       "6      0.013720       ai\n",
       "165    0.014073  compton\n",
       "91     0.014697     bout\n",
       "326    0.015054     fuck\n",
       "62     0.015373    bitch\n",
       "357    0.017219      got\n",
       "988    0.018763     yeah\n",
       "861    0.019086     tell\n",
       "601    0.021027   niggas\n",
       "936    0.035095    wanna\n",
       "600    0.048609    nigga\n",
       "768    0.053747     shit"
      ]
     },
     "execution_count": 388,
     "metadata": {},
     "output_type": "execute_result"
    }
   ],
   "source": [
    "imps = pd.DataFrame({'importance':clf.feature_importances_,\n",
    "                     'feature':X_train.columns})\n",
    "\n",
    "imps.sort_values('importance').tail(15)"
   ]
  },
  {
   "cell_type": "markdown",
   "metadata": {},
   "source": [
    "Clearly its easier to identify Kendrick's terms than Bob's!\n",
    "\n",
    "Lets check where we actually misclassify for our 2 errors."
   ]
  },
  {
   "cell_type": "code",
   "execution_count": 389,
   "metadata": {
    "ExecuteTime": {
     "end_time": "2020-04-23T11:25:53.570135Z",
     "start_time": "2020-04-23T11:25:53.562862Z"
    }
   },
   "outputs": [],
   "source": [
    "results = pd.DataFrame({'actual':y_test,\n",
    "                        'predicted':preds\n",
    "                        }, index=y_test.index)\n",
    "\n",
    "results['lyrics'], results['song'] = df['lyrics'], df['song']"
   ]
  },
  {
   "cell_type": "code",
   "execution_count": 390,
   "metadata": {
    "ExecuteTime": {
     "end_time": "2020-04-23T11:25:57.889266Z",
     "start_time": "2020-04-23T11:25:57.882790Z"
    }
   },
   "outputs": [],
   "source": [
    "mistakes = results[results['actual']!=results['predicted']]"
   ]
  },
  {
   "cell_type": "code",
   "execution_count": 391,
   "metadata": {
    "ExecuteTime": {
     "end_time": "2020-04-23T11:26:01.956989Z",
     "start_time": "2020-04-23T11:26:01.949771Z"
    }
   },
   "outputs": [
    {
     "name": "stdout",
     "output_type": "stream",
     "text": [
      "Song: Black Panther\n",
      "   \n",
      "  (why i go easy?) (know why i go easy) wait    king of my city, king of my country, king of my homeland king of the filthy, king of the fallen, we livin' again king of the shooters, looters, boosters, and ghettos poppin' king of the past, present, future, my ancestors watchin' king of the culture, king of the soldiers, king of the bloodshed king of the wisdom, king of the ocean, king of the respect king of the optimistics and dreamers that go and get it king of the winner's district and geniuses with conviction king of the fighters, king of the fathers, king of the belated king of the answer, king of the problem, king of the forsaken king of the empathy, you resent me, king of remorse king of my enemies, may they fall defeat, i rejoice king of the skyscrapers, dodgin' haters, broke religion    nine faces, go against 'em, i erased 'em with precision i embrace them with collision, kings did it king's vision, black panther, king kendrick, all hail the king! i dropped a million tears i know several responsibilities put me here i don't pedal backwards, but i live old-fashioned the lens that i'm lookin' through won't prescribe me the right glasses, masses are now free ashes i'm dumpin' out, 'bout to spread all 'cross seas sisters and brothers in unison, not because of me because we don't glue with the opposition, we glue with peace but still'd fuck up your organization if any beef what do you stand for? are you a activist? what are your city plans for? are you a accident? are you just in the way? your native tongue contradictin' what your body language say are you a king or you jokin'? are you a king or you posin'?    are you a king or you smokin' bowl rocks to keep you open? because the king don't cry, king don't die king don't lie, king give heart, king get by, king don't fall kingdom come, when i come, you know why king! king! king! king! king! i am t'challa\n",
      "  \n",
      "Song: ​untitled 04 | 08.14.2014.\n",
      "   \n",
      "  they say the government mislead the youth, youth, youth, youth (tell 'em when you went to the park and everybody came back and...) and welfare don't mean well for you, you, you, you (what about when you tried to do a side for that but you...) they tell me that my bill's past due, due, due, due (talk about the charge you got...) and preacher man don't always tell the truth, truth, truth, truth (do you believe in god? if you don't, it's cool)    (but) head is the answer, head is the future don't second guess yourself (don't tell them when you second guess yourself i need you in the kitchen now i forgot...) come on give me some help, hey head is the answer, do it for the future, girl    don't second guess yourself come on, give me some help and i just wanna and i just wanna straight up eyes with my head and i can't use some help straight up    head is the future\n",
      "  \n"
     ]
    }
   ],
   "source": [
    "for key, value in dict(zip(list(mistakes['song'].values), list(mistakes['lyrics'].values))).items():\n",
    "    print('Song: ' + key)\n",
    "    print('   ')\n",
    "    print(value)\n",
    "    print('  ')"
   ]
  },
  {
   "cell_type": "markdown",
   "metadata": {},
   "source": [
    "Not so surprising really! These are both Kendrick tracks but they're missing some of his usual language.\n",
    "\n",
    "Eyeballing some of the language in both of these tracks, its really not immediately clear who's written them. Thematically, its likely that Black Panther would be a Kendrick track and some of the phrasing in untitled 04 is also quite clearly Kendrick but to a basic model, these features shouldn't really be discernible."
   ]
  },
  {
   "cell_type": "code",
   "execution_count": 337,
   "metadata": {
    "ExecuteTime": {
     "end_time": "2020-04-23T11:02:03.740515Z",
     "start_time": "2020-04-23T11:02:03.731362Z"
    }
   },
   "outputs": [
    {
     "name": "stdout",
     "output_type": "stream",
     "text": [
      "                precision    recall  f1-score   support\n",
      "\n",
      "     Bob Dylan       0.95      1.00      0.98        40\n",
      "Kendrick Lamar       1.00      0.90      0.95        20\n",
      "\n",
      "     micro avg       0.97      0.97      0.97        60\n",
      "     macro avg       0.98      0.95      0.96        60\n",
      "  weighted avg       0.97      0.97      0.97        60\n",
      "\n"
     ]
    }
   ],
   "source": [
    "print(classification_report(y_test, preds))"
   ]
  },
  {
   "cell_type": "markdown",
   "metadata": {},
   "source": [
    "As we gauged from the confusion matrix, our accuracy, precision and recall were all strong."
   ]
  },
  {
   "cell_type": "markdown",
   "metadata": {},
   "source": [
    "## Second Model - Logistic Regression"
   ]
  },
  {
   "cell_type": "code",
   "execution_count": 433,
   "metadata": {
    "ExecuteTime": {
     "end_time": "2020-04-23T12:24:10.306560Z",
     "start_time": "2020-04-23T12:22:44.832345Z"
    }
   },
   "outputs": [
    {
     "name": "stdout",
     "output_type": "stream",
     "text": [
      "0.9375 {'C': 0.9111627561154896, 'penalty': 'l2'}\n"
     ]
    },
    {
     "data": {
      "image/png": "[encoded data removed]",
      "text/plain": [
       "<Figure size 432x432 with 2 Axes>"
      ]
     },
     "metadata": {
      "needs_background": "light"
     },
     "output_type": "display_data"
    }
   ],
   "source": [
    "'''\n",
    "Logistic Regression\n",
    "'''\n",
    "\n",
    "param_grid = {\n",
    "    \n",
    "    'C':np.logspace(-4,4,100),\n",
    "    'penalty':['l1','l2']\n",
    "    \n",
    "}\n",
    "\n",
    "grid = GridSearchCV(LogisticRegression(random_state=1, solver = 'saga',\n",
    "                                           class_weight=class_weights),\n",
    "                                           param_grid,\n",
    "                                           cv=5,\n",
    "                                           n_jobs=2).fit(X_train, y_train)\n",
    "\n",
    "print(grid.best_score_, grid.best_params_)\n",
    "\n",
    "logreg = LogisticRegression(random_state = 1, solver = 'saga',\n",
    "                             C=grid.best_params_['C'],\n",
    "                             penalty=grid.best_params_['penalty'],\n",
    "                             class_weight=class_weights).fit(X_train, y_train)\n",
    "\n",
    "preds = clf.predict(X_test)\n",
    "cm_rf = confusion_matrix(y_test, preds)\n",
    "plot_confusion(cm_rf)"
   ]
  },
  {
   "cell_type": "markdown",
   "metadata": {},
   "source": [
    "## Third Model - Modelling phrases instead of songs"
   ]
  },
  {
   "cell_type": "markdown",
   "metadata": {},
   "source": [
    "The task in the above is too easy. To train our model well, we need to toughen it up.\n",
    "\n",
    "Lets create more data by splitting songs into phrases."
   ]
  },
  {
   "cell_type": "code",
   "execution_count": 564,
   "metadata": {
    "ExecuteTime": {
     "end_time": "2020-04-23T16:18:45.643218Z",
     "start_time": "2020-04-23T16:18:45.633937Z"
    }
   },
   "outputs": [],
   "source": [
    "df['phrases'] = df['lyrics'].str.split('  ').apply(lambda x: list(filter(None, x)))"
   ]
  },
  {
   "cell_type": "code",
   "execution_count": 604,
   "metadata": {
    "ExecuteTime": {
     "end_time": "2020-04-23T17:11:04.299093Z",
     "start_time": "2020-04-23T17:11:04.202338Z"
    }
   },
   "outputs": [],
   "source": [
    "phrases = (df['phrases'].apply(pd.Series)\n",
    "              .stack()\n",
    "              .reset_index(level=1, drop=True)\n",
    "              .to_frame('phrases'))"
   ]
  },
  {
   "cell_type": "code",
   "execution_count": 609,
   "metadata": {
    "ExecuteTime": {
     "end_time": "2020-04-23T17:13:31.211762Z",
     "start_time": "2020-04-23T17:13:31.201552Z"
    }
   },
   "outputs": [],
   "source": [
    "phrases = pd.merge(phrases,\n",
    "         df[['artist', 'song', 'lyrics']],\n",
    "         left_index=True,\n",
    "         right_index=True,\n",
    "         how='left').reset_index(drop=True)"
   ]
  },
  {
   "cell_type": "code",
   "execution_count": 614,
   "metadata": {
    "ExecuteTime": {
     "end_time": "2020-04-24T09:21:02.734108Z",
     "start_time": "2020-04-24T09:20:29.823314Z"
    }
   },
   "outputs": [
    {
     "data": {
      "application/vnd.jupyter.widget-view+json": {
       "model_id": "9477dcf25fa142cc8365ff5fd6b69774",
       "version_major": 2,
       "version_minor": 0
      },
      "text/plain": [
       "HBox(children=(FloatProgress(value=1.0, bar_style='info', max=1.0), HTML(value='')))"
      ]
     },
     "metadata": {},
     "output_type": "display_data"
    },
    {
     "name": "stdout",
     "output_type": "stream",
     "text": [
      "\n"
     ]
    }
   ],
   "source": [
    "pos = ['NOUN', 'ADJ', 'VERB', 'ADV']\n",
    "\n",
    "phrases['lyrics'] = phrases.lyrics.str.replace('\\n',' ')\\\n",
    "                            .apply(lambda x: drop_breaks(x))\\\n",
    "                            .apply(lambda x: remove_digits(x))\\\n",
    "                            .str.lower()\n",
    "\n",
    "processed_quotes_phrase, tokenised_quotes_phrase = process_text(phrases['phrases'])\n",
    "\n"
   ]
  },
  {
   "cell_type": "code",
   "execution_count": 615,
   "metadata": {
    "ExecuteTime": {
     "end_time": "2020-04-24T09:21:13.378090Z",
     "start_time": "2020-04-24T09:21:13.121054Z"
    }
   },
   "outputs": [],
   "source": [
    "phrases['lyrics_processed'] = processed_quotes_phrase\n",
    "phrases['lyrics_tokenised'] = tokenised_quotes_phrase"
   ]
  },
  {
   "cell_type": "code",
   "execution_count": 617,
   "metadata": {
    "ExecuteTime": {
     "end_time": "2020-04-24T09:22:59.320655Z",
     "start_time": "2020-04-24T09:22:59.111300Z"
    }
   },
   "outputs": [],
   "source": [
    "phrase_vectoriser, phrases_vector_data=vectorise(ngram_range=(1, 1),\n",
    "                                                  max_feats=1000,\n",
    "                                                  input_data=phrases['lyrics_processed'])"
   ]
  },
  {
   "cell_type": "code",
   "execution_count": 621,
   "metadata": {
    "ExecuteTime": {
     "end_time": "2020-04-24T09:26:43.874649Z",
     "start_time": "2020-04-24T09:25:03.173381Z"
    }
   },
   "outputs": [
    {
     "name": "stdout",
     "output_type": "stream",
     "text": [
      "0.8582677165354331 {'max_depth': 15, 'n_estimators': 300}\n"
     ]
    }
   ],
   "source": [
    "class_weights = generate_class_weights(phrases['artist'])\n",
    "\n",
    "X_train, X_test, y_train, y_test = train_test_split(phrases_vector_data, phrases['artist'],\n",
    "                                                    test_size=0.2,\n",
    "                                                    random_state=1,\n",
    "                                                    shuffle=True,\n",
    "                                                    stratify=phrases['artist'])\n",
    "\n",
    "param_grid = {\n",
    "    \n",
    "    'n_estimators':[50,100,150,200,250,300],\n",
    "    'max_depth':[5,7,10,15]\n",
    "    \n",
    "}\n",
    "\n",
    "grid = GridSearchCV(RandomForestClassifier(random_state=1,\n",
    "                                           class_weight=class_weights),\n",
    "                                           param_grid,\n",
    "                                           cv=5,\n",
    "                                           n_jobs=2).fit(X_train, y_train)\n",
    "\n",
    "print('Baseline accuracy: {}'.format(round(y_train.value_counts(normalize=True).max(),3)))\n",
    "print(grid.best_score_, grid.best_params_)"
   ]
  },
  {
   "cell_type": "code",
   "execution_count": 628,
   "metadata": {
    "ExecuteTime": {
     "end_time": "2020-04-24T09:32:55.107085Z",
     "start_time": "2020-04-24T09:32:52.544508Z"
    }
   },
   "outputs": [
    {
     "data": {
      "image/png": "[encoded data removed]",
      "text/plain": [
       "<Figure size 432x432 with 2 Axes>"
      ]
     },
     "metadata": {
      "needs_background": "light"
     },
     "output_type": "display_data"
    }
   ],
   "source": [
    "rf_phrase = RandomForestClassifier(random_state = 1,\n",
    "                             max_depth=grid.best_params_['max_depth'],\n",
    "                             n_estimators=grid.best_params_['n_estimators'],\n",
    "                             class_weight=class_weights).fit(X_train, y_train)\n",
    "\n",
    "preds = rf_phrase.predict(X_test)\n",
    "cm_rf = confusion_matrix(y_test, preds)\n",
    "plot_confusion(cm_rf)"
   ]
  },
  {
   "cell_type": "markdown",
   "metadata": {},
   "source": [
    "## Optimised Model"
   ]
  },
  {
   "cell_type": "code",
   "execution_count": null,
   "metadata": {},
   "outputs": [],
   "source": []
  },
  {
   "cell_type": "code",
   "execution_count": null,
   "metadata": {},
   "outputs": [],
   "source": [
    "def export_models(classification_model, class_model_name, vectoriser, vectoriser_name):\n",
    "    '''\n",
    "    Retrieve models for classification and for \n",
    "    word vectorising\n",
    "    '''\n",
    "    return joblib.dump(classification_model, class_model_name), joblib.dump(vectoriser, vectoriser_name)"
   ]
  },
  {
   "cell_type": "markdown",
   "metadata": {},
   "source": [
    "## Model Optimised for Classifying Lyric"
   ]
  },
  {
   "cell_type": "code",
   "execution_count": null,
   "metadata": {},
   "outputs": [],
   "source": [
    "def import_models(classification_model, vectoriser):\n",
    "    '''\n",
    "    Retrieve models for classification and for \n",
    "    word vectorising\n",
    "    '''\n",
    "    return joblib.load(classification_model), joblib.load(vectoriser)"
   ]
  },
  {
   "cell_type": "code",
   "execution_count": 425,
   "metadata": {
    "ExecuteTime": {
     "end_time": "2020-04-23T11:38:40.522317Z",
     "start_time": "2020-04-23T11:38:40.518749Z"
    }
   },
   "outputs": [],
   "source": [
    "def gather_lyric():\n",
    "    '''\n",
    "    Simply asking for an input\n",
    "    '''\n",
    "    return input('Try your lyric here: ').lower()\n"
   ]
  },
  {
   "cell_type": "code",
   "execution_count": 426,
   "metadata": {
    "ExecuteTime": {
     "end_time": "2020-04-23T11:38:44.918162Z",
     "start_time": "2020-04-23T11:38:44.913318Z"
    }
   },
   "outputs": [],
   "source": [
    "def convert_lyric_to_vector(lyric, vectoriser):\n",
    "    '''\n",
    "    Creates predictor observation with vectorised\n",
    "    weightings\n",
    "    '''\n",
    "    return pd.DataFrame(vectoriser.transform([lyric]).todense(), columns=vectoriser.get_feature_names())\n"
   ]
  },
  {
   "cell_type": "code",
   "execution_count": 450,
   "metadata": {
    "ExecuteTime": {
     "end_time": "2020-04-23T12:49:31.042885Z",
     "start_time": "2020-04-23T12:49:31.036588Z"
    }
   },
   "outputs": [],
   "source": [
    "def generate_prediction(vectoriser, model, num_preds):\n",
    "    '''\n",
    "    Print n predictions for an inputted lyric using\n",
    "    a given vectoriser and pre-trained model\n",
    "    '''\n",
    "    for i in range(num_preds):\n",
    "        lyric=gather_lyric()\n",
    "        print('{} probably sang that.'.format(model.predict(convert_lyric_to_vector(lyric, vectoriser))[0]))\n",
    "        print('_____________________________________________')"
   ]
  },
  {
   "cell_type": "code",
   "execution_count": 630,
   "metadata": {
    "ExecuteTime": {
     "end_time": "2020-04-24T09:35:03.155669Z",
     "start_time": "2020-04-24T09:33:48.993917Z"
    }
   },
   "outputs": [
    {
     "name": "stdout",
     "output_type": "stream",
     "text": [
      "Try your lyric here: I shot that nigger\n",
      "Bob Dylan probably sang that.\n",
      "_____________________________________________\n",
      "Try your lyric here: I ran up to compton all day\n",
      "Kendrick Lamar probably sang that.\n",
      "_____________________________________________\n",
      "Try your lyric here: i ran up to new york all day\n",
      "Bob Dylan probably sang that.\n",
      "_____________________________________________\n",
      "Try your lyric here: ()\n",
      "Bob Dylan probably sang that.\n",
      "_____________________________________________\n",
      "Try your lyric here: ()\n",
      "Bob Dylan probably sang that.\n",
      "_____________________________________________\n"
     ]
    }
   ],
   "source": [
    "generate_prediction(vectoriser, rf_phrase, 5)"
   ]
  },
  {
   "cell_type": "code",
   "execution_count": null,
   "metadata": {},
   "outputs": [],
   "source": []
  }
 ],
 "metadata": {
  "kernelspec": {
   "display_name": "textacy",
   "language": "python",
   "name": "textacy"
  },
  "language_info": {
   "codemirror_mode": {
    "name": "ipython",
    "version": 3
   },
   "file_extension": ".py",
   "mimetype": "text/x-python",
   "name": "python",
   "nbconvert_exporter": "python",
   "pygments_lexer": "ipython3",
   "version": "3.6.8"
  },
  "varInspector": {
   "cols": {
    "lenName": 16,
    "lenType": 16,
    "lenVar": 40
   },
   "kernels_config": {
    "python": {
     "delete_cmd_postfix": "",
     "delete_cmd_prefix": "del ",
     "library": "var_list.py",
     "varRefreshCmd": "print(var_dic_list())"
    },
    "r": {
     "delete_cmd_postfix": ") ",
     "delete_cmd_prefix": "rm(",
     "library": "var_list.r",
     "varRefreshCmd": "cat(var_dic_list()) "
    }
   },
   "types_to_exclude": [
    "module",
    "function",
    "builtin_function_or_method",
    "instance",
    "_Feature"
   ],
   "window_display": false
  }
 },
 "nbformat": 4,
 "nbformat_minor": 2
}
