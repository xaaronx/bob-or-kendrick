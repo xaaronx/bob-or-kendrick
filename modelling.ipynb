{
 "cells": [
  {
   "cell_type": "markdown",
   "metadata": {},
   "source": [
    "# Bob or Kendrick\n",
    "\n",
    "Two of the great wordsmiths of the modern era. Any fan would be able discern the artist from the lyrics, but can a machine?\n",
    "\n",
    "This notebook will look to adopt a few different methods to answer this question.\n",
    "\n",
    "Methods:\n",
    "- Sentiment-based\n",
    "- Language-based\n",
    "\n",
    "The basic version of the model will"
   ]
  },
  {
   "cell_type": "code",
   "execution_count": 195,
   "metadata": {
    "ExecuteTime": {
     "end_time": "2020-04-22T22:45:37.262448Z",
     "start_time": "2020-04-22T22:45:37.091655Z"
    }
   },
   "outputs": [],
   "source": [
    "import pandas as pd\n",
    "import numpy as np\n",
    "import re\n",
    "\n",
    "import seaborn as sns\n",
    "import matplotlib.pyplot as plt\n",
    "\n",
    "from sklearn.preprocessing import StandardScaler\n",
    "from sklearn.model_selection import train_test_split, GridSearchCV\n",
    "from sklearn.ensemble import RandomForestClassifier\n",
    "from sklearn.metrics import classification_report, confusion_matrix\n",
    "from sklearn.svm import LinearSVC\n",
    "\n",
    "from sklearn.utils import class_weight\n",
    "from sklearn.feature_extraction.text import TfidfVectorizer\n",
    "\n",
    "import textacy\n",
    "from vaderSentiment.vaderSentiment import SentimentIntensityAnalyzer\n",
    "import tqdm"
   ]
  },
  {
   "cell_type": "markdown",
   "metadata": {},
   "source": [
    "## Data Import"
   ]
  },
  {
   "cell_type": "code",
   "execution_count": 142,
   "metadata": {
    "ExecuteTime": {
     "end_time": "2020-04-22T19:57:26.487560Z",
     "start_time": "2020-04-22T19:57:26.464194Z"
    }
   },
   "outputs": [],
   "source": [
    "bob = pd.read_csv('bob.csv', index_col=0)\n",
    "ken = pd.read_csv('kendrick.csv', index_col=0)"
   ]
  },
  {
   "cell_type": "code",
   "execution_count": 143,
   "metadata": {
    "ExecuteTime": {
     "end_time": "2020-04-22T19:57:27.284306Z",
     "start_time": "2020-04-22T19:57:27.275545Z"
    }
   },
   "outputs": [],
   "source": [
    "df = pd.concat([bob, ken], ignore_index=True)\n",
    "del bob, ken"
   ]
  },
  {
   "cell_type": "markdown",
   "metadata": {},
   "source": [
    "## Data Prep"
   ]
  },
  {
   "cell_type": "code",
   "execution_count": 129,
   "metadata": {
    "ExecuteTime": {
     "end_time": "2020-04-22T19:55:03.038135Z",
     "start_time": "2020-04-22T19:55:03.034187Z"
    }
   },
   "outputs": [],
   "source": [
    "def drop_breaks(lyrics):\n",
    "    '''\n",
    "    Strip our section marker from lyrics i.e. ['Verse 1'] and line breaks\n",
    "    '''\n",
    "    return re.sub(r'\\[(.*?)\\]', '', lyrics)"
   ]
  },
  {
   "cell_type": "code",
   "execution_count": 150,
   "metadata": {
    "ExecuteTime": {
     "end_time": "2020-04-22T22:07:18.705601Z",
     "start_time": "2020-04-22T22:07:18.701198Z"
    }
   },
   "outputs": [],
   "source": [
    "def remove_digits(lyrics):\n",
    "    '''\n",
    "    Strip our section marker from lyrics i.e. ['Verse 1'] and line breaks\n",
    "    '''\n",
    "    return re.sub(r'[0-9]', '', lyrics)"
   ]
  },
  {
   "cell_type": "code",
   "execution_count": 96,
   "metadata": {
    "ExecuteTime": {
     "end_time": "2020-04-22T19:39:21.347984Z",
     "start_time": "2020-04-22T19:39:21.338500Z"
    }
   },
   "outputs": [],
   "source": [
    "def process_text(songs, pos=False):\n",
    "    '''\n",
    "    Cleans sentences from stop words and punctuation and filters by pos tags if given\n",
    "    returns cleaned sentence and tokenized sentence\n",
    "    '''   \n",
    "    nlp = textacy.load_spacy_lang('en_core_web_sm')\n",
    "    \n",
    "    texts, tokenised_texts = [], []\n",
    "        \n",
    "    if pos: \n",
    "        for lyrics in tqdm.notebook.tqdm(nlp.pipe(songs, batch_size=200)):\n",
    "            assert lyrics.is_parsed\n",
    "            tokens = [token\n",
    "                      for token in lyrics \n",
    "                      if token.is_stop == False\n",
    "                      and token.pos_ in pos\n",
    "                      and token.pos_ != 'PUNCT']\n",
    "            doc_ = ''\n",
    "            for token in tokens:\n",
    "                doc_ += str(token) + ' '\n",
    "            \n",
    "            doc_ = doc_.strip()\n",
    "            texts.append(doc_)\n",
    "            tokenised_texts.append(tokens)\n",
    "    \n",
    "    \n",
    "    else:    \n",
    "        for lyrics in tqdm.notebook.tqdm(nlp.pipe(songs, batch_size=200)):\n",
    "            assert lyrics.is_parsed\n",
    "            tokens = [token\n",
    "                      for token in lyrics \n",
    "                      if token.is_stop == False\n",
    "                      and token.pos_ != 'PUNCT']\n",
    "            doc_ = ''\n",
    "            for token in tokens:\n",
    "                doc_ += str(token) + ' '\n",
    "            \n",
    "            doc_ = doc_.strip()\n",
    "            texts.append(doc_)\n",
    "            tokenised_texts.append(tokens)\n",
    "            \n",
    "    return texts, tokenised_texts"
   ]
  },
  {
   "cell_type": "code",
   "execution_count": 298,
   "metadata": {
    "ExecuteTime": {
     "end_time": "2020-04-23T09:21:23.758686Z",
     "start_time": "2020-04-23T09:21:23.753640Z"
    }
   },
   "outputs": [],
   "source": [
    "df['song'] = df.song.str.replace('\\n',' ')\\"
   ]
  },
  {
   "cell_type": "code",
   "execution_count": 151,
   "metadata": {
    "ExecuteTime": {
     "end_time": "2020-04-22T22:07:51.104384Z",
     "start_time": "2020-04-22T22:07:20.116271Z"
    }
   },
   "outputs": [
    {
     "data": {
      "application/vnd.jupyter.widget-view+json": {
       "model_id": "cf76788e1a8b429ebcb7a8350d4b17d7",
       "version_major": 2,
       "version_minor": 0
      },
      "text/plain": [
       "HBox(children=(FloatProgress(value=1.0, bar_style='info', max=1.0), HTML(value='')))"
      ]
     },
     "metadata": {},
     "output_type": "display_data"
    },
    {
     "name": "stdout",
     "output_type": "stream",
     "text": [
      "\n"
     ]
    }
   ],
   "source": [
    "pos = ['NOUN', 'ADJ', 'VERB', 'ADV']\n",
    "\n",
    "df['lyrics'] = df.lyrics.str.replace('\\n',' ')\\\n",
    "                            .apply(lambda x: drop_breaks(x))\\\n",
    "                            .apply(lambda x: remove_digits(x))\\\n",
    "                            .str.lower()\n",
    "\n",
    "processed_quotes, tokenised_quotes = process_text(df.lyrics)\n",
    "\n",
    "df['lyrics_processed'] = processed_quotes\n",
    "df['lyrics_tokenised'] = tokenised_quotes"
   ]
  },
  {
   "cell_type": "code",
   "execution_count": 155,
   "metadata": {
    "ExecuteTime": {
     "end_time": "2020-04-22T22:08:05.960314Z",
     "start_time": "2020-04-22T22:08:05.941846Z"
    }
   },
   "outputs": [
    {
     "data": {
      "text/html": [
       "<div>\n",
       "<style scoped>\n",
       "    .dataframe tbody tr th:only-of-type {\n",
       "        vertical-align: middle;\n",
       "    }\n",
       "\n",
       "    .dataframe tbody tr th {\n",
       "        vertical-align: top;\n",
       "    }\n",
       "\n",
       "    .dataframe thead th {\n",
       "        text-align: right;\n",
       "    }\n",
       "</style>\n",
       "<table border=\"1\" class=\"dataframe\">\n",
       "  <thead>\n",
       "    <tr style=\"text-align: right;\">\n",
       "      <th></th>\n",
       "      <th>artist</th>\n",
       "      <th>song</th>\n",
       "      <th>lyrics</th>\n",
       "      <th>lyrics_processed</th>\n",
       "      <th>lyrics_tokenised</th>\n",
       "    </tr>\n",
       "  </thead>\n",
       "  <tbody>\n",
       "    <tr>\n",
       "      <th>0</th>\n",
       "      <td>Bob Dylan</td>\n",
       "      <td>Murder Most Foul</td>\n",
       "      <td>it was a dark day in dallas, november ' a da...</td>\n",
       "      <td>dark day dallas november day live   infamy pre...</td>\n",
       "      <td>[  , dark, day, dallas, november, day, live,  ...</td>\n",
       "    </tr>\n",
       "    <tr>\n",
       "      <th>1</th>\n",
       "      <td>Bob Dylan</td>\n",
       "      <td>Blowin’ in the Wind</td>\n",
       "      <td>how many roads must a man walk down before y...</td>\n",
       "      <td>roads man walk man seas white dove sail sleeps...</td>\n",
       "      <td>[  , roads, man, walk, man, seas, white, dove,...</td>\n",
       "    </tr>\n",
       "  </tbody>\n",
       "</table>\n",
       "</div>"
      ],
      "text/plain": [
       "      artist                 song  \\\n",
       "0  Bob Dylan     Murder Most Foul   \n",
       "1  Bob Dylan  Blowin’ in the Wind   \n",
       "\n",
       "                                              lyrics  \\\n",
       "0    it was a dark day in dallas, november ' a da...   \n",
       "1    how many roads must a man walk down before y...   \n",
       "\n",
       "                                    lyrics_processed  \\\n",
       "0  dark day dallas november day live   infamy pre...   \n",
       "1  roads man walk man seas white dove sail sleeps...   \n",
       "\n",
       "                                    lyrics_tokenised  \n",
       "0  [  , dark, day, dallas, november, day, live,  ...  \n",
       "1  [  , roads, man, walk, man, seas, white, dove,...  "
      ]
     },
     "execution_count": 155,
     "metadata": {},
     "output_type": "execute_result"
    }
   ],
   "source": [
    "df.head(2)"
   ]
  },
  {
   "cell_type": "code",
   "execution_count": 41,
   "metadata": {
    "ExecuteTime": {
     "end_time": "2020-04-22T19:04:21.095165Z",
     "start_time": "2020-04-22T19:04:21.041149Z"
    }
   },
   "outputs": [
    {
     "data": {
      "text/plain": [
       "Bob Dylan         0.666667\n",
       "Kendrick Lamar    0.333333\n",
       "Name: artist, dtype: float64"
      ]
     },
     "execution_count": 41,
     "metadata": {},
     "output_type": "execute_result"
    }
   ],
   "source": [
    "df['artist'].value_counts(normalize = True)"
   ]
  },
  {
   "cell_type": "markdown",
   "metadata": {},
   "source": [
    "## Data Exploration and Viz"
   ]
  },
  {
   "cell_type": "code",
   "execution_count": 245,
   "metadata": {
    "ExecuteTime": {
     "end_time": "2020-04-23T08:53:20.965275Z",
     "start_time": "2020-04-23T08:53:20.957774Z"
    }
   },
   "outputs": [],
   "source": [
    "def plot_confusion(cm):\n",
    "    plt.figure(figsize=(6,6))\n",
    "    ax = sns.heatmap(cm, annot=True, fmt=\".0f\", linewidths=.5, square = True,  cmap = 'coolwarm')\n",
    "    plt.ylabel('Actual label');\n",
    "    plt.xlabel('Predicted label');\n",
    "    plt.xticks([i-0.5 for i in range(1,3)], ['Bob Dylan', 'Kendrick Lamar'])\n",
    "    plt.yticks([i-0.5 for i in range(1,3)], ['Bob Dylan', 'Kendrick Lamar'])\n",
    "    b, t = plt.ylim() \n",
    "    b += 0.5 \n",
    "    t -= 0.5 \n",
    "    plt.ylim(b, t) \n",
    "    plt.show()\n",
    "    \n"
   ]
  },
  {
   "cell_type": "code",
   "execution_count": 221,
   "metadata": {
    "ExecuteTime": {
     "end_time": "2020-04-23T08:40:23.694086Z",
     "start_time": "2020-04-23T08:40:23.689485Z"
    }
   },
   "outputs": [],
   "source": [
    "def vectorise(ngram_range, max_feats, input_data):\n",
    "    '''\n",
    "    Returns non-sparse format. With a larger dataset rather return\n",
    "    '''\n",
    "    vect = TfidfVectorizer(ngram_range, max_features=max_feats)\n",
    "    \n",
    "    return pd.DataFrame(vect.fit_transform(input_data).todense(), columns=vect.get_feature_names())"
   ]
  },
  {
   "cell_type": "code",
   "execution_count": 229,
   "metadata": {
    "ExecuteTime": {
     "end_time": "2020-04-23T08:43:02.665554Z",
     "start_time": "2020-04-23T08:43:02.660943Z"
    }
   },
   "outputs": [],
   "source": [
    "def generate_class_weights(y):\n",
    "    \n",
    "    return dict(zip(list(np.unique(y)), \n",
    "                    class_weight.compute_class_weight('balanced', np.unique(y), y)))"
   ]
  },
  {
   "cell_type": "code",
   "execution_count": 231,
   "metadata": {
    "ExecuteTime": {
     "end_time": "2020-04-23T08:43:17.800921Z",
     "start_time": "2020-04-23T08:43:17.794740Z"
    }
   },
   "outputs": [],
   "source": [
    "class_weights = generate_class_weights(df['artist'])"
   ]
  },
  {
   "cell_type": "code",
   "execution_count": 232,
   "metadata": {
    "ExecuteTime": {
     "end_time": "2020-04-23T08:46:00.600739Z",
     "start_time": "2020-04-23T08:46:00.492953Z"
    }
   },
   "outputs": [],
   "source": [
    "X = vectorise(ngram_range=(1, 2), max_feats=500, input_data=df['lyrics_processed'])"
   ]
  },
  {
   "cell_type": "code",
   "execution_count": 236,
   "metadata": {
    "ExecuteTime": {
     "end_time": "2020-04-23T08:48:24.961844Z",
     "start_time": "2020-04-23T08:48:24.952723Z"
    }
   },
   "outputs": [],
   "source": [
    "X_train, X_test, y_train, y_test = train_test_split(X, df['artist'],\n",
    "                                                    test_size=0.2,\n",
    "                                                    random_state=1,\n",
    "                                                    shuffle=True,\n",
    "                                                    stratify=df['artist'])"
   ]
  },
  {
   "cell_type": "code",
   "execution_count": 255,
   "metadata": {
    "ExecuteTime": {
     "end_time": "2020-04-23T09:01:13.951128Z",
     "start_time": "2020-04-23T09:00:53.954291Z"
    }
   },
   "outputs": [
    {
     "name": "stdout",
     "output_type": "stream",
     "text": [
      "0.9458333333333333 {'max_depth': 5, 'n_estimators': 100}\n"
     ]
    }
   ],
   "source": [
    "param_grid = {\n",
    "    \n",
    "    'n_estimators':[50,100,150,200,250,300],\n",
    "    'max_depth':[5,7,10,15]\n",
    "    \n",
    "}\n",
    "\n",
    "grid = GridSearchCV(RandomForestClassifier(random_state=1,\n",
    "                                           class_weight=class_weights),\n",
    "                                           param_grid,\n",
    "                                           cv=5,\n",
    "                                           n_jobs=2).fit(X_train, y_train)\n",
    "\n",
    "print(grid.best_score_, grid.best_params_)"
   ]
  },
  {
   "cell_type": "code",
   "execution_count": 256,
   "metadata": {
    "ExecuteTime": {
     "end_time": "2020-04-23T09:01:18.062099Z",
     "start_time": "2020-04-23T09:01:17.738754Z"
    }
   },
   "outputs": [
    {
     "data": {
      "image/png": "[encoded data removed]",
      "text/plain": [
       "<Figure size 432x432 with 2 Axes>"
      ]
     },
     "metadata": {
      "needs_background": "light"
     },
     "output_type": "display_data"
    }
   ],
   "source": [
    "clf = RandomForestClassifier(random_state = 1,\n",
    "                             max_depth=grid.best_params_['max_depth'],\n",
    "                             n_estimators=grid.best_params_['n_estimators'],\n",
    "                             class_weight=class_weights).fit(X_train, y_train)\n",
    "\n",
    "preds = clf.predict(X_test)\n",
    "cm_rf = confusion_matrix(y_test, preds)\n",
    "plot_confusion(cm_rf)"
   ]
  },
  {
   "cell_type": "code",
   "execution_count": 257,
   "metadata": {
    "ExecuteTime": {
     "end_time": "2020-04-23T09:01:26.161080Z",
     "start_time": "2020-04-23T09:01:26.144144Z"
    }
   },
   "outputs": [],
   "source": [
    "imps = pd.DataFrame({'importance':clf.feature_importances_,\n",
    "                     'feature':X_train.columns})"
   ]
  },
  {
   "cell_type": "code",
   "execution_count": 260,
   "metadata": {
    "ExecuteTime": {
     "end_time": "2020-04-23T09:01:46.549191Z",
     "start_time": "2020-04-23T09:01:46.533173Z"
    }
   },
   "outputs": [
    {
     "data": {
      "text/html": [
       "<div>\n",
       "<style scoped>\n",
       "    .dataframe tbody tr th:only-of-type {\n",
       "        vertical-align: middle;\n",
       "    }\n",
       "\n",
       "    .dataframe tbody tr th {\n",
       "        vertical-align: top;\n",
       "    }\n",
       "\n",
       "    .dataframe thead th {\n",
       "        text-align: right;\n",
       "    }\n",
       "</style>\n",
       "<table border=\"1\" class=\"dataframe\">\n",
       "  <thead>\n",
       "    <tr style=\"text-align: right;\">\n",
       "      <th></th>\n",
       "      <th>importance</th>\n",
       "      <th>feature</th>\n",
       "    </tr>\n",
       "  </thead>\n",
       "  <tbody>\n",
       "    <tr>\n",
       "      <th>57</th>\n",
       "      <td>0.018822</td>\n",
       "      <td>cause</td>\n",
       "    </tr>\n",
       "    <tr>\n",
       "      <th>108</th>\n",
       "      <td>0.020923</td>\n",
       "      <td>em</td>\n",
       "    </tr>\n",
       "    <tr>\n",
       "      <th>167</th>\n",
       "      <td>0.022045</td>\n",
       "      <td>got</td>\n",
       "    </tr>\n",
       "    <tr>\n",
       "      <th>493</th>\n",
       "      <td>0.023069</td>\n",
       "      <td>yeah</td>\n",
       "    </tr>\n",
       "    <tr>\n",
       "      <th>148</th>\n",
       "      <td>0.023617</td>\n",
       "      <td>fuck</td>\n",
       "    </tr>\n",
       "    <tr>\n",
       "      <th>2</th>\n",
       "      <td>0.031969</td>\n",
       "      <td>ai</td>\n",
       "    </tr>\n",
       "    <tr>\n",
       "      <th>25</th>\n",
       "      <td>0.053877</td>\n",
       "      <td>bitch</td>\n",
       "    </tr>\n",
       "    <tr>\n",
       "      <th>371</th>\n",
       "      <td>0.059476</td>\n",
       "      <td>shit</td>\n",
       "    </tr>\n",
       "    <tr>\n",
       "      <th>462</th>\n",
       "      <td>0.061240</td>\n",
       "      <td>wanna</td>\n",
       "    </tr>\n",
       "    <tr>\n",
       "      <th>296</th>\n",
       "      <td>0.065099</td>\n",
       "      <td>nigga</td>\n",
       "    </tr>\n",
       "  </tbody>\n",
       "</table>\n",
       "</div>"
      ],
      "text/plain": [
       "     importance feature\n",
       "57     0.018822   cause\n",
       "108    0.020923      em\n",
       "167    0.022045     got\n",
       "493    0.023069    yeah\n",
       "148    0.023617    fuck\n",
       "2      0.031969      ai\n",
       "25     0.053877   bitch\n",
       "371    0.059476    shit\n",
       "462    0.061240   wanna\n",
       "296    0.065099   nigga"
      ]
     },
     "execution_count": 260,
     "metadata": {},
     "output_type": "execute_result"
    }
   ],
   "source": [
    "imps.sort_values('importance').tail(10)"
   ]
  },
  {
   "cell_type": "code",
   "execution_count": 271,
   "metadata": {
    "ExecuteTime": {
     "end_time": "2020-04-23T09:05:17.800778Z",
     "start_time": "2020-04-23T09:05:17.780409Z"
    }
   },
   "outputs": [],
   "source": [
    "results = pd.DataFrame({'actual':y_test,\n",
    "              'predicted':preds\n",
    "             }, index=y_test.index)\n",
    "\n",
    "results['lyrics'], results['song'] = df['lyrics'], df['song']"
   ]
  },
  {
   "cell_type": "code",
   "execution_count": 274,
   "metadata": {
    "ExecuteTime": {
     "end_time": "2020-04-23T09:06:24.852724Z",
     "start_time": "2020-04-23T09:06:24.847142Z"
    }
   },
   "outputs": [],
   "source": [
    "mistakes = results[results['actual']!=results['predicted']]"
   ]
  },
  {
   "cell_type": "code",
   "execution_count": 299,
   "metadata": {
    "ExecuteTime": {
     "end_time": "2020-04-23T09:21:36.023531Z",
     "start_time": "2020-04-23T09:21:36.015883Z"
    }
   },
   "outputs": [
    {
     "name": "stdout",
     "output_type": "stream",
     "text": [
      "Song: Black Panther\n",
      "   \n",
      "  (why i go easy?) (know why i go easy) wait    king of my city, king of my country, king of my homeland king of the filthy, king of the fallen, we livin' again king of the shooters, looters, boosters, and ghettos poppin' king of the past, present, future, my ancestors watchin' king of the culture, king of the soldiers, king of the bloodshed king of the wisdom, king of the ocean, king of the respect king of the optimistics and dreamers that go and get it king of the winner's district and geniuses with conviction king of the fighters, king of the fathers, king of the belated king of the answer, king of the problem, king of the forsaken king of the empathy, you resent me, king of remorse king of my enemies, may they fall defeat, i rejoice king of the skyscrapers, dodgin' haters, broke religion    nine faces, go against 'em, i erased 'em with precision i embrace them with collision, kings did it king's vision, black panther, king kendrick, all hail the king! i dropped a million tears i know several responsibilities put me here i don't pedal backwards, but i live old-fashioned the lens that i'm lookin' through won't prescribe me the right glasses, masses are now free ashes i'm dumpin' out, 'bout to spread all 'cross seas sisters and brothers in unison, not because of me because we don't glue with the opposition, we glue with peace but still'd fuck up your organization if any beef what do you stand for? are you a activist? what are your city plans for? are you a accident? are you just in the way? your native tongue contradictin' what your body language say are you a king or you jokin'? are you a king or you posin'?    are you a king or you smokin' bowl rocks to keep you open? because the king don't cry, king don't die king don't lie, king give heart, king get by, king don't fall kingdom come, when i come, you know why king! king! king! king! king! i am t'challa\n",
      "  \n",
      "Song: ​untitled 04 | 08.14.2014.\n",
      "   \n",
      "  they say the government mislead the youth, youth, youth, youth (tell 'em when you went to the park and everybody came back and...) and welfare don't mean well for you, you, you, you (what about when you tried to do a side for that but you...) they tell me that my bill's past due, due, due, due (talk about the charge you got...) and preacher man don't always tell the truth, truth, truth, truth (do you believe in god? if you don't, it's cool)    (but) head is the answer, head is the future don't second guess yourself (don't tell them when you second guess yourself i need you in the kitchen now i forgot...) come on give me some help, hey head is the answer, do it for the future, girl    don't second guess yourself come on, give me some help and i just wanna and i just wanna straight up eyes with my head and i can't use some help straight up    head is the future\n",
      "  \n"
     ]
    }
   ],
   "source": [
    "for key, value in dict(zip(list(mistakes['song'].values), list(mistakes['lyrics'].values))).items():\n",
    "    print('Song: ' + key)\n",
    "    print('   ')\n",
    "    print(value)\n",
    "    print('  ')"
   ]
  },
  {
   "cell_type": "code",
   "execution_count": 247,
   "metadata": {
    "ExecuteTime": {
     "end_time": "2020-04-23T08:53:42.779423Z",
     "start_time": "2020-04-23T08:53:42.769657Z"
    }
   },
   "outputs": [
    {
     "name": "stdout",
     "output_type": "stream",
     "text": [
      "                precision    recall  f1-score   support\n",
      "\n",
      "     Bob Dylan       0.95      1.00      0.98        40\n",
      "Kendrick Lamar       1.00      0.90      0.95        20\n",
      "\n",
      "     micro avg       0.97      0.97      0.97        60\n",
      "     macro avg       0.98      0.95      0.96        60\n",
      "  weighted avg       0.97      0.97      0.97        60\n",
      "\n"
     ]
    }
   ],
   "source": [
    "print(classification_report(y_test, preds))"
   ]
  },
  {
   "cell_type": "markdown",
   "metadata": {},
   "source": [
    "## Model Optimised for Classifying Song"
   ]
  },
  {
   "cell_type": "code",
   "execution_count": null,
   "metadata": {},
   "outputs": [],
   "source": []
  },
  {
   "cell_type": "markdown",
   "metadata": {},
   "source": [
    "## Model Optimised for Classifying Lyric"
   ]
  },
  {
   "cell_type": "code",
   "execution_count": 296,
   "metadata": {
    "ExecuteTime": {
     "end_time": "2020-04-23T09:12:52.599701Z",
     "start_time": "2020-04-23T09:12:52.593618Z"
    }
   },
   "outputs": [],
   "source": [
    "def gather_lyric():\n",
    "\n",
    "    lyric=input('Try your lyric here: ')\n",
    "    \n",
    "    return lyric"
   ]
  },
  {
   "cell_type": "code",
   "execution_count": 297,
   "metadata": {
    "ExecuteTime": {
     "end_time": "2020-04-23T09:12:59.148500Z",
     "start_time": "2020-04-23T09:12:56.567477Z"
    }
   },
   "outputs": [
    {
     "name": "stdout",
     "output_type": "stream",
     "text": [
      "Try your lyric here:Dog\n"
     ]
    },
    {
     "data": {
      "text/plain": [
       "'Dog'"
      ]
     },
     "execution_count": 297,
     "metadata": {},
     "output_type": "execute_result"
    }
   ],
   "source": [
    "gather_lyric()"
   ]
  },
  {
   "cell_type": "code",
   "execution_count": null,
   "metadata": {},
   "outputs": [],
   "source": []
  }
 ],
 "metadata": {
  "kernelspec": {
   "display_name": "textacy",
   "language": "python",
   "name": "textacy"
  },
  "language_info": {
   "codemirror_mode": {
    "name": "ipython",
    "version": 3
   },
   "file_extension": ".py",
   "mimetype": "text/x-python",
   "name": "python",
   "nbconvert_exporter": "python",
   "pygments_lexer": "ipython3",
   "version": "3.6.8"
  },
  "varInspector": {
   "cols": {
    "lenName": 16,
    "lenType": 16,
    "lenVar": 40
   },
   "kernels_config": {
    "python": {
     "delete_cmd_postfix": "",
     "delete_cmd_prefix": "del ",
     "library": "var_list.py",
     "varRefreshCmd": "print(var_dic_list())"
    },
    "r": {
     "delete_cmd_postfix": ") ",
     "delete_cmd_prefix": "rm(",
     "library": "var_list.r",
     "varRefreshCmd": "cat(var_dic_list()) "
    }
   },
   "types_to_exclude": [
    "module",
    "function",
    "builtin_function_or_method",
    "instance",
    "_Feature"
   ],
   "window_display": false
  }
 },
 "nbformat": 4,
 "nbformat_minor": 2
}
