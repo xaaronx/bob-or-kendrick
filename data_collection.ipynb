{
 "cells": [
  {
   "cell_type": "markdown",
   "metadata": {},
   "source": [
    "# Collecting data from Genius.com"
   ]
  },
  {
   "cell_type": "code",
   "execution_count": null,
   "metadata": {
    "ExecuteTime": {
     "end_time": "2020-04-22T15:48:05.341307Z",
     "start_time": "2020-04-22T15:48:04.830039Z"
    }
   },
   "outputs": [],
   "source": [
    "import lyricsgenius as genius\n",
    "import pandas as pd\n",
    "import time"
   ]
  },
  {
   "cell_type": "code",
   "execution_count": null,
   "metadata": {
    "ExecuteTime": {
     "end_time": "2020-04-22T15:48:05.920257Z",
     "start_time": "2020-04-22T15:48:05.916762Z"
    }
   },
   "outputs": [],
   "source": [
    "api = genius.Genius('[insert api key here]')"
   ]
  },
  {
   "cell_type": "code",
   "execution_count": null,
   "metadata": {
    "ExecuteTime": {
     "end_time": "2020-04-22T15:48:06.796649Z",
     "start_time": "2020-04-22T15:48:06.793166Z"
    }
   },
   "outputs": [],
   "source": [
    "artists = ['Bob Dylan', 'Kendrick Lamar']\n",
    "max_songs = 200"
   ]
  },
  {
   "cell_type": "code",
   "execution_count": null,
   "metadata": {
    "ExecuteTime": {
     "end_time": "2020-04-22T16:14:34.848189Z",
     "start_time": "2020-04-22T15:49:06.302036Z"
    }
   },
   "outputs": [],
   "source": [
    "df = []\n",
    "for name in artists:\n",
    "    try:\n",
    "        artist_songs = api.search_artist(name, max_songs=max_songs)\n",
    "        for i in range(len(artist_songs)):\n",
    "            try:\n",
    "                df.append([artist_songs.songs[i].artist, artist_songs.songs[i].title , artist_songs.songs[i].lyrics])\n",
    "                time.sleep(1)\n",
    "            except:\n",
    "                print('Failed to find {} by {}'.format(artist_songs.songs[i].artist, artist_songs.songs[i].title))\n",
    "                time.sleep(1)\n",
    "    except:\n",
    "        print('Failed on {}'.format(name))\n"
   ]
  },
  {
   "cell_type": "code",
   "execution_count": null,
   "metadata": {
    "ExecuteTime": {
     "end_time": "2020-04-22T16:18:07.226345Z",
     "start_time": "2020-04-22T16:18:07.211404Z"
    }
   },
   "outputs": [],
   "source": [
    "df = pd.DataFrame(df, columns=['artist','song','lyrics'])"
   ]
  },
  {
   "cell_type": "code",
   "execution_count": null,
   "metadata": {
    "ExecuteTime": {
     "end_time": "2020-04-22T16:18:45.234499Z",
     "start_time": "2020-04-22T16:18:45.210054Z"
    }
   },
   "outputs": [],
   "source": [
    "df.to_csv('lyrics.csv')"
   ]
  }
 ],
 "metadata": {
  "kernelspec": {
   "display_name": "Python 3",
   "language": "python",
   "name": "python3"
  },
  "language_info": {
   "codemirror_mode": {
    "name": "ipython",
    "version": 3
   },
   "file_extension": ".py",
   "mimetype": "text/x-python",
   "name": "python",
   "nbconvert_exporter": "python",
   "pygments_lexer": "ipython3",
   "version": "3.7.3"
  },
  "varInspector": {
   "cols": {
    "lenName": 16,
    "lenType": 16,
    "lenVar": 40
   },
   "kernels_config": {
    "python": {
     "delete_cmd_postfix": "",
     "delete_cmd_prefix": "del ",
     "library": "var_list.py",
     "varRefreshCmd": "print(var_dic_list())"
    },
    "r": {
     "delete_cmd_postfix": ") ",
     "delete_cmd_prefix": "rm(",
     "library": "var_list.r",
     "varRefreshCmd": "cat(var_dic_list()) "
    }
   },
   "types_to_exclude": [
    "module",
    "function",
    "builtin_function_or_method",
    "instance",
    "_Feature"
   ],
   "window_display": false
  }
 },
 "nbformat": 4,
 "nbformat_minor": 2
}
